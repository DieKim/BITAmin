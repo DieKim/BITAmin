{
 "cells": [
  {
   "cell_type": "code",
   "execution_count": 2,
   "metadata": {
    "colab": {},
    "colab_type": "code",
    "id": "B3A6-ZcZiqbV"
   },
   "outputs": [],
   "source": [
    "import pandas as pd\n",
    "from pandas import Series, DataFrame\n",
    "import numpy as np\n",
    "import warnings\n",
    "warnings.filterwarnings(\"ignore\")"
   ]
  },
  {
   "cell_type": "code",
   "execution_count": 3,
   "metadata": {
    "scrolled": true
   },
   "outputs": [],
   "source": [
    "data = pd.read_csv('C:/Users/USER/BITAmin/data/bus_runtime_2000.csv') "
   ]
  },
  {
   "cell_type": "markdown",
   "metadata": {},
   "source": [
    "# 문제 1-1 \n",
    "data에서 date, now_station, now_arrive_time 열을 뽑음과 동시에 행을 처음부터 6개를 뽑아 df에 저장하고 csv파일로 내보내세요!"
   ]
  },
  {
   "cell_type": "code",
   "execution_count": 3,
   "metadata": {},
   "outputs": [],
   "source": [
    "df = data.loc[:5, ['date','now_station', 'now_arrive_time']]\n",
    "df.to_csv('df.csv', encoding='cp949', index=False)"
   ]
  },
  {
   "cell_type": "markdown",
   "metadata": {},
   "source": [
    "# 문제 1-2\n",
    "방금 내보낸 csv파일을 다시 읽어 df에 저장하세요!"
   ]
  },
  {
   "cell_type": "code",
   "execution_count": 4,
   "metadata": {},
   "outputs": [
    {
     "data": {
      "text/html": [
       "<div>\n",
       "<style scoped>\n",
       "    .dataframe tbody tr th:only-of-type {\n",
       "        vertical-align: middle;\n",
       "    }\n",
       "\n",
       "    .dataframe tbody tr th {\n",
       "        vertical-align: top;\n",
       "    }\n",
       "\n",
       "    .dataframe thead th {\n",
       "        text-align: right;\n",
       "    }\n",
       "</style>\n",
       "<table border=\"1\" class=\"dataframe\">\n",
       "  <thead>\n",
       "    <tr style=\"text-align: right;\">\n",
       "      <th></th>\n",
       "      <th>date</th>\n",
       "      <th>now_station</th>\n",
       "      <th>now_arrive_time</th>\n",
       "    </tr>\n",
       "  </thead>\n",
       "  <tbody>\n",
       "    <tr>\n",
       "      <th>0</th>\n",
       "      <td>2019-10-15</td>\n",
       "      <td>제주대학교입구</td>\n",
       "      <td>06시</td>\n",
       "    </tr>\n",
       "    <tr>\n",
       "      <th>1</th>\n",
       "      <td>2019-10-15</td>\n",
       "      <td>제대마을</td>\n",
       "      <td>06시</td>\n",
       "    </tr>\n",
       "    <tr>\n",
       "      <th>2</th>\n",
       "      <td>2019-10-15</td>\n",
       "      <td>제대아파트</td>\n",
       "      <td>06시</td>\n",
       "    </tr>\n",
       "    <tr>\n",
       "      <th>3</th>\n",
       "      <td>2019-10-15</td>\n",
       "      <td>남국원(아라방면)</td>\n",
       "      <td>06시</td>\n",
       "    </tr>\n",
       "    <tr>\n",
       "      <th>4</th>\n",
       "      <td>2019-10-15</td>\n",
       "      <td>도호동</td>\n",
       "      <td>07시</td>\n",
       "    </tr>\n",
       "    <tr>\n",
       "      <th>5</th>\n",
       "      <td>2019-10-15</td>\n",
       "      <td>한라중학교/부영아파트</td>\n",
       "      <td>07시</td>\n",
       "    </tr>\n",
       "  </tbody>\n",
       "</table>\n",
       "</div>"
      ],
      "text/plain": [
       "         date  now_station now_arrive_time\n",
       "0  2019-10-15      제주대학교입구             06시\n",
       "1  2019-10-15         제대마을             06시\n",
       "2  2019-10-15        제대아파트             06시\n",
       "3  2019-10-15    남국원(아라방면)             06시\n",
       "4  2019-10-15          도호동             07시\n",
       "5  2019-10-15  한라중학교/부영아파트             07시"
      ]
     },
     "execution_count": 4,
     "metadata": {},
     "output_type": "execute_result"
    }
   ],
   "source": [
    "df = pd.read_csv('df.csv', encoding='cp949')\n",
    "df"
   ]
  },
  {
   "cell_type": "markdown",
   "metadata": {},
   "source": [
    "# 문제 1-3 \n",
    "df와 똑같은 데이터프레임을 dictionary를 활용해 만들어 df2에 할당해주세요. \n",
    "\n",
    "hint( values 를 활용하여 작성하시오.)"
   ]
  },
  {
   "cell_type": "code",
   "execution_count": 14,
   "metadata": {},
   "outputs": [
    {
     "data": {
      "text/html": [
       "<div>\n",
       "<style scoped>\n",
       "    .dataframe tbody tr th:only-of-type {\n",
       "        vertical-align: middle;\n",
       "    }\n",
       "\n",
       "    .dataframe tbody tr th {\n",
       "        vertical-align: top;\n",
       "    }\n",
       "\n",
       "    .dataframe thead th {\n",
       "        text-align: right;\n",
       "    }\n",
       "</style>\n",
       "<table border=\"1\" class=\"dataframe\">\n",
       "  <thead>\n",
       "    <tr style=\"text-align: right;\">\n",
       "      <th></th>\n",
       "      <th>date</th>\n",
       "      <th>now_station</th>\n",
       "      <th>now_arrive_time</th>\n",
       "    </tr>\n",
       "  </thead>\n",
       "  <tbody>\n",
       "    <tr>\n",
       "      <th>0</th>\n",
       "      <td>2019-10-15</td>\n",
       "      <td>제주대학교입구</td>\n",
       "      <td>06시</td>\n",
       "    </tr>\n",
       "    <tr>\n",
       "      <th>1</th>\n",
       "      <td>2019-10-15</td>\n",
       "      <td>제대마을</td>\n",
       "      <td>06시</td>\n",
       "    </tr>\n",
       "    <tr>\n",
       "      <th>2</th>\n",
       "      <td>2019-10-15</td>\n",
       "      <td>제대아파트</td>\n",
       "      <td>06시</td>\n",
       "    </tr>\n",
       "    <tr>\n",
       "      <th>3</th>\n",
       "      <td>2019-10-15</td>\n",
       "      <td>남국원(아라방면)</td>\n",
       "      <td>06시</td>\n",
       "    </tr>\n",
       "    <tr>\n",
       "      <th>4</th>\n",
       "      <td>2019-10-15</td>\n",
       "      <td>도호동</td>\n",
       "      <td>07시</td>\n",
       "    </tr>\n",
       "    <tr>\n",
       "      <th>5</th>\n",
       "      <td>2019-10-15</td>\n",
       "      <td>한라중학교/부영아파트</td>\n",
       "      <td>07시</td>\n",
       "    </tr>\n",
       "  </tbody>\n",
       "</table>\n",
       "</div>"
      ],
      "text/plain": [
       "         date  now_station now_arrive_time\n",
       "0  2019-10-15      제주대학교입구             06시\n",
       "1  2019-10-15         제대마을             06시\n",
       "2  2019-10-15        제대아파트             06시\n",
       "3  2019-10-15    남국원(아라방면)             06시\n",
       "4  2019-10-15          도호동             07시\n",
       "5  2019-10-15  한라중학교/부영아파트             07시"
      ]
     },
     "execution_count": 14,
     "metadata": {},
     "output_type": "execute_result"
    }
   ],
   "source": [
    "# 방법1\n",
    "df2 = pd.DataFrame(df.values, columns=['date', 'now_station', 'now_arrive_time'])\n",
    "df2"
   ]
  },
  {
   "cell_type": "code",
   "execution_count": 6,
   "metadata": {},
   "outputs": [
    {
     "data": {
      "text/html": [
       "<div>\n",
       "<style scoped>\n",
       "    .dataframe tbody tr th:only-of-type {\n",
       "        vertical-align: middle;\n",
       "    }\n",
       "\n",
       "    .dataframe tbody tr th {\n",
       "        vertical-align: top;\n",
       "    }\n",
       "\n",
       "    .dataframe thead th {\n",
       "        text-align: right;\n",
       "    }\n",
       "</style>\n",
       "<table border=\"1\" class=\"dataframe\">\n",
       "  <thead>\n",
       "    <tr style=\"text-align: right;\">\n",
       "      <th></th>\n",
       "      <th>date</th>\n",
       "      <th>now_station</th>\n",
       "      <th>now_arrive_time</th>\n",
       "    </tr>\n",
       "  </thead>\n",
       "  <tbody>\n",
       "    <tr>\n",
       "      <th>0</th>\n",
       "      <td>2019-10-15</td>\n",
       "      <td>제주대학교입구</td>\n",
       "      <td>06시</td>\n",
       "    </tr>\n",
       "    <tr>\n",
       "      <th>1</th>\n",
       "      <td>2019-10-15</td>\n",
       "      <td>제대마을</td>\n",
       "      <td>06시</td>\n",
       "    </tr>\n",
       "    <tr>\n",
       "      <th>2</th>\n",
       "      <td>2019-10-15</td>\n",
       "      <td>제대아파트</td>\n",
       "      <td>06시</td>\n",
       "    </tr>\n",
       "    <tr>\n",
       "      <th>3</th>\n",
       "      <td>2019-10-15</td>\n",
       "      <td>남국원(아라방면)</td>\n",
       "      <td>06시</td>\n",
       "    </tr>\n",
       "    <tr>\n",
       "      <th>4</th>\n",
       "      <td>2019-10-15</td>\n",
       "      <td>도호동</td>\n",
       "      <td>07시</td>\n",
       "    </tr>\n",
       "    <tr>\n",
       "      <th>5</th>\n",
       "      <td>2019-10-15</td>\n",
       "      <td>한라중학교/부영아파트</td>\n",
       "      <td>07시</td>\n",
       "    </tr>\n",
       "  </tbody>\n",
       "</table>\n",
       "</div>"
      ],
      "text/plain": [
       "         date  now_station now_arrive_time\n",
       "0  2019-10-15      제주대학교입구             06시\n",
       "1  2019-10-15         제대마을             06시\n",
       "2  2019-10-15        제대아파트             06시\n",
       "3  2019-10-15    남국원(아라방면)             06시\n",
       "4  2019-10-15          도호동             07시\n",
       "5  2019-10-15  한라중학교/부영아파트             07시"
      ]
     },
     "execution_count": 6,
     "metadata": {},
     "output_type": "execute_result"
    }
   ],
   "source": [
    "# 방법2; dictionary 활용\n",
    "df2 = {'date': df.date.values,\n",
    "        'now_station': df.now_station.values,\n",
    "        'now_arrive_time': df.now_arrive_time.values}\n",
    "df2 = pd.DataFrame(df2)\n",
    "df2"
   ]
  },
  {
   "cell_type": "code",
   "execution_count": 21,
   "metadata": {},
   "outputs": [
    {
     "data": {
      "text/plain": [
       "[array(['2019-10-15', '제주대학교입구', '06시'], dtype=object),\n",
       " array(['2019-10-15', '제대마을', '06시'], dtype=object),\n",
       " array(['2019-10-15', '제대아파트', '06시'], dtype=object),\n",
       " array(['2019-10-15', '남국원(아라방면)', '06시'], dtype=object),\n",
       " array(['2019-10-15', '도호동', '07시'], dtype=object),\n",
       " array(['2019-10-15', '한라중학교/부영아파트', '07시'], dtype=object)]"
      ]
     },
     "metadata": {},
     "output_type": "display_data"
    },
    {
     "data": {
      "text/plain": [
       "[['2019-10-15', '제주대학교입구', '06시'],\n",
       " ['2019-10-15', '제대마을', '06시'],\n",
       " ['2019-10-15', '제대아파트', '06시'],\n",
       " ['2019-10-15', '남국원(아라방면)', '06시'],\n",
       " ['2019-10-15', '도호동', '07시'],\n",
       " ['2019-10-15', '한라중학교/부영아파트', '07시']]"
      ]
     },
     "metadata": {},
     "output_type": "display_data"
    },
    {
     "name": "stdout",
     "output_type": "stream",
     "text": [
      "<class 'list'>\n",
      "<class 'list'>\n",
      "<class 'numpy.ndarray'>\n",
      "<class 'list'>\n"
     ]
    }
   ],
   "source": [
    "# cf. array; 리스트의 확장형\n",
    "\n",
    "a = list(df.values) # a는 list,\n",
    "b = list(map(list, df.values)) \n",
    "\n",
    "display(a) \n",
    "display(b)\n",
    "\n",
    "print(type(a)) # a; list\n",
    "print(type(b)) # b; list\n",
    "\n",
    "print(type(a[0])) # a의 요소; array\n",
    "print(type(b[0])) # b의 요소; list"
   ]
  },
  {
   "cell_type": "markdown",
   "metadata": {},
   "source": [
    "# 문제 2\n",
    "df2의 date열의 자료형을 datetime64로 바꿔주세요!"
   ]
  },
  {
   "cell_type": "code",
   "execution_count": 7,
   "metadata": {},
   "outputs": [
    {
     "data": {
      "text/plain": [
       "date               datetime64[ns]\n",
       "now_station                object\n",
       "now_arrive_time            object\n",
       "dtype: object"
      ]
     },
     "execution_count": 7,
     "metadata": {},
     "output_type": "execute_result"
    }
   ],
   "source": [
    "df2['date'] = df2['date'].astype('datetime64')\n",
    "df2.dtypes"
   ]
  },
  {
   "cell_type": "markdown",
   "metadata": {},
   "source": [
    "# 문제 3-1\n",
    "df2에서 now_arrive_time의 빈도수가 가장 적은 값을 찾아 k 라는 변수에 할당해주세요! (한줄로 작성해주세요) 메소드 체이닝~"
   ]
  },
  {
   "cell_type": "code",
   "execution_count": 8,
   "metadata": {},
   "outputs": [
    {
     "data": {
      "text/plain": [
       "'07시'"
      ]
     },
     "execution_count": 8,
     "metadata": {},
     "output_type": "execute_result"
    }
   ],
   "source": [
    "k = df2['now_arrive_time'].value_counts().index[-1]\n",
    "k"
   ]
  },
  {
   "cell_type": "markdown",
   "metadata": {},
   "source": [
    "# 문제 3-2\n",
    "df2에서 now_arrive_time이 k인 행을 모두 뽑고 해당 데이터프레임에서 now_station의 값의 종류를 모두 보여라.(한줄로 작성해주세요)메소드 체이닝~\n",
    "hint(query 사용!)"
   ]
  },
  {
   "cell_type": "code",
   "execution_count": 11,
   "metadata": {},
   "outputs": [
    {
     "data": {
      "text/plain": [
       "array(['도호동', '한라중학교/부영아파트'], dtype=object)"
      ]
     },
     "execution_count": 11,
     "metadata": {},
     "output_type": "execute_result"
    }
   ],
   "source": [
    "# values; 모든 값\n",
    "df2.query('now_arrive_time == @k')['now_station'].values"
   ]
  },
  {
   "cell_type": "code",
   "execution_count": 12,
   "metadata": {},
   "outputs": [
    {
     "data": {
      "text/plain": [
       "array(['도호동', '한라중학교/부영아파트'], dtype=object)"
      ]
     },
     "execution_count": 12,
     "metadata": {},
     "output_type": "execute_result"
    }
   ],
   "source": [
    "# unique(); 값의 모든 종류\n",
    "df2.query('now_arrive_time == @k')['now_station'].unique()"
   ]
  }
 ],
 "metadata": {
  "celltoolbar": "Raw Cell Format",
  "colab": {
   "name": "L07.ipynb",
   "provenance": [],
   "version": "0.3.2"
  },
  "kernelspec": {
   "display_name": "Python 3",
   "language": "python",
   "name": "python3"
  },
  "language_info": {
   "codemirror_mode": {
    "name": "ipython",
    "version": 3
   },
   "file_extension": ".py",
   "mimetype": "text/x-python",
   "name": "python",
   "nbconvert_exporter": "python",
   "pygments_lexer": "ipython3",
   "version": "3.7.3"
  }
 },
 "nbformat": 4,
 "nbformat_minor": 4
}
