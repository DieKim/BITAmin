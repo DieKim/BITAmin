{
 "cells": [
  {
   "cell_type": "markdown",
   "metadata": {},
   "source": [
    "# 복습과제"
   ]
  },
  {
   "cell_type": "code",
   "execution_count": 1,
   "metadata": {},
   "outputs": [],
   "source": [
    "import pandas as pd\n",
    "from sklearn import preprocessing\n",
    "from sklearn.ensemble import VotingClassifier\n",
    "from sklearn.linear_model import LogisticRegression\n",
    "from sklearn.neighbors import KNeighborsClassifier\n",
    "from sklearn.model_selection import train_test_split\n",
    "from sklearn.metrics import accuracy_score\n",
    "from sklearn.datasets import load_iris\n",
    "from sklearn.ensemble import RandomForestClassifier\n",
    "from sklearn.model_selection import GridSearchCV\n",
    "from sklearn.preprocessing import StandardScaler\n",
    "from sklearn.ensemble import GradientBoostingClassifier\n",
    "from xgboost import XGBClassifier\n",
    "from lightgbm import LGBMClassifier\n",
    "from sklearn.metrics import accuracy_score, precision_score, recall_score, confusion_matrix, f1_score,roc_auc_score\n",
    "import warnings\n",
    "warnings.filterwarnings('ignore')"
   ]
  },
  {
   "cell_type": "code",
   "execution_count": 2,
   "metadata": {},
   "outputs": [],
   "source": [
    "def get_clf_eval(y_test, pred=None, pred_proba=None):\n",
    "    confusion = confusion_matrix(y_test, pred)\n",
    "    accuracy = accuracy_score(y_test, pred)\n",
    "    precision = precision_score(y_test, pred)\n",
    "    recall = recall_score(y_test, pred)\n",
    "    f1 = f1_score(y_test, pred)\n",
    "    \n",
    "    roc_auc = roc_auc_score(y_test, pred_proba)\n",
    "    print('오차 행렬')\n",
    "    print(confusion)\n",
    "    print('정확도: {0:.4f}, 정밀도:{1:.4f}, 재현율: {2:.4f}, F1: {3:.4f}, AUC: {4:.4f}'.format(accuracy, precision,recall, f1, roc_auc))"
   ]
  },
  {
   "cell_type": "markdown",
   "metadata": {},
   "source": [
    "# 문제1"
   ]
  },
  {
   "cell_type": "markdown",
   "metadata": {},
   "source": [
    "1-1\n",
    "\n",
    "\n"
   ]
  },
  {
   "cell_type": "markdown",
   "metadata": {},
   "source": [
    "앙상블 학습유형의 하나인 보팅 방법 중 하드보팅과 소프트보팅의 차이점을 설명해 주세요.\n"
   ]
  },
  {
   "cell_type": "markdown",
   "metadata": {},
   "source": [
    "* 하드보팅: 최종 예측값을 다수결로 결정하는 방법\n",
    "* 각 분류기의 결과값 중 가장 많이 나온 클래스를 최종 예측값으로 사용합니다.\n",
    "\n",
    "\n",
    "* 소프트보팅: 최종 예측값을 평균값을 비교해 결정하는 방법\n",
    "* 전체 분류기의 결정 확률 평균이 가장 큰 클래스를 최종 예측값으로 사용합니다. "
   ]
  },
  {
   "cell_type": "markdown",
   "metadata": {},
   "source": [
    "1-2\n"
   ]
  },
  {
   "cell_type": "markdown",
   "metadata": {},
   "source": [
    "\n",
    "부스팅 방식에 대해 설명해 주세요."
   ]
  },
  {
   "cell_type": "markdown",
   "metadata": {},
   "source": [
    "* 여러 개의 약한 학습기를 순차적으로 학습 및 예측 후 각 모델의 예측 결과에 따라 가중치를 다르게 부여하며 오류를 개선해 강분류기로 만드는 방식으로, 특히 잘못 분류된 데이터에 집중하며 분류 규칙을 수정해 나갑니다.\n",
    "\n",
    "* 배깅과 유사한 방식이지만 배깅은 여러 모델을 동시에 학습하는 반면, 부스팅은 동일한 모델을 순차적으로 학습 후 가중 투표를 합니다.\n",
    "\n",
    "* Adaptive Boosting과 Gradient Boosting 등이 있습니다. "
   ]
  },
  {
   "cell_type": "markdown",
   "metadata": {},
   "source": [
    "1-3\n"
   ]
  },
  {
   "cell_type": "markdown",
   "metadata": {},
   "source": [
    "\n",
    "XGBOOST 와 LIGHTGBM 이 GBM보다 더 선호되는 이유를 설명해 주세요."
   ]
  },
  {
   "cell_type": "markdown",
   "metadata": {},
   "source": [
    "* GBM이 예측 성능이 뛰어나긴 하지만 학습 시간이 너무 오래 걸리기 때문에 XGBoost나 LightGBM 같은 속도를 개선한 모델을 사용합니다.\n",
    "* 병렬 처리가 안되는 GBM을 개선해 시간을 단축할 수 있으며, 학습 오류가 일정 횟수이상 나아지지 않을 경우 조기중단을 이용해 불필요한 개선을 줄일 수도 있습니다.     \n",
    "* XGBoost보다는 보통 LightGBM이 더 빠르며 성능 차이도 크지 않지만 적은 데이터셋에서는 과적합을 일으킬 수도 있습니다.(리프 노드를 비대칭 분할하기 때문에)  "
   ]
  },
  {
   "cell_type": "markdown",
   "metadata": {},
   "source": [
    "# 문제2\n"
   ]
  },
  {
   "cell_type": "markdown",
   "metadata": {},
   "source": [
    "2-1\n"
   ]
  },
  {
   "cell_type": "markdown",
   "metadata": {},
   "source": [
    "\n",
    "iris데이터를 불러와 변수에 할당해 주세요."
   ]
  },
  {
   "cell_type": "code",
   "execution_count": 3,
   "metadata": {},
   "outputs": [],
   "source": [
    "iris = load_iris()\n",
    "\n",
    "X = iris.data\n",
    "y = iris.target\n",
    "\n",
    "df = pd.DataFrame(data=iris.data, columns=iris.feature_names)\n",
    "df['target'] = iris.target"
   ]
  },
  {
   "cell_type": "markdown",
   "metadata": {},
   "source": [
    "2-2"
   ]
  },
  {
   "cell_type": "markdown",
   "metadata": {},
   "source": [
    "\n",
    "붓꽃데이터의 data와 target을 train_test_split으로 train데이터와 test데이터로 나누어 주세요.\n"
   ]
  },
  {
   "cell_type": "markdown",
   "metadata": {},
   "source": [
    "\n",
    "▶ test_size = 0.3, random_state = 156"
   ]
  },
  {
   "cell_type": "code",
   "execution_count": 4,
   "metadata": {},
   "outputs": [],
   "source": [
    "X_train, X_test, y_train, y_test = train_test_split(X, y, test_size=0.3, random_state=156)"
   ]
  },
  {
   "cell_type": "markdown",
   "metadata": {},
   "source": [
    "2-3\n"
   ]
  },
  {
   "cell_type": "markdown",
   "metadata": {},
   "source": [
    "\n",
    "로지스틱 회귀(LogisticRegression())와 KNN(KNeighborsClassifier())을 모델로 소프트 보팅 기반의 앙상블 모델을 구현해주세요.\n"
   ]
  },
  {
   "cell_type": "markdown",
   "metadata": {},
   "source": [
    "\n",
    "▶ n_neighbors = 8"
   ]
  },
  {
   "cell_type": "code",
   "execution_count": 5,
   "metadata": {},
   "outputs": [],
   "source": [
    "# 개별 모델\n",
    "lr = LogisticRegression()\n",
    "knn = KNeighborsClassifier(n_neighbors=8)\n",
    "\n",
    "# 앙상블 모델 \n",
    "ensemble =  VotingClassifier(estimators=[('LR', lr), ('KNN', knn)], voting = 'soft')"
   ]
  },
  {
   "cell_type": "markdown",
   "metadata": {},
   "source": [
    "2-4\n"
   ]
  },
  {
   "cell_type": "markdown",
   "metadata": {},
   "source": [
    "\n",
    "소프트 보팅 기반의 앙상블 모델로 구현한 모델의 학습, 예측, 평가 하는 함수를 작성해 주세요.\n"
   ]
  },
  {
   "cell_type": "markdown",
   "metadata": {},
   "source": [
    "\n",
    "▶ 평가시 정확도를 소수점 아래 4자리로 나타내 주세요."
   ]
  },
  {
   "cell_type": "code",
   "execution_count": 6,
   "metadata": {},
   "outputs": [
    {
     "name": "stdout",
     "output_type": "stream",
     "text": [
      "Voting 분류기 정확도 0.9556\n"
     ]
    }
   ],
   "source": [
    "# 앙상블 모델 학습/예측/평가\n",
    "ensemble.fit(X_train, y_train)\n",
    "pred = ensemble.predict(X_test)\n",
    "print(\"Voting 분류기 정확도 {0:.4f}\".format(accuracy_score(y_test, pred)))"
   ]
  },
  {
   "cell_type": "markdown",
   "metadata": {},
   "source": [
    "2-5\n"
   ]
  },
  {
   "cell_type": "markdown",
   "metadata": {},
   "source": [
    "\n",
    "마찬가지로 로지스틱 회귀와 KNN 모델을 2-2에서 분리한 데이터를 이용하여 학습, 예측, 평가해 주세요.\n"
   ]
  },
  {
   "cell_type": "markdown",
   "metadata": {},
   "source": [
    "\n",
    "▶ 평가시 정확도를 소수점 아래 4자리로 나타내 주세요."
   ]
  },
  {
   "cell_type": "code",
   "execution_count": 7,
   "metadata": {},
   "outputs": [
    {
     "name": "stdout",
     "output_type": "stream",
     "text": [
      "LogisticRegression 정확도: 0.9111\n",
      "KNeighborsClassifier 정확도: 0.9556\n"
     ]
    }
   ],
   "source": [
    "# 개별 모델 학습/예측/평가\n",
    "clfs = [lr, knn]\n",
    "for clf in clfs:\n",
    "    clf.fit(X_train, y_train)\n",
    "    pred = clf.predict(X_test)\n",
    "    clf_name = clf.__class__.__name__\n",
    "    print('{0} 정확도: {1:.4f}'.format(clf_name, accuracy_score(y_test, pred)))"
   ]
  },
  {
   "cell_type": "markdown",
   "metadata": {},
   "source": [
    "2-6\n"
   ]
  },
  {
   "cell_type": "markdown",
   "metadata": {},
   "source": [
    "\n",
    "GridSearchCV를 이용해 랜덤포레스트의 하이퍼 파라미터를 변경하면서 train 데이터를 학습해 주세요.\n"
   ]
  },
  {
   "cell_type": "markdown",
   "metadata": {},
   "source": [
    "\n",
    "▶ params = {'n_estimators':[100], 'max_depth':[6,8,10,12], 'min_samples_leaf':[8,12,18], 'min_samples_split':[8,16,20]}\n"
   ]
  },
  {
   "cell_type": "markdown",
   "metadata": {},
   "source": [
    "\n",
    "▶ random_state = 0, cv = 2, n_jobs = -1"
   ]
  },
  {
   "cell_type": "code",
   "execution_count": 8,
   "metadata": {},
   "outputs": [
    {
     "data": {
      "text/plain": [
       "GridSearchCV(cv=2, estimator=RandomForestClassifier(n_jobs=-1, random_state=0),\n",
       "             n_jobs=-1,\n",
       "             param_grid={'max_depth': [6, 8, 10, 12],\n",
       "                         'min_samples_leaf': [8, 12, 18],\n",
       "                         'min_samples_split': [8, 16, 20],\n",
       "                         'n_estimators': [100]})"
      ]
     },
     "execution_count": 8,
     "metadata": {},
     "output_type": "execute_result"
    }
   ],
   "source": [
    "params = {'n_estimators':[100], \n",
    "          'max_depth':[6,8,10,12], \n",
    "          'min_samples_leaf':[8,12,18], \n",
    "          'min_samples_split':[8,16,20]}\n",
    "\n",
    "rf = RandomForestClassifier(random_state=0, n_jobs=-1)\n",
    "grid = GridSearchCV(rf, param_grid=params, cv=2, n_jobs=-1)\n",
    "grid.fit(X_train, y_train)"
   ]
  },
  {
   "cell_type": "markdown",
   "metadata": {},
   "source": [
    "2-7\n"
   ]
  },
  {
   "cell_type": "markdown",
   "metadata": {},
   "source": [
    "\n",
    "최적 하이퍼 파라미터와 그 때의 정확도를 측정해 주세요.\n",
    "\n"
   ]
  },
  {
   "cell_type": "markdown",
   "metadata": {},
   "source": [
    "▶ 평가시 정확도를 소수점 아래 4자리로 나타내 주세요.\n"
   ]
  },
  {
   "cell_type": "markdown",
   "metadata": {},
   "source": [
    "\n",
    "(힌트: best_params_ , best_score_ 함수 이용)"
   ]
  },
  {
   "cell_type": "code",
   "execution_count": 9,
   "metadata": {},
   "outputs": [
    {
     "name": "stdout",
     "output_type": "stream",
     "text": [
      "최적 하이퍼파라미터:  {'max_depth': 6, 'min_samples_leaf': 12, 'min_samples_split': 8, 'n_estimators': 100}\n",
      "최고 예측 정확도: 0.9526\n"
     ]
    }
   ],
   "source": [
    "print('최적 하이퍼파라미터: ', grid.best_params_)\n",
    "print('최고 예측 정확도: {:.4f}'.format(grid.best_score_))"
   ]
  },
  {
   "cell_type": "markdown",
   "metadata": {},
   "source": [
    "# 문제3\n"
   ]
  },
  {
   "cell_type": "markdown",
   "metadata": {},
   "source": [
    "* GBM의 경우 처리 시간이 오래 걸리기 때문에 작은 데이터를 선정했으며<br>\n",
    "데이터가 그렇게 크지 않기 때문에 결과값이 크게 유의미하지 않습니다.\n"
   ]
  },
  {
   "cell_type": "markdown",
   "metadata": {},
   "source": [
    "3-1"
   ]
  },
  {
   "cell_type": "markdown",
   "metadata": {},
   "source": [
    "첨부된 heart 데이터를 변수에 할당해 주세요."
   ]
  },
  {
   "cell_type": "code",
   "execution_count": 10,
   "metadata": {},
   "outputs": [],
   "source": [
    "heart = pd.read_csv('C:/Users/USER/BITAmin/data/heart.csv')"
   ]
  },
  {
   "cell_type": "markdown",
   "metadata": {},
   "source": [
    "• age    나이 (int) <br>\n",
    "• sex    성별 (1, 0 / int) <br>\n",
    "• chest pain type (4 values)    가슴 통증 타입 (0 ~ 3 / int)<br>\n",
    "• resting blood pressure    혈압<br>\n",
    "• serum cholestoral in mg/dl\t혈청 콜레스테롤<br>\n",
    "• fasting blood sugar > 120 mg/dl\t공복 혈당<br>\n",
    "• resting electrocardiographic results\t심전도<br>\n",
    "• maximum heart rate achieved\t최대 심장박동 수<br>\n",
    "• exercise induced angina\t운동 유도 협심증<br>\n",
    "• oldpeak = ST depression induced by exercise relative to rest\t노약 =운동에 의해 유발되는 St 우울증<br>\n",
    "• the slope of the peak exercise ST segment\tST 세그먼트의 기울기<br>\n",
    "• number of major vessels (0-3) colored by flourosopy\t혈관의수<br>\n",
    "• thal : 3 = normal; 6 = fixed defect; 7 = reversable defect\tA blood disorder called thalassemia <br>\n",
    "<br>\n",
    "\n",
    "• **target: 심장병 (0 = no, 1 = yes)**"
   ]
  },
  {
   "cell_type": "markdown",
   "metadata": {},
   "source": [
    "3-2\n"
   ]
  },
  {
   "cell_type": "markdown",
   "metadata": {},
   "source": [
    "\n",
    "get_dummies를 이용하여 카테고리 변수인 cp, thal, slope를 원-핫 인코딩을 해주세요. 인코딩 값을 변수에 넣어주세요."
   ]
  },
  {
   "cell_type": "code",
   "execution_count": 11,
   "metadata": {
    "scrolled": true
   },
   "outputs": [],
   "source": [
    "# heart = pd.get_dummies(heart, columns=['cp', 'thal', 'slope'])\n",
    "\n",
    "# 카테고리형 변환\n",
    "heart = heart.astype({'cp':'object',\n",
    "                      'thal':'object',\n",
    "                      'slope':'object'})\n",
    "\n",
    "# 원-핫 인코딩\n",
    "category = heart[['cp', 'thal', 'slope']]\n",
    "onehot = pd.get_dummies(category)"
   ]
  },
  {
   "cell_type": "markdown",
   "metadata": {},
   "source": [
    "3-3\n"
   ]
  },
  {
   "cell_type": "markdown",
   "metadata": {},
   "source": [
    "\n",
    "concat함수를 이용하여 원-핫 인코딩한 데이터를 기존의 데이터에 연결해 주신 후 기존 데이터의 cp, thal, slop 값은 삭제해 주세요."
   ]
  },
  {
   "cell_type": "code",
   "execution_count": 12,
   "metadata": {
    "scrolled": true
   },
   "outputs": [],
   "source": [
    "# 데이터 연결\n",
    "heart = pd.concat([heart, onehot], axis=1)\n",
    "\n",
    "# 열 삭제\n",
    "heart = heart.drop(['cp','thal','slope'], axis=1, inplace=False)"
   ]
  },
  {
   "cell_type": "markdown",
   "metadata": {},
   "source": [
    "3-4\n"
   ]
  },
  {
   "cell_type": "markdown",
   "metadata": {},
   "source": [
    "\n",
    "심장병데이터의 target을 변수 X, y로 분리해 주세요."
   ]
  },
  {
   "cell_type": "code",
   "execution_count": 13,
   "metadata": {},
   "outputs": [],
   "source": [
    "X = heart.drop('target', axis=1, inplace=False)\n",
    "y = heart['target']"
   ]
  },
  {
   "cell_type": "markdown",
   "metadata": {},
   "source": [
    "3-5\n"
   ]
  },
  {
   "cell_type": "markdown",
   "metadata": {},
   "source": [
    "\n",
    "target값을 제외한 데이터프레임 X에 StandardScaler 클래스로 표준화를 해주세요."
   ]
  },
  {
   "cell_type": "code",
   "execution_count": 14,
   "metadata": {},
   "outputs": [],
   "source": [
    "scaler = StandardScaler()\n",
    "X_scaled = scaler.fit_transform(X)"
   ]
  },
  {
   "cell_type": "markdown",
   "metadata": {},
   "source": [
    "3-6\n"
   ]
  },
  {
   "cell_type": "markdown",
   "metadata": {},
   "source": [
    "\n",
    "분리한 데이터로 train_test_split으로 train데이터와 test데이터로 나누어 주세요.\n"
   ]
  },
  {
   "cell_type": "markdown",
   "metadata": {},
   "source": [
    "\n",
    "▶ test_size = 0.2, random_state = 156"
   ]
  },
  {
   "cell_type": "code",
   "execution_count": 15,
   "metadata": {},
   "outputs": [],
   "source": [
    "X_train, X_test, y_train, y_test = train_test_split(X_scaled, y, test_size=0.2, random_state=156)"
   ]
  },
  {
   "cell_type": "markdown",
   "metadata": {},
   "source": [
    "3-7\n"
   ]
  },
  {
   "cell_type": "markdown",
   "metadata": {},
   "source": [
    "\n",
    "GBM 부스팅 방법으로 데이터를 학습, 예측, 평가해 주세요.\n"
   ]
  },
  {
   "cell_type": "markdown",
   "metadata": {},
   "source": [
    "\n",
    "▶ random_state = 0"
   ]
  },
  {
   "cell_type": "markdown",
   "metadata": {},
   "source": [
    "\n",
    "▶ 평가시 정확도를 소수점 아래 4자리로 나타내 주세요."
   ]
  },
  {
   "cell_type": "code",
   "execution_count": 16,
   "metadata": {},
   "outputs": [
    {
     "name": "stdout",
     "output_type": "stream",
     "text": [
      "GBM 정확도: 0.9016\n"
     ]
    }
   ],
   "source": [
    "gbm = GradientBoostingClassifier(random_state=0)\n",
    "gbm.fit(X_train, y_train)\n",
    "gbm_pred = gbm.predict(X_test)\n",
    "gbm_acc = accuracy_score(y_test, gbm_pred)\n",
    "\n",
    "print('GBM 정확도: {:.4f}'.format(gbm_acc))"
   ]
  },
  {
   "cell_type": "markdown",
   "metadata": {},
   "source": [
    "3-8\n"
   ]
  },
  {
   "cell_type": "markdown",
   "metadata": {},
   "source": [
    "\n",
    "사이킷런 래퍼 XGBoost클래스로 데이터를 학습, 예측을 한 후 get_clf_eval함수로 성능평가를 해주세요.\n"
   ]
  },
  {
   "cell_type": "markdown",
   "metadata": {},
   "source": [
    "\n",
    "▶ n_estimators = 400, learning_rate = 0.1, max_depth = 3"
   ]
  },
  {
   "cell_type": "code",
   "execution_count": 17,
   "metadata": {},
   "outputs": [],
   "source": [
    "# get_clf_eval \n",
    "def get_clf_eval(y_test, y_pred):\n",
    "    confusion = confusion_matrix(y_test, y_pred)\n",
    "    accuracy = accuracy_score(y_test, y_pred)\n",
    "    precision = precision_score(y_test, y_pred)\n",
    "    recall = recall_score(y_test, y_pred)\n",
    "    f1 = f1_score(y_test, y_pred)\n",
    "    auc = roc_auc_score(y_test, y_pred)\n",
    "    print('오차행렬 \\n', confusion)\n",
    "    print('정확도: {0:.4f}\\n정밀도: {1:.4f}\\n재현율: {2:.4f}\\nF1: {3:.4f}\\nAUC: {4:.4f}'.format(accuracy, precision, recall, f1, auc))"
   ]
  },
  {
   "cell_type": "code",
   "execution_count": 18,
   "metadata": {},
   "outputs": [
    {
     "name": "stdout",
     "output_type": "stream",
     "text": [
      "오차행렬 \n",
      " [[25  5]\n",
      " [ 1 30]]\n",
      "정확도: 0.9016\n",
      "정밀도: 0.8571\n",
      "재현율: 0.9677\n",
      "F1: 0.9091\n",
      "AUC: 0.9005\n"
     ]
    }
   ],
   "source": [
    "# XGBoost 학습/예측\n",
    "xgb = XGBClassifier(n_estimators=400, learning_rate=0.1, max_depth=3)\n",
    "xgb.fit(X_train, y_train)\n",
    "xgb_pred = xgb.predict(X_test)\n",
    "\n",
    "# 성능 평가\n",
    "get_clf_eval(y_test, xgb_pred)"
   ]
  },
  {
   "cell_type": "markdown",
   "metadata": {},
   "source": [
    "3-9"
   ]
  },
  {
   "cell_type": "markdown",
   "metadata": {},
   "source": [
    "\n",
    "\n",
    "하이퍼 파라미터를 설정하여 사이킷런 래퍼 XGBoost클래스로 데이터를 학습, 예측을 한 후 get_clf_eval함수로 성능평가를 해주세요.\n"
   ]
  },
  {
   "cell_type": "markdown",
   "metadata": {},
   "source": [
    "\n",
    "▶ n_estimators = 400, learning_rate = 0.1, max_depth = 3"
   ]
  },
  {
   "cell_type": "markdown",
   "metadata": {},
   "source": [
    "\n",
    "\n",
    "▶ early_stopping_rounds = 100, eval_metric = \"logloss\", eval_set = evals, verbose = True"
   ]
  },
  {
   "cell_type": "code",
   "execution_count": 19,
   "metadata": {},
   "outputs": [
    {
     "name": "stdout",
     "output_type": "stream",
     "text": [
      "[0]\tvalidation_0-logloss:0.646055\n",
      "Will train until validation_0-logloss hasn't improved in 100 rounds.\n",
      "[1]\tvalidation_0-logloss:0.607182\n",
      "[2]\tvalidation_0-logloss:0.570893\n",
      "[3]\tvalidation_0-logloss:0.543177\n",
      "[4]\tvalidation_0-logloss:0.520078\n",
      "[5]\tvalidation_0-logloss:0.495876\n",
      "[6]\tvalidation_0-logloss:0.476849\n",
      "[7]\tvalidation_0-logloss:0.459135\n",
      "[8]\tvalidation_0-logloss:0.443902\n",
      "[9]\tvalidation_0-logloss:0.431549\n",
      "[10]\tvalidation_0-logloss:0.418866\n",
      "[11]\tvalidation_0-logloss:0.408065\n",
      "[12]\tvalidation_0-logloss:0.398758\n",
      "[13]\tvalidation_0-logloss:0.391831\n",
      "[14]\tvalidation_0-logloss:0.38378\n",
      "[15]\tvalidation_0-logloss:0.377405\n",
      "[16]\tvalidation_0-logloss:0.371656\n",
      "[17]\tvalidation_0-logloss:0.367091\n",
      "[18]\tvalidation_0-logloss:0.364277\n",
      "[19]\tvalidation_0-logloss:0.362832\n",
      "[20]\tvalidation_0-logloss:0.35973\n",
      "[21]\tvalidation_0-logloss:0.356315\n",
      "[22]\tvalidation_0-logloss:0.350914\n",
      "[23]\tvalidation_0-logloss:0.348462\n",
      "[24]\tvalidation_0-logloss:0.341493\n",
      "[25]\tvalidation_0-logloss:0.33849\n",
      "[26]\tvalidation_0-logloss:0.3362\n",
      "[27]\tvalidation_0-logloss:0.329637\n",
      "[28]\tvalidation_0-logloss:0.32905\n",
      "[29]\tvalidation_0-logloss:0.325951\n",
      "[30]\tvalidation_0-logloss:0.321131\n",
      "[31]\tvalidation_0-logloss:0.318113\n",
      "[32]\tvalidation_0-logloss:0.316747\n",
      "[33]\tvalidation_0-logloss:0.314917\n",
      "[34]\tvalidation_0-logloss:0.312278\n",
      "[35]\tvalidation_0-logloss:0.308147\n",
      "[36]\tvalidation_0-logloss:0.303832\n",
      "[37]\tvalidation_0-logloss:0.302044\n",
      "[38]\tvalidation_0-logloss:0.301004\n",
      "[39]\tvalidation_0-logloss:0.30038\n",
      "[40]\tvalidation_0-logloss:0.299551\n",
      "[41]\tvalidation_0-logloss:0.297589\n",
      "[42]\tvalidation_0-logloss:0.296215\n",
      "[43]\tvalidation_0-logloss:0.292022\n",
      "[44]\tvalidation_0-logloss:0.292497\n",
      "[45]\tvalidation_0-logloss:0.290349\n",
      "[46]\tvalidation_0-logloss:0.289377\n",
      "[47]\tvalidation_0-logloss:0.29002\n",
      "[48]\tvalidation_0-logloss:0.289988\n",
      "[49]\tvalidation_0-logloss:0.287637\n",
      "[50]\tvalidation_0-logloss:0.28811\n",
      "[51]\tvalidation_0-logloss:0.284374\n",
      "[52]\tvalidation_0-logloss:0.282587\n",
      "[53]\tvalidation_0-logloss:0.282421\n",
      "[54]\tvalidation_0-logloss:0.280638\n",
      "[55]\tvalidation_0-logloss:0.277822\n",
      "[56]\tvalidation_0-logloss:0.28012\n",
      "[57]\tvalidation_0-logloss:0.280765\n",
      "[58]\tvalidation_0-logloss:0.280823\n",
      "[59]\tvalidation_0-logloss:0.281587\n",
      "[60]\tvalidation_0-logloss:0.282213\n",
      "[61]\tvalidation_0-logloss:0.280502\n",
      "[62]\tvalidation_0-logloss:0.279592\n",
      "[63]\tvalidation_0-logloss:0.280092\n",
      "[64]\tvalidation_0-logloss:0.280363\n",
      "[65]\tvalidation_0-logloss:0.281339\n",
      "[66]\tvalidation_0-logloss:0.281596\n",
      "[67]\tvalidation_0-logloss:0.281595\n",
      "[68]\tvalidation_0-logloss:0.27947\n",
      "[69]\tvalidation_0-logloss:0.27936\n",
      "[70]\tvalidation_0-logloss:0.278367\n",
      "[71]\tvalidation_0-logloss:0.279005\n",
      "[72]\tvalidation_0-logloss:0.278411\n",
      "[73]\tvalidation_0-logloss:0.278049\n",
      "[74]\tvalidation_0-logloss:0.276856\n",
      "[75]\tvalidation_0-logloss:0.276924\n",
      "[76]\tvalidation_0-logloss:0.275072\n",
      "[77]\tvalidation_0-logloss:0.273527\n",
      "[78]\tvalidation_0-logloss:0.270133\n",
      "[79]\tvalidation_0-logloss:0.267989\n",
      "[80]\tvalidation_0-logloss:0.268771\n",
      "[81]\tvalidation_0-logloss:0.269422\n",
      "[82]\tvalidation_0-logloss:0.269698\n",
      "[83]\tvalidation_0-logloss:0.269022\n",
      "[84]\tvalidation_0-logloss:0.266551\n",
      "[85]\tvalidation_0-logloss:0.265358\n",
      "[86]\tvalidation_0-logloss:0.266137\n",
      "[87]\tvalidation_0-logloss:0.26666\n",
      "[88]\tvalidation_0-logloss:0.267113\n",
      "[89]\tvalidation_0-logloss:0.267451\n",
      "[90]\tvalidation_0-logloss:0.266382\n",
      "[91]\tvalidation_0-logloss:0.267166\n",
      "[92]\tvalidation_0-logloss:0.268293\n",
      "[93]\tvalidation_0-logloss:0.265365\n",
      "[94]\tvalidation_0-logloss:0.265583\n",
      "[95]\tvalidation_0-logloss:0.265673\n",
      "[96]\tvalidation_0-logloss:0.265979\n",
      "[97]\tvalidation_0-logloss:0.266777\n",
      "[98]\tvalidation_0-logloss:0.267901\n",
      "[99]\tvalidation_0-logloss:0.267064\n",
      "[100]\tvalidation_0-logloss:0.267203\n",
      "[101]\tvalidation_0-logloss:0.266175\n",
      "[102]\tvalidation_0-logloss:0.265132\n",
      "[103]\tvalidation_0-logloss:0.264368\n",
      "[104]\tvalidation_0-logloss:0.265186\n",
      "[105]\tvalidation_0-logloss:0.264945\n",
      "[106]\tvalidation_0-logloss:0.266019\n",
      "[107]\tvalidation_0-logloss:0.265209\n",
      "[108]\tvalidation_0-logloss:0.266937\n",
      "[109]\tvalidation_0-logloss:0.265851\n",
      "[110]\tvalidation_0-logloss:0.265688\n",
      "[111]\tvalidation_0-logloss:0.264792\n",
      "[112]\tvalidation_0-logloss:0.265218\n",
      "[113]\tvalidation_0-logloss:0.263396\n",
      "[114]\tvalidation_0-logloss:0.263503\n",
      "[115]\tvalidation_0-logloss:0.263589\n",
      "[116]\tvalidation_0-logloss:0.26477\n",
      "[117]\tvalidation_0-logloss:0.265004\n",
      "[118]\tvalidation_0-logloss:0.2648\n",
      "[119]\tvalidation_0-logloss:0.263771\n",
      "[120]\tvalidation_0-logloss:0.264909\n",
      "[121]\tvalidation_0-logloss:0.264312\n",
      "[122]\tvalidation_0-logloss:0.264707\n",
      "[123]\tvalidation_0-logloss:0.263688\n",
      "[124]\tvalidation_0-logloss:0.2638\n",
      "[125]\tvalidation_0-logloss:0.264672\n",
      "[126]\tvalidation_0-logloss:0.262084\n",
      "[127]\tvalidation_0-logloss:0.260899\n",
      "[128]\tvalidation_0-logloss:0.261998\n",
      "[129]\tvalidation_0-logloss:0.261467\n",
      "[130]\tvalidation_0-logloss:0.26019\n",
      "[131]\tvalidation_0-logloss:0.260337\n",
      "[132]\tvalidation_0-logloss:0.260661\n",
      "[133]\tvalidation_0-logloss:0.261341\n",
      "[134]\tvalidation_0-logloss:0.260554\n",
      "[135]\tvalidation_0-logloss:0.260672\n",
      "[136]\tvalidation_0-logloss:0.260059\n",
      "[137]\tvalidation_0-logloss:0.26169\n",
      "[138]\tvalidation_0-logloss:0.26187\n",
      "[139]\tvalidation_0-logloss:0.260992\n",
      "[140]\tvalidation_0-logloss:0.2612\n",
      "[141]\tvalidation_0-logloss:0.261592\n",
      "[142]\tvalidation_0-logloss:0.26206\n",
      "[143]\tvalidation_0-logloss:0.263572\n",
      "[144]\tvalidation_0-logloss:0.262599\n",
      "[145]\tvalidation_0-logloss:0.261855\n",
      "[146]\tvalidation_0-logloss:0.26212\n",
      "[147]\tvalidation_0-logloss:0.261863\n",
      "[148]\tvalidation_0-logloss:0.262722\n",
      "[149]\tvalidation_0-logloss:0.263811\n",
      "[150]\tvalidation_0-logloss:0.262319\n",
      "[151]\tvalidation_0-logloss:0.263358\n",
      "[152]\tvalidation_0-logloss:0.263637\n",
      "[153]\tvalidation_0-logloss:0.261891\n",
      "[154]\tvalidation_0-logloss:0.261477\n",
      "[155]\tvalidation_0-logloss:0.261113\n",
      "[156]\tvalidation_0-logloss:0.259671\n",
      "[157]\tvalidation_0-logloss:0.259704\n",
      "[158]\tvalidation_0-logloss:0.260315\n",
      "[159]\tvalidation_0-logloss:0.259407\n",
      "[160]\tvalidation_0-logloss:0.258327\n",
      "[161]\tvalidation_0-logloss:0.257384\n",
      "[162]\tvalidation_0-logloss:0.258421\n",
      "[163]\tvalidation_0-logloss:0.258253\n",
      "[164]\tvalidation_0-logloss:0.258519\n",
      "[165]\tvalidation_0-logloss:0.259549\n",
      "[166]\tvalidation_0-logloss:0.258079\n",
      "[167]\tvalidation_0-logloss:0.258563\n",
      "[168]\tvalidation_0-logloss:0.256637\n",
      "[169]\tvalidation_0-logloss:0.255683\n",
      "[170]\tvalidation_0-logloss:0.255653\n",
      "[171]\tvalidation_0-logloss:0.256654\n",
      "[172]\tvalidation_0-logloss:0.256151\n",
      "[173]\tvalidation_0-logloss:0.256716\n",
      "[174]\tvalidation_0-logloss:0.256104\n",
      "[175]\tvalidation_0-logloss:0.256274\n",
      "[176]\tvalidation_0-logloss:0.257283\n",
      "[177]\tvalidation_0-logloss:0.257017\n",
      "[178]\tvalidation_0-logloss:0.256748\n",
      "[179]\tvalidation_0-logloss:0.255887\n",
      "[180]\tvalidation_0-logloss:0.25591\n",
      "[181]\tvalidation_0-logloss:0.256862\n",
      "[182]\tvalidation_0-logloss:0.257125\n",
      "[183]\tvalidation_0-logloss:0.256854\n",
      "[184]\tvalidation_0-logloss:0.257017\n",
      "[185]\tvalidation_0-logloss:0.256524\n",
      "[186]\tvalidation_0-logloss:0.256709\n",
      "[187]\tvalidation_0-logloss:0.256187\n",
      "[188]\tvalidation_0-logloss:0.256666\n",
      "[189]\tvalidation_0-logloss:0.256881\n",
      "[190]\tvalidation_0-logloss:0.257837\n",
      "[191]\tvalidation_0-logloss:0.257867\n",
      "[192]\tvalidation_0-logloss:0.258776\n",
      "[193]\tvalidation_0-logloss:0.258285\n",
      "[194]\tvalidation_0-logloss:0.256986\n",
      "[195]\tvalidation_0-logloss:0.257172\n",
      "[196]\tvalidation_0-logloss:0.257618\n",
      "[197]\tvalidation_0-logloss:0.257885\n",
      "[198]\tvalidation_0-logloss:0.257127\n",
      "[199]\tvalidation_0-logloss:0.257157\n",
      "[200]\tvalidation_0-logloss:0.256769\n",
      "[201]\tvalidation_0-logloss:0.256466\n",
      "[202]\tvalidation_0-logloss:0.256647\n",
      "[203]\tvalidation_0-logloss:0.256597\n",
      "[204]\tvalidation_0-logloss:0.256141\n",
      "[205]\tvalidation_0-logloss:0.255929\n",
      "[206]\tvalidation_0-logloss:0.256126\n",
      "[207]\tvalidation_0-logloss:0.256363\n",
      "[208]\tvalidation_0-logloss:0.256579\n",
      "[209]\tvalidation_0-logloss:0.257663\n",
      "[210]\tvalidation_0-logloss:0.257051\n",
      "[211]\tvalidation_0-logloss:0.258036\n",
      "[212]\tvalidation_0-logloss:0.258489\n",
      "[213]\tvalidation_0-logloss:0.258464\n",
      "[214]\tvalidation_0-logloss:0.258724\n",
      "[215]\tvalidation_0-logloss:0.25977\n",
      "[216]\tvalidation_0-logloss:0.259301\n",
      "[217]\tvalidation_0-logloss:0.259594\n",
      "[218]\tvalidation_0-logloss:0.259373\n",
      "[219]\tvalidation_0-logloss:0.259152\n",
      "[220]\tvalidation_0-logloss:0.258469\n",
      "[221]\tvalidation_0-logloss:0.257866\n",
      "[222]\tvalidation_0-logloss:0.258354\n",
      "[223]\tvalidation_0-logloss:0.257928\n",
      "[224]\tvalidation_0-logloss:0.258204\n",
      "[225]\tvalidation_0-logloss:0.257916\n",
      "[226]\tvalidation_0-logloss:0.258212\n",
      "[227]\tvalidation_0-logloss:0.258026\n",
      "[228]\tvalidation_0-logloss:0.257561\n",
      "[229]\tvalidation_0-logloss:0.257301\n"
     ]
    },
    {
     "name": "stdout",
     "output_type": "stream",
     "text": [
      "[230]\tvalidation_0-logloss:0.256739\n",
      "[231]\tvalidation_0-logloss:0.256835\n",
      "[232]\tvalidation_0-logloss:0.257295\n",
      "[233]\tvalidation_0-logloss:0.256574\n",
      "[234]\tvalidation_0-logloss:0.257601\n",
      "[235]\tvalidation_0-logloss:0.257276\n",
      "[236]\tvalidation_0-logloss:0.257589\n",
      "[237]\tvalidation_0-logloss:0.258053\n",
      "[238]\tvalidation_0-logloss:0.257286\n",
      "[239]\tvalidation_0-logloss:0.257477\n",
      "[240]\tvalidation_0-logloss:0.257389\n",
      "[241]\tvalidation_0-logloss:0.258206\n",
      "[242]\tvalidation_0-logloss:0.2588\n",
      "[243]\tvalidation_0-logloss:0.25916\n",
      "[244]\tvalidation_0-logloss:0.259032\n",
      "[245]\tvalidation_0-logloss:0.259685\n",
      "[246]\tvalidation_0-logloss:0.259867\n",
      "[247]\tvalidation_0-logloss:0.259547\n",
      "[248]\tvalidation_0-logloss:0.259988\n",
      "[249]\tvalidation_0-logloss:0.259083\n",
      "[250]\tvalidation_0-logloss:0.258263\n",
      "[251]\tvalidation_0-logloss:0.258362\n",
      "[252]\tvalidation_0-logloss:0.259286\n",
      "[253]\tvalidation_0-logloss:0.259664\n",
      "[254]\tvalidation_0-logloss:0.25935\n",
      "[255]\tvalidation_0-logloss:0.260269\n",
      "[256]\tvalidation_0-logloss:0.260712\n",
      "[257]\tvalidation_0-logloss:0.260403\n",
      "[258]\tvalidation_0-logloss:0.260199\n",
      "[259]\tvalidation_0-logloss:0.260096\n",
      "[260]\tvalidation_0-logloss:0.259596\n",
      "[261]\tvalidation_0-logloss:0.259872\n",
      "[262]\tvalidation_0-logloss:0.260781\n",
      "[263]\tvalidation_0-logloss:0.260463\n",
      "[264]\tvalidation_0-logloss:0.261157\n",
      "[265]\tvalidation_0-logloss:0.259678\n",
      "[266]\tvalidation_0-logloss:0.259206\n",
      "[267]\tvalidation_0-logloss:0.259665\n",
      "[268]\tvalidation_0-logloss:0.259251\n",
      "[269]\tvalidation_0-logloss:0.259542\n",
      "[270]\tvalidation_0-logloss:0.259554\n",
      "Stopping. Best iteration:\n",
      "[170]\tvalidation_0-logloss:0.255653\n",
      "\n",
      "오차행렬 \n",
      " [[25  5]\n",
      " [ 1 30]]\n",
      "정확도: 0.9016\n",
      "정밀도: 0.8571\n",
      "재현율: 0.9677\n",
      "F1: 0.9091\n",
      "AUC: 0.9005\n"
     ]
    }
   ],
   "source": [
    "# 하이퍼파라미터 설정 후 XGBoost 학습/예측\n",
    "xgb2 = XGBClassifier(n_estimators = 400, learning_rate = 0.1 , max_depth = 3)\n",
    "evals = [(X_test, y_test)] \n",
    "xgb2.fit(X_train, y_train, early_stopping_rounds = 100, \n",
    "         eval_metric=\"logloss\", eval_set = evals, verbose=True) \n",
    "xgb2_pred = xgb2.predict(X_test)\n",
    "\n",
    "# 성능 평가\n",
    "get_clf_eval(y_test, xgb2_pred)"
   ]
  },
  {
   "cell_type": "markdown",
   "metadata": {},
   "source": [
    "3-10"
   ]
  },
  {
   "cell_type": "markdown",
   "metadata": {},
   "source": [
    "\n",
    "\n",
    "사이킷런 래퍼 LightGBM클래스로 데이터를 학습, 예측을 한 후 get_clf_eval함수로 성능평가를 해주세요.\n"
   ]
  },
  {
   "cell_type": "markdown",
   "metadata": {},
   "source": [
    "\n",
    "▶ n_estimators = 400"
   ]
  },
  {
   "cell_type": "code",
   "execution_count": 20,
   "metadata": {},
   "outputs": [
    {
     "name": "stdout",
     "output_type": "stream",
     "text": [
      "오차행렬 \n",
      " [[25  5]\n",
      " [ 1 30]]\n",
      "정확도: 0.9016\n",
      "정밀도: 0.8571\n",
      "재현율: 0.9677\n",
      "F1: 0.9091\n",
      "AUC: 0.9005\n"
     ]
    }
   ],
   "source": [
    "# LightGBM 학습/예측\n",
    "lgbm = LGBMClassifier(n_estimators=400)\n",
    "lgbm.fit(X_train, y_train)\n",
    "lgbm_pred = lgbm.predict(X_test)\n",
    "\n",
    "# 성능 평가\n",
    "get_clf_eval(y_test, lgbm_pred)"
   ]
  },
  {
   "cell_type": "markdown",
   "metadata": {},
   "source": [
    "3-11"
   ]
  },
  {
   "cell_type": "markdown",
   "metadata": {},
   "source": [
    "\n",
    "\n",
    "하이퍼 파라미터를 설정하여 사이킷런 래퍼 LightGBM클래스로 데이터를 학습, 예측을 한 후 get_clf_eval함수로 성능평가를 해주세요.\n"
   ]
  },
  {
   "cell_type": "markdown",
   "metadata": {},
   "source": [
    "▶ n_estimators = 400"
   ]
  },
  {
   "cell_type": "markdown",
   "metadata": {},
   "source": [
    "\n",
    "\n",
    "▶ early_stopping_rounds = 100, eval_metric = \"logloss\", eval_set = evals, verbose = True"
   ]
  },
  {
   "cell_type": "code",
   "execution_count": 21,
   "metadata": {},
   "outputs": [
    {
     "name": "stdout",
     "output_type": "stream",
     "text": [
      "[1]\tvalid_0's binary_logloss: 0.644015\n",
      "Training until validation scores don't improve for 100 rounds\n",
      "[2]\tvalid_0's binary_logloss: 0.601156\n",
      "[3]\tvalid_0's binary_logloss: 0.562212\n",
      "[4]\tvalid_0's binary_logloss: 0.536916\n",
      "[5]\tvalid_0's binary_logloss: 0.506428\n",
      "[6]\tvalid_0's binary_logloss: 0.486229\n",
      "[7]\tvalid_0's binary_logloss: 0.46707\n",
      "[8]\tvalid_0's binary_logloss: 0.451735\n",
      "[9]\tvalid_0's binary_logloss: 0.437882\n",
      "[10]\tvalid_0's binary_logloss: 0.426335\n",
      "[11]\tvalid_0's binary_logloss: 0.413759\n",
      "[12]\tvalid_0's binary_logloss: 0.404257\n",
      "[13]\tvalid_0's binary_logloss: 0.394804\n",
      "[14]\tvalid_0's binary_logloss: 0.386711\n",
      "[15]\tvalid_0's binary_logloss: 0.379279\n",
      "[16]\tvalid_0's binary_logloss: 0.372684\n",
      "[17]\tvalid_0's binary_logloss: 0.363005\n",
      "[18]\tvalid_0's binary_logloss: 0.354891\n",
      "[19]\tvalid_0's binary_logloss: 0.349851\n",
      "[20]\tvalid_0's binary_logloss: 0.345137\n",
      "[21]\tvalid_0's binary_logloss: 0.339378\n",
      "[22]\tvalid_0's binary_logloss: 0.334821\n",
      "[23]\tvalid_0's binary_logloss: 0.327429\n",
      "[24]\tvalid_0's binary_logloss: 0.327058\n",
      "[25]\tvalid_0's binary_logloss: 0.321644\n",
      "[26]\tvalid_0's binary_logloss: 0.312938\n",
      "[27]\tvalid_0's binary_logloss: 0.308963\n",
      "[28]\tvalid_0's binary_logloss: 0.305293\n",
      "[29]\tvalid_0's binary_logloss: 0.297941\n",
      "[30]\tvalid_0's binary_logloss: 0.292996\n",
      "[31]\tvalid_0's binary_logloss: 0.28995\n",
      "[32]\tvalid_0's binary_logloss: 0.286267\n",
      "[33]\tvalid_0's binary_logloss: 0.283757\n",
      "[34]\tvalid_0's binary_logloss: 0.279973\n",
      "[35]\tvalid_0's binary_logloss: 0.278529\n",
      "[36]\tvalid_0's binary_logloss: 0.276976\n",
      "[37]\tvalid_0's binary_logloss: 0.276686\n",
      "[38]\tvalid_0's binary_logloss: 0.27687\n",
      "[39]\tvalid_0's binary_logloss: 0.270579\n",
      "[40]\tvalid_0's binary_logloss: 0.267479\n",
      "[41]\tvalid_0's binary_logloss: 0.268025\n",
      "[42]\tvalid_0's binary_logloss: 0.263808\n",
      "[43]\tvalid_0's binary_logloss: 0.259724\n",
      "[44]\tvalid_0's binary_logloss: 0.255616\n",
      "[45]\tvalid_0's binary_logloss: 0.255909\n",
      "[46]\tvalid_0's binary_logloss: 0.254535\n",
      "[47]\tvalid_0's binary_logloss: 0.254344\n",
      "[48]\tvalid_0's binary_logloss: 0.2566\n",
      "[49]\tvalid_0's binary_logloss: 0.257037\n",
      "[50]\tvalid_0's binary_logloss: 0.253621\n",
      "[51]\tvalid_0's binary_logloss: 0.256774\n",
      "[52]\tvalid_0's binary_logloss: 0.255404\n",
      "[53]\tvalid_0's binary_logloss: 0.252031\n",
      "[54]\tvalid_0's binary_logloss: 0.252079\n",
      "[55]\tvalid_0's binary_logloss: 0.252835\n",
      "[56]\tvalid_0's binary_logloss: 0.249491\n",
      "[57]\tvalid_0's binary_logloss: 0.249332\n",
      "[58]\tvalid_0's binary_logloss: 0.24747\n",
      "[59]\tvalid_0's binary_logloss: 0.24472\n",
      "[60]\tvalid_0's binary_logloss: 0.243134\n",
      "[61]\tvalid_0's binary_logloss: 0.243725\n",
      "[62]\tvalid_0's binary_logloss: 0.239125\n",
      "[63]\tvalid_0's binary_logloss: 0.239578\n",
      "[64]\tvalid_0's binary_logloss: 0.239534\n",
      "[65]\tvalid_0's binary_logloss: 0.242971\n",
      "[66]\tvalid_0's binary_logloss: 0.245073\n",
      "[67]\tvalid_0's binary_logloss: 0.248373\n",
      "[68]\tvalid_0's binary_logloss: 0.247567\n",
      "[69]\tvalid_0's binary_logloss: 0.246994\n",
      "[70]\tvalid_0's binary_logloss: 0.247205\n",
      "[71]\tvalid_0's binary_logloss: 0.248711\n",
      "[72]\tvalid_0's binary_logloss: 0.253591\n",
      "[73]\tvalid_0's binary_logloss: 0.251622\n",
      "[74]\tvalid_0's binary_logloss: 0.25294\n",
      "[75]\tvalid_0's binary_logloss: 0.251174\n",
      "[76]\tvalid_0's binary_logloss: 0.249044\n",
      "[77]\tvalid_0's binary_logloss: 0.250593\n",
      "[78]\tvalid_0's binary_logloss: 0.250421\n",
      "[79]\tvalid_0's binary_logloss: 0.251905\n",
      "[80]\tvalid_0's binary_logloss: 0.251961\n",
      "[81]\tvalid_0's binary_logloss: 0.251986\n",
      "[82]\tvalid_0's binary_logloss: 0.250968\n",
      "[83]\tvalid_0's binary_logloss: 0.250695\n",
      "[84]\tvalid_0's binary_logloss: 0.253202\n",
      "[85]\tvalid_0's binary_logloss: 0.25586\n",
      "[86]\tvalid_0's binary_logloss: 0.256567\n",
      "[87]\tvalid_0's binary_logloss: 0.255838\n",
      "[88]\tvalid_0's binary_logloss: 0.257909\n",
      "[89]\tvalid_0's binary_logloss: 0.260784\n",
      "[90]\tvalid_0's binary_logloss: 0.259454\n",
      "[91]\tvalid_0's binary_logloss: 0.261166\n",
      "[92]\tvalid_0's binary_logloss: 0.260737\n",
      "[93]\tvalid_0's binary_logloss: 0.25846\n",
      "[94]\tvalid_0's binary_logloss: 0.256705\n",
      "[95]\tvalid_0's binary_logloss: 0.253712\n",
      "[96]\tvalid_0's binary_logloss: 0.253464\n",
      "[97]\tvalid_0's binary_logloss: 0.257431\n",
      "[98]\tvalid_0's binary_logloss: 0.25579\n",
      "[99]\tvalid_0's binary_logloss: 0.259589\n",
      "[100]\tvalid_0's binary_logloss: 0.257362\n",
      "[101]\tvalid_0's binary_logloss: 0.25615\n",
      "[102]\tvalid_0's binary_logloss: 0.257099\n",
      "[103]\tvalid_0's binary_logloss: 0.257997\n",
      "[104]\tvalid_0's binary_logloss: 0.257754\n",
      "[105]\tvalid_0's binary_logloss: 0.257233\n",
      "[106]\tvalid_0's binary_logloss: 0.257342\n",
      "[107]\tvalid_0's binary_logloss: 0.255365\n",
      "[108]\tvalid_0's binary_logloss: 0.25224\n",
      "[109]\tvalid_0's binary_logloss: 0.252781\n",
      "[110]\tvalid_0's binary_logloss: 0.25678\n",
      "[111]\tvalid_0's binary_logloss: 0.257725\n",
      "[112]\tvalid_0's binary_logloss: 0.256577\n",
      "[113]\tvalid_0's binary_logloss: 0.255426\n",
      "[114]\tvalid_0's binary_logloss: 0.25315\n",
      "[115]\tvalid_0's binary_logloss: 0.254571\n",
      "[116]\tvalid_0's binary_logloss: 0.251788\n",
      "[117]\tvalid_0's binary_logloss: 0.252061\n",
      "[118]\tvalid_0's binary_logloss: 0.253387\n",
      "[119]\tvalid_0's binary_logloss: 0.254764\n",
      "[120]\tvalid_0's binary_logloss: 0.258026\n",
      "[121]\tvalid_0's binary_logloss: 0.258349\n",
      "[122]\tvalid_0's binary_logloss: 0.262043\n",
      "[123]\tvalid_0's binary_logloss: 0.263201\n",
      "[124]\tvalid_0's binary_logloss: 0.262029\n",
      "[125]\tvalid_0's binary_logloss: 0.262584\n",
      "[126]\tvalid_0's binary_logloss: 0.263866\n",
      "[127]\tvalid_0's binary_logloss: 0.26431\n",
      "[128]\tvalid_0's binary_logloss: 0.265047\n",
      "[129]\tvalid_0's binary_logloss: 0.263685\n",
      "[130]\tvalid_0's binary_logloss: 0.268395\n",
      "[131]\tvalid_0's binary_logloss: 0.267681\n",
      "[132]\tvalid_0's binary_logloss: 0.265125\n",
      "[133]\tvalid_0's binary_logloss: 0.265178\n",
      "[134]\tvalid_0's binary_logloss: 0.26637\n",
      "[135]\tvalid_0's binary_logloss: 0.267121\n",
      "[136]\tvalid_0's binary_logloss: 0.270706\n",
      "[137]\tvalid_0's binary_logloss: 0.270003\n",
      "[138]\tvalid_0's binary_logloss: 0.271888\n",
      "[139]\tvalid_0's binary_logloss: 0.270656\n",
      "[140]\tvalid_0's binary_logloss: 0.268671\n",
      "[141]\tvalid_0's binary_logloss: 0.273128\n",
      "[142]\tvalid_0's binary_logloss: 0.273195\n",
      "[143]\tvalid_0's binary_logloss: 0.270087\n",
      "[144]\tvalid_0's binary_logloss: 0.269426\n",
      "[145]\tvalid_0's binary_logloss: 0.268328\n",
      "[146]\tvalid_0's binary_logloss: 0.269937\n",
      "[147]\tvalid_0's binary_logloss: 0.269587\n",
      "[148]\tvalid_0's binary_logloss: 0.269114\n",
      "[149]\tvalid_0's binary_logloss: 0.269674\n",
      "[150]\tvalid_0's binary_logloss: 0.267957\n",
      "[151]\tvalid_0's binary_logloss: 0.271123\n",
      "[152]\tvalid_0's binary_logloss: 0.272717\n",
      "[153]\tvalid_0's binary_logloss: 0.271946\n",
      "[154]\tvalid_0's binary_logloss: 0.271275\n",
      "[155]\tvalid_0's binary_logloss: 0.27189\n",
      "[156]\tvalid_0's binary_logloss: 0.272653\n",
      "[157]\tvalid_0's binary_logloss: 0.276115\n",
      "[158]\tvalid_0's binary_logloss: 0.279718\n",
      "[159]\tvalid_0's binary_logloss: 0.280834\n",
      "[160]\tvalid_0's binary_logloss: 0.28134\n",
      "[161]\tvalid_0's binary_logloss: 0.281785\n",
      "[162]\tvalid_0's binary_logloss: 0.280679\n",
      "Early stopping, best iteration is:\n",
      "[62]\tvalid_0's binary_logloss: 0.239125\n",
      "오차행렬 \n",
      " [[25  5]\n",
      " [ 1 30]]\n",
      "정확도: 0.9016\n",
      "정밀도: 0.8571\n",
      "재현율: 0.9677\n",
      "F1: 0.9091\n",
      "AUC: 0.9005\n"
     ]
    }
   ],
   "source": [
    "# 하이퍼파라미터 설정 후 LightGBM 학습/예측\n",
    "lgbm2 = LGBMClassifier(n_estimators = 400)\n",
    "evals = [(X_test, y_test)] \n",
    "lgbm2.fit(X_train, y_train, early_stopping_rounds = 100, \n",
    "         eval_metric=\"logloss\", eval_set = evals, verbose=True) \n",
    "lgbm2_pred = lgbm2.predict(X_test)\n",
    "\n",
    "# 성능평가\n",
    "get_clf_eval(y_test, lgbm2_pred)"
   ]
  },
  {
   "cell_type": "markdown",
   "metadata": {},
   "source": [
    "3-12\n"
   ]
  },
  {
   "cell_type": "markdown",
   "metadata": {},
   "source": [
    "하이퍼 파라미터 early_stopping_rounds 의 의미를 설명해 주시고, early_stopping_rounds를 급격히 줄일 시 예상되는 단점을 설명해 주세요."
   ]
  },
  {
   "cell_type": "markdown",
   "metadata": {},
   "source": [
    "* early_stopping_rounds는 조기중단을 설정하는 파라미터로, 지정 횟수 동안 모델이 개선되지 않으면 남은 n_estimators 횟수와 관계없이 학습을 종료합니다. \n",
    "* 이는 불필요한 학습을 줄일 수 있기 때문에 학습 수행 시간을 단축할 수 있습니다.\n",
    "* 단, early_stopping_rounds를 극단적으로 줄이면 모델 개선 여지가 있음에도 학습을 조기종료할 위험이 있기 때문에 적절하게 지정해주어야 합니다."
   ]
  },
  {
   "cell_type": "markdown",
   "metadata": {},
   "source": [
    "# 자율문제(데이터가 큰 경우)"
   ]
  },
  {
   "cell_type": "markdown",
   "metadata": {},
   "source": [
    "자유롭게 푸시는 문제입니다. 피드백은 해드리지 않습니다. 데이터 전처리만 제공하고 배웠던 앙상블을 사용하여 자유롭게 푸시면됩니다.\n"
   ]
  },
  {
   "cell_type": "markdown",
   "metadata": {},
   "source": [
    "\n",
    "신용카드 거래 중 사기거래 였던 경우를 감지하는 데이터입니다. 이미 정제된 데이터를 통해 사기인지 아닌지를 구분합니다.\n"
   ]
  },
  {
   "cell_type": "markdown",
   "metadata": {},
   "source": [
    "\n",
    "의미없는 'Time'열을 삭제했고, 'Amount'열을 StandardScaler로 데이터를 전처리 했고, <br>\n",
    "'Class'열과 그외의 열을 구분하여 y와 X에 할당하였습니다.\n"
   ]
  },
  {
   "cell_type": "markdown",
   "metadata": {},
   "source": [
    "\n",
    "데이터가 사기가 아닌경우로 치중되어 있기 때문에, SMOTE를 이용하여 언더샘플링을 하였습니다.<br>\n",
    "언더샘플링을 하지 않으면 시간이 오래 걸립니다! 궁금하신분은 해보시기 바랍니다.\n",
    "\n"
   ]
  },
  {
   "cell_type": "code",
   "execution_count": 22,
   "metadata": {},
   "outputs": [],
   "source": [
    "credit = pd.read_csv('C:/Users/USER/BITAmin/data/creditcard.csv')\n",
    "credit = credit.drop('Time',axis = 1)\n",
    "scaler = preprocessing.StandardScaler()\n",
    "credit['std_Amount'] = scaler.fit_transform(credit['Amount'].values.reshape (-1,1))\n",
    "credit = credit.drop(\"Amount\", axis=1)\n",
    "X = credit.drop('Class',axis = 1)\n",
    "y = credit['Class']"
   ]
  },
  {
   "cell_type": "code",
   "execution_count": 23,
   "metadata": {},
   "outputs": [
    {
     "data": {
      "text/plain": [
       "0    284315\n",
       "1       492\n",
       "Name: Class, dtype: int64"
      ]
     },
     "execution_count": 23,
     "metadata": {},
     "output_type": "execute_result"
    }
   ],
   "source": [
    "credit['Class'].value_counts()\n",
    "# 데이터가 치중되어 있습니다."
   ]
  },
  {
   "cell_type": "code",
   "execution_count": 24,
   "metadata": {},
   "outputs": [],
   "source": [
    "import imblearn\n",
    "from imblearn.under_sampling import RandomUnderSampler \n",
    "\n",
    "undersample = RandomUnderSampler(sampling_strategy=0.5)\n",
    "X_under, y_under = undersample.fit_resample(X, y)\n",
    "X_train, X_test, y_train, y_test = train_test_split(X_under, y_under , test_size = 0.3, random_state=156) "
   ]
  },
  {
   "cell_type": "code",
   "execution_count": null,
   "metadata": {},
   "outputs": [],
   "source": []
  }
 ],
 "metadata": {
  "kernelspec": {
   "display_name": "Python 3",
   "language": "python",
   "name": "python3"
  },
  "language_info": {
   "codemirror_mode": {
    "name": "ipython",
    "version": 3
   },
   "file_extension": ".py",
   "mimetype": "text/x-python",
   "name": "python",
   "nbconvert_exporter": "python",
   "pygments_lexer": "ipython3",
   "version": "3.7.3"
  }
 },
 "nbformat": 4,
 "nbformat_minor": 5
}
