{
 "cells": [
  {
   "cell_type": "markdown",
   "metadata": {},
   "source": [
    "# MultiClassNetwork "
   ]
  },
  {
   "cell_type": "code",
   "execution_count": 1,
   "metadata": {},
   "outputs": [],
   "source": [
    "import numpy as np\n",
    "\n",
    "class MultiClassNetwork:\n",
    "    \n",
    "    def __init__(self, units=10, batch_size=32, learning_rate=0.1, l1=0, l2=0):\n",
    "        self.units = units         # 은닉층의 뉴런 개수\n",
    "        self.batch_size = batch_size     # 배치 크기\n",
    "        self.w1 = None             # 은닉층의 가중치\n",
    "        self.b1 = None             # 은닉층의 절편\n",
    "        self.w2 = None             # 출력층의 가중치\n",
    "        self.b2 = None             # 출력층의 절편\n",
    "        self.a1 = None             # 은닉층의 활성화 출력\n",
    "        self.losses = []           # 훈련 손실\n",
    "        self.val_losses = []       # 검증 손실\n",
    "        self.lr = learning_rate    # 학습률\n",
    "        self.l1 = l1               # L1 손실 하이퍼파라미터\n",
    "        self.l2 = l2               # L2 손실 하이퍼파라미터\n",
    "\n",
    "    def forpass(self, x):\n",
    "        z1 = np.dot(x, self.w1) + self.b1        # 첫 번째 층의 선형 식을 계산합니다\n",
    "        self.a1 = self.sigmoid(z1)               # 활성화 함수를 적용합니다\n",
    "        z2 = np.dot(self.a1, self.w2) + self.b2  # 두 번째 층의 선형 식을 계산합니다.\n",
    "        return z2\n",
    "\n",
    "    def backprop(self, x, err):\n",
    "        m = len(x)       # 샘플 개수\n",
    "        # 출력층의 가중치와 절편에 대한 그래디언트를 계산합니다.\n",
    "        w2_grad = np.dot(self.a1.T, err) / m\n",
    "        b2_grad = np.sum(err) / m\n",
    "        # 시그모이드 함수까지 그래디언트를 계산합니다.\n",
    "        err_to_hidden = np.dot(err, self.w2.T) * self.a1 * (1 - self.a1)\n",
    "        # 은닉층의 가중치와 절편에 대한 그래디언트를 계산합니다.\n",
    "        w1_grad = np.dot(x.T, err_to_hidden) / m\n",
    "        b1_grad = np.sum(err_to_hidden, axis=0) / m\n",
    "        return w1_grad, b1_grad, w2_grad, b2_grad\n",
    "    \n",
    "    def sigmoid(self, z):\n",
    "        z = np.clip(z, -100, None)            # 안전한 np.exp() 계산을 위해\n",
    "        a = 1 / (1 + np.exp(-z))              # 시그모이드 계산\n",
    "        return a\n",
    "    \n",
    "    def softmax(self, z):\n",
    "        # 소프트맥스 함수\n",
    "        z = np.clip(z, -100, None)            # 안전한 np.exp() 계산을 위해\n",
    "        exp_z = np.exp(z)\n",
    "        return exp_z / np.sum(exp_z, axis=1).reshape(-1, 1)\n",
    " \n",
    "    def init_weights(self, n_features, n_classes):\n",
    "        self.w1 = np.random.normal(0, 1, \n",
    "                                   (n_features, self.units))  # (특성 개수, 은닉층의 크기)\n",
    "        self.b1 = np.zeros(self.units)                        # 은닉층의 크기\n",
    "        self.w2 = np.random.normal(0, 1, \n",
    "                                   (self.units, n_classes))   # (은닉층의 크기, 클래스 개수)\n",
    "        self.b2 = np.zeros(n_classes)\n",
    "        \n",
    "    def fit(self, x, y, epochs=100, x_val=None, y_val=None):\n",
    "        np.random.seed(42)\n",
    "        self.init_weights(x.shape[1], y.shape[1])    # 은닉층과 출력층의 가중치를 초기화합니다.\n",
    "        # epochs만큼 반복합니다.\n",
    "        for i in range(epochs):\n",
    "            loss = 0\n",
    "            print('.', end='')\n",
    "            # 제너레이터 함수에서 반환한 미니배치를 순환합니다.\n",
    "            for x_batch, y_batch in self.gen_batch(x, y):\n",
    "                a = self.training(x_batch, y_batch)\n",
    "                # 안전한 로그 계산을 위해 클리핑합니다.\n",
    "                a = np.clip(a, 1e-10, 1-1e-10)\n",
    "                # 로그 손실과 규제 손실을 더하여 리스트에 추가합니다.\n",
    "                loss += np.sum(-y_batch*np.log(a))\n",
    "            self.losses.append((loss + self.reg_loss()) / len(x))\n",
    "            # 검증 세트에 대한 손실을 계산합니다.\n",
    "            self.update_val_loss(x_val, y_val)\n",
    "\n",
    "    # 미니배치 제너레이터 함수\n",
    "    def gen_batch(self, x, y):\n",
    "        length = len(x)\n",
    "        bins = length // self.batch_size # 미니배치 횟수\n",
    "        if length % self.batch_size:\n",
    "            bins += 1                    # 나누어 떨어지지 않을 때\n",
    "        indexes = np.random.permutation(np.arange(len(x))) # 인덱스를 섞습니다.\n",
    "        x = x[indexes]\n",
    "        y = y[indexes]\n",
    "        for i in range(bins):\n",
    "            start = self.batch_size * i\n",
    "            end = self.batch_size * (i + 1)\n",
    "            yield x[start:end], y[start:end]   # batch_size만큼 슬라이싱하여 반환합니다.\n",
    "            \n",
    "    def training(self, x, y):\n",
    "        m = len(x)                # 샘플 개수를 저장합니다.\n",
    "        z = self.forpass(x)       # 정방향 계산을 수행합니다.\n",
    "        a = self.softmax(z)       # 활성화 함수를 적용합니다.\n",
    "        err = -(y - a)            # 오차를 계산합니다.\n",
    "        # 오차를 역전파하여 그래디언트를 계산합니다.\n",
    "        w1_grad, b1_grad, w2_grad, b2_grad = self.backprop(x, err)\n",
    "        # 그래디언트에서 페널티 항의 미분 값을 뺍니다\n",
    "        w1_grad += (self.l1 * np.sign(self.w1) + self.l2 * self.w1) / m\n",
    "        w2_grad += (self.l1 * np.sign(self.w2) + self.l2 * self.w2) / m\n",
    "        # 은닉층의 가중치와 절편을 업데이트합니다.\n",
    "        self.w1 -= self.lr * w1_grad\n",
    "        self.b1 -= self.lr * b1_grad\n",
    "        # 출력층의 가중치와 절편을 업데이트합니다.\n",
    "        self.w2 -= self.lr * w2_grad\n",
    "        self.b2 -= self.lr * b2_grad\n",
    "        return a\n",
    "   \n",
    "    def predict(self, x):\n",
    "        z = self.forpass(x)          # 정방향 계산을 수행합니다.\n",
    "        return np.argmax(z, axis=1)  # 가장 큰 값의 인덱스를 반환합니다.\n",
    "    \n",
    "    def score(self, x, y):\n",
    "        # 예측과 타깃 열 벡터를 비교하여 True의 비율을 반환합니다.\n",
    "        return np.mean(self.predict(x) == np.argmax(y, axis=1))\n",
    "\n",
    "    def reg_loss(self):\n",
    "        # 은닉층과 출력층의 가중치에 규제를 적용합니다.\n",
    "        return self.l1 * (np.sum(np.abs(self.w1)) + np.sum(np.abs(self.w2))) + \\\n",
    "               self.l2 / 2 * (np.sum(self.w1**2) + np.sum(self.w2**2))\n",
    "\n",
    "    def update_val_loss(self, x_val, y_val):\n",
    "        z = self.forpass(x_val)            # 정방향 계산을 수행합니다.\n",
    "        a = self.softmax(z)                # 활성화 함수를 적용합니다.\n",
    "        a = np.clip(a, 1e-10, 1-1e-10)     # 출력 값을 클리핑합니다.\n",
    "        # 크로스 엔트로피 손실과 규제 손실을 더하여 리스트에 추가합니다.\n",
    "        val_loss = np.sum(-y_val*np.log(a))\n",
    "        self.val_losses.append((val_loss + self.reg_loss()) / len(y_val))"
   ]
  },
  {
   "cell_type": "markdown",
   "metadata": {},
   "source": [
    "# Practice - Fashion MNIST "
   ]
  },
  {
   "cell_type": "code",
   "execution_count": 4,
   "metadata": {},
   "outputs": [],
   "source": [
    "import tensorflow as tf\n",
    "(X_train_all, y_train_all), (X_test, y_test) = tf.keras.datasets.fashion_mnist.load_data() # load data"
   ]
  },
  {
   "cell_type": "code",
   "execution_count": 8,
   "metadata": {},
   "outputs": [
    {
     "name": "stdout",
     "output_type": "stream",
     "text": [
      "(60000, 28, 28) (60000,)\n"
     ]
    },
    {
     "data": {
      "image/png": "[encoded data removed]",
      "text/plain": [
       "<Figure size 432x288 with 1 Axes>"
      ]
     },
     "metadata": {
      "needs_background": "light"
     },
     "output_type": "display_data"
    }
   ],
   "source": [
    "print(X_train_all.shape, y_train_all.shape)\n",
    "import matplotlib.pyplot as plt\n",
    "plt.imshow(X_train_all[0], cmap='gray')\n",
    "plt.show()"
   ]
  },
  {
   "cell_type": "code",
   "execution_count": 10,
   "metadata": {},
   "outputs": [
    {
     "name": "stdout",
     "output_type": "stream",
     "text": [
      "[9 0 0 3 0 2 7 2 5 5]\n",
      "앵클부츠\n",
      "[6000 6000 6000 6000 6000 6000 6000 6000 6000 6000]\n"
     ]
    }
   ],
   "source": [
    "print(y_train_all[:10]) # index: 0~9\n",
    "class_names = ['티셔츠/윗도리', '바지', '스웨터', '드레스', '코트',\n",
    "               '샌들', '셔츠', '스니커즈', '가방', '앵클부츠']\n",
    "print(class_names[y_train_all[0]])\n",
    "print(np.bincount(y_train_all)) # target 분포 확인"
   ]
  },
  {
   "cell_type": "code",
   "execution_count": 12,
   "metadata": {},
   "outputs": [
    {
     "name": "stdout",
     "output_type": "stream",
     "text": [
      "[4800 4800 4800 4800 4800 4800 4800 4800 4800 4800]\n",
      "[1200 1200 1200 1200 1200 1200 1200 1200 1200 1200]\n",
      "(48000, 784) (12000, 784)\n"
     ]
    }
   ],
   "source": [
    "from sklearn.model_selection import train_test_split\n",
    "X_train, X_val, y_train, y_val = train_test_split(X_train_all, y_train_all, stratify = y_train_all, test_size=0.2, random_state=42)\n",
    "# 레이블이 잘 나뉘었는지 확인\n",
    "print(np.bincount(y_train))\n",
    "print(np.bincount(y_val)) \n",
    "# 이미지 정규화\n",
    "X_train = X_train/255.\n",
    "X_val = X_val/255. \n",
    "# 2차원 배열 -> 1차원 변환\n",
    "X_train = X_train.reshape(-1, 784) # 784=28*28\n",
    "X_val = X_val.reshape(-1, 784)\n",
    "print(X_train.shape, X_val.shape)"
   ]
  },
  {
   "cell_type": "code",
   "execution_count": 14,
   "metadata": {},
   "outputs": [
    {
     "name": "stdout",
     "output_type": "stream",
     "text": [
      "(48000, 10) (12000, 10)\n",
      "6 [0. 0. 0. 0. 0. 0. 1. 0. 0. 0.]\n"
     ]
    }
   ],
   "source": [
    "# 원-핫 인코딩\n",
    "y_train_encoded = tf.keras.utils.to_categorical(y_train)\n",
    "y_val_encoded = tf.keras.utils.to_categorical(y_val)\n",
    "# 원-핫 인코딩 확인\n",
    "print(y_train_encoded.shape, y_val_encoded.shape)\n",
    "print(y_train[0], y_train_encoded[0])"
   ]
  },
  {
   "cell_type": "code",
   "execution_count": 16,
   "metadata": {},
   "outputs": [
    {
     "name": "stdout",
     "output_type": "stream",
     "text": [
      "........................................"
     ]
    }
   ],
   "source": [
    "# 다중분류신경망을 40번 epoch 동안 훈련\n",
    "fc = MultiClassNetwork(units=100, batch_size=256)\n",
    "fc.fit(X_train, y_train_encoded, x_val=X_val, y_val=y_val_encoded, epochs=40)"
   ]
  },
  {
   "cell_type": "code",
   "execution_count": 17,
   "metadata": {},
   "outputs": [
    {
     "data": {
      "image/png": "[encoded data removed]",
      "text/plain": [
       "<Figure size 432x288 with 1 Axes>"
      ]
     },
     "metadata": {
      "needs_background": "light"
     },
     "output_type": "display_data"
    }
   ],
   "source": [
    "plt.plot(fc.losses)\n",
    "plt.plot(fc.val_losses)\n",
    "plt.ylabel('loss')\n",
    "plt.xlabel('iteration')\n",
    "plt.legend(['train_loss', 'val_loss'])\n",
    "plt.show()"
   ]
  },
  {
   "cell_type": "code",
   "execution_count": 18,
   "metadata": {},
   "outputs": [
    {
     "data": {
      "text/plain": [
       "0.8150833333333334"
      ]
     },
     "execution_count": 18,
     "metadata": {},
     "output_type": "execute_result"
    }
   ],
   "source": [
    "fc.score(X_val, y_val_encoded)\n",
    "# 무작위로 10가지 중 하나의 의류를 선택할 경우의 확률인 10% 보다는 높지만 오차가 크다.\n",
    "# 제대로 된 모델을 만들기 위해선 전문 딥러닝 패키지를 사용해야 한다."
   ]
  },
  {
   "cell_type": "markdown",
   "metadata": {},
   "source": [
    "# Practice - Keras를 이용한 모델\n",
    "* Keras: Sequential 클래스 + Dense 클래스\n",
    "* Sequential: 인공신경망 모델을 만들기 위한 클래스. 순차적으로 층을 쌓은 신경망 모델\n",
    "* Dense: 완전 연결층을 만들기 위한 클래스. 모델에 포함된 완전 연결층"
   ]
  },
  {
   "cell_type": "code",
   "execution_count": 21,
   "metadata": {},
   "outputs": [],
   "source": [
    "from tensorflow.keras import Sequential\n",
    "from tensorflow.keras.layers import Dense"
   ]
  },
  {
   "cell_type": "code",
   "execution_count": 22,
   "metadata": {},
   "outputs": [
    {
     "name": "stdout",
     "output_type": "stream",
     "text": [
      "Train on 48000 samples, validate on 12000 samples\n",
      "Epoch 1/40\n",
      "WARNING:tensorflow:Entity <function Function._initialize_uninitialized_variables.<locals>.initialize_variables at 0x00000185B0795A60> could not be transformed and will be executed as-is. Please report this to the AutoGraph team. When filing the bug, set the verbosity to 10 (on Linux, `export AUTOGRAPH_VERBOSITY=10`) and attach the full output. Cause: No module named 'tensorflow_core.estimator'\n"
     ]
    },
    {
     "name": "stderr",
     "output_type": "stream",
     "text": [
      "WARNING:tensorflow:Entity <function Function._initialize_uninitialized_variables.<locals>.initialize_variables at 0x00000185B0795A60> could not be transformed and will be executed as-is. Please report this to the AutoGraph team. When filing the bug, set the verbosity to 10 (on Linux, `export AUTOGRAPH_VERBOSITY=10`) and attach the full output. Cause: No module named 'tensorflow_core.estimator'\n"
     ]
    },
    {
     "name": "stdout",
     "output_type": "stream",
     "text": [
      "WARNING: Entity <function Function._initialize_uninitialized_variables.<locals>.initialize_variables at 0x00000185B0795A60> could not be transformed and will be executed as-is. Please report this to the AutoGraph team. When filing the bug, set the verbosity to 10 (on Linux, `export AUTOGRAPH_VERBOSITY=10`) and attach the full output. Cause: No module named 'tensorflow_core.estimator'\n",
      "48000/48000 [==============================] - 6s 130us/sample - loss: 1.3825 - accuracy: 0.6608 - val_loss: 0.9581 - val_accuracy: 0.7241\n",
      "Epoch 2/40\n",
      "48000/48000 [==============================] - 5s 114us/sample - loss: 0.8369 - accuracy: 0.7441 - val_loss: 0.7489 - val_accuracy: 0.7615\n",
      "Epoch 3/40\n",
      "48000/48000 [==============================] - 6s 117us/sample - loss: 0.7086 - accuracy: 0.7655 - val_loss: 0.6633 - val_accuracy: 0.7816\n",
      "Epoch 4/40\n",
      "48000/48000 [==============================] - 6s 118us/sample - loss: 0.6449 - accuracy: 0.7819 - val_loss: 0.6143 - val_accuracy: 0.7897\n",
      "Epoch 5/40\n",
      "48000/48000 [==============================] - 5s 114us/sample - loss: 0.6040 - accuracy: 0.7939 - val_loss: 0.5780 - val_accuracy: 0.8011\n",
      "Epoch 6/40\n",
      "48000/48000 [==============================] - 6s 115us/sample - loss: 0.5741 - accuracy: 0.8037 - val_loss: 0.5509 - val_accuracy: 0.8112\n",
      "Epoch 7/40\n",
      "48000/48000 [==============================] - 5s 114us/sample - loss: 0.5509 - accuracy: 0.8121 - val_loss: 0.5305 - val_accuracy: 0.8158\n",
      "Epoch 8/40\n",
      "48000/48000 [==============================] - 6s 116us/sample - loss: 0.5325 - accuracy: 0.8170 - val_loss: 0.5144 - val_accuracy: 0.8209\n",
      "Epoch 9/40\n",
      "48000/48000 [==============================] - 5s 114us/sample - loss: 0.5179 - accuracy: 0.8220 - val_loss: 0.5001 - val_accuracy: 0.8244\n",
      "Epoch 10/40\n",
      "48000/48000 [==============================] - 6s 116us/sample - loss: 0.5056 - accuracy: 0.8254 - val_loss: 0.4891 - val_accuracy: 0.8288\n",
      "Epoch 11/40\n",
      "48000/48000 [==============================] - 6s 115us/sample - loss: 0.4952 - accuracy: 0.8285 - val_loss: 0.4823 - val_accuracy: 0.8297\n",
      "Epoch 12/40\n",
      "48000/48000 [==============================] - 6s 115us/sample - loss: 0.4863 - accuracy: 0.8307 - val_loss: 0.4715 - val_accuracy: 0.8338\n",
      "Epoch 13/40\n",
      "48000/48000 [==============================] - 6s 121us/sample - loss: 0.4786 - accuracy: 0.8335 - val_loss: 0.4631 - val_accuracy: 0.8363\n",
      "Epoch 14/40\n",
      "48000/48000 [==============================] - 5s 114us/sample - loss: 0.4712 - accuracy: 0.8360 - val_loss: 0.4573 - val_accuracy: 0.8382\n",
      "Epoch 15/40\n",
      "48000/48000 [==============================] - 6s 118us/sample - loss: 0.4651 - accuracy: 0.8375 - val_loss: 0.4509 - val_accuracy: 0.8413\n",
      "Epoch 16/40\n",
      "48000/48000 [==============================] - 6s 116us/sample - loss: 0.4596 - accuracy: 0.8393 - val_loss: 0.4496 - val_accuracy: 0.8418\n",
      "Epoch 17/40\n",
      "48000/48000 [==============================] - 5s 114us/sample - loss: 0.4544 - accuracy: 0.8404 - val_loss: 0.4419 - val_accuracy: 0.8428\n",
      "Epoch 18/40\n",
      "48000/48000 [==============================] - 6s 119us/sample - loss: 0.4498 - accuracy: 0.8424 - val_loss: 0.4374 - val_accuracy: 0.8438\n",
      "Epoch 19/40\n",
      "48000/48000 [==============================] - 6s 115us/sample - loss: 0.4453 - accuracy: 0.8442 - val_loss: 0.4347 - val_accuracy: 0.8450\n",
      "Epoch 20/40\n",
      "48000/48000 [==============================] - 5s 114us/sample - loss: 0.4410 - accuracy: 0.8454 - val_loss: 0.4302 - val_accuracy: 0.8474\n",
      "Epoch 21/40\n",
      "48000/48000 [==============================] - 6s 117us/sample - loss: 0.4374 - accuracy: 0.8474 - val_loss: 0.4267 - val_accuracy: 0.8493\n",
      "Epoch 22/40\n",
      "48000/48000 [==============================] - 5s 113us/sample - loss: 0.4337 - accuracy: 0.8473 - val_loss: 0.4229 - val_accuracy: 0.8493\n",
      "Epoch 23/40\n",
      "48000/48000 [==============================] - 5s 114us/sample - loss: 0.4302 - accuracy: 0.8490 - val_loss: 0.4216 - val_accuracy: 0.8503\n",
      "Epoch 24/40\n",
      "48000/48000 [==============================] - 6s 115us/sample - loss: 0.4272 - accuracy: 0.8496 - val_loss: 0.4177 - val_accuracy: 0.8528\n",
      "Epoch 25/40\n",
      "48000/48000 [==============================] - 6s 115us/sample - loss: 0.4242 - accuracy: 0.8510 - val_loss: 0.4151 - val_accuracy: 0.8525\n",
      "Epoch 26/40\n",
      "48000/48000 [==============================] - 6s 116us/sample - loss: 0.4210 - accuracy: 0.8516 - val_loss: 0.4139 - val_accuracy: 0.8520\n",
      "Epoch 27/40\n",
      "48000/48000 [==============================] - 6s 120us/sample - loss: 0.4184 - accuracy: 0.8524 - val_loss: 0.4098 - val_accuracy: 0.8555\n",
      "Epoch 28/40\n",
      "48000/48000 [==============================] - 6s 117us/sample - loss: 0.4157 - accuracy: 0.8536 - val_loss: 0.4112 - val_accuracy: 0.8532\n",
      "Epoch 29/40\n",
      "48000/48000 [==============================] - 6s 116us/sample - loss: 0.4132 - accuracy: 0.8539 - val_loss: 0.4060 - val_accuracy: 0.8552\n",
      "Epoch 30/40\n",
      "48000/48000 [==============================] - 5s 113us/sample - loss: 0.4106 - accuracy: 0.8557 - val_loss: 0.4047 - val_accuracy: 0.8556\n",
      "Epoch 31/40\n",
      "48000/48000 [==============================] - 6s 116us/sample - loss: 0.4080 - accuracy: 0.8564 - val_loss: 0.4042 - val_accuracy: 0.8559\n",
      "Epoch 32/40\n",
      "48000/48000 [==============================] - 6s 117us/sample - loss: 0.4061 - accuracy: 0.8567 - val_loss: 0.4007 - val_accuracy: 0.8598\n",
      "Epoch 33/40\n",
      "48000/48000 [==============================] - 5s 113us/sample - loss: 0.4037 - accuracy: 0.8580 - val_loss: 0.4009 - val_accuracy: 0.8579\n",
      "Epoch 34/40\n",
      "48000/48000 [==============================] - 5s 114us/sample - loss: 0.4019 - accuracy: 0.8579 - val_loss: 0.3981 - val_accuracy: 0.8597\n",
      "Epoch 35/40\n",
      "48000/48000 [==============================] - 5s 113us/sample - loss: 0.3995 - accuracy: 0.8591 - val_loss: 0.3987 - val_accuracy: 0.8606\n",
      "Epoch 36/40\n",
      "48000/48000 [==============================] - 6s 117us/sample - loss: 0.3977 - accuracy: 0.8595 - val_loss: 0.3945 - val_accuracy: 0.8617\n",
      "Epoch 37/40\n",
      "48000/48000 [==============================] - 6s 118us/sample - loss: 0.3957 - accuracy: 0.8608 - val_loss: 0.3928 - val_accuracy: 0.8601\n",
      "Epoch 38/40\n",
      "48000/48000 [==============================] - 5s 113us/sample - loss: 0.3939 - accuracy: 0.8606 - val_loss: 0.3902 - val_accuracy: 0.8628\n",
      "Epoch 39/40\n",
      "48000/48000 [==============================] - 6s 128us/sample - loss: 0.3921 - accuracy: 0.8612 - val_loss: 0.3913 - val_accuracy: 0.8643\n",
      "Epoch 40/40\n",
      "48000/48000 [==============================] - 6s 124us/sample - loss: 0.3903 - accuracy: 0.8625 - val_loss: 0.3884 - val_accuracy: 0.8637\n"
     ]
    }
   ],
   "source": [
    "# 모델 객체 생성\n",
    "model = Sequential() \n",
    "# 은닉층 유닛(노드) 100개, 28*28 이미지를 펼쳐서 입력 \n",
    "model.add(Dense(100, activation='sigmoid', input_shape=(784,))) \n",
    "# 출력층 유닛(노드) 10개\n",
    "model.add(Dense(10, activation='softmax'))\n",
    "# 모델 학습 설정\n",
    "model.compile(optimizer='sgd', loss='categorical_crossentropy', metrics=['accuracy']) # cf. categorical: 원핫 O vs sparse: 원핫 X\n",
    "# 모델 학습\n",
    "history = model.fit(X_train, y_train_encoded, epochs=40,\n",
    "                    validation_data=(X_val, y_val_encoded))"
   ]
  },
  {
   "cell_type": "code",
   "execution_count": 23,
   "metadata": {},
   "outputs": [
    {
     "name": "stdout",
     "output_type": "stream",
     "text": [
      "dict_keys(['loss', 'accuracy', 'val_loss', 'val_accuracy'])\n"
     ]
    }
   ],
   "source": [
    "# 측정 지표 확인\n",
    "print(history.history.keys())"
   ]
  },
  {
   "cell_type": "code",
   "execution_count": 24,
   "metadata": {},
   "outputs": [
    {
     "data": {
      "image/png": "[encoded data removed]",
      "text/plain": [
       "<Figure size 432x288 with 1 Axes>"
      ]
     },
     "metadata": {
      "needs_background": "light"
     },
     "output_type": "display_data"
    }
   ],
   "source": [
    "# loss 그래프\n",
    "plt.plot(history.history['loss'])\n",
    "plt.plot(history.history['val_loss'])\n",
    "plt.ylabel('loss')\n",
    "plt.xlabel('epoch')\n",
    "plt.legend(['train_loss', 'val_loss'])\n",
    "plt.show()"
   ]
  },
  {
   "cell_type": "code",
   "execution_count": 25,
   "metadata": {},
   "outputs": [
    {
     "data": {
      "image/png": "[encoded data removed]",
      "text/plain": [
       "<Figure size 432x288 with 1 Axes>"
      ]
     },
     "metadata": {
      "needs_background": "light"
     },
     "output_type": "display_data"
    }
   ],
   "source": [
    "# accuracy 그래프\n",
    "plt.plot(history.history['accuracy'])\n",
    "plt.plot(history.history['val_accuracy'])\n",
    "plt.ylabel('accuracy')\n",
    "plt.xlabel('epoch')\n",
    "plt.legend(['train_loss', 'val_accuracy'])\n",
    "plt.show()"
   ]
  },
  {
   "cell_type": "code",
   "execution_count": 26,
   "metadata": {},
   "outputs": [
    {
     "name": "stdout",
     "output_type": "stream",
     "text": [
      "0.3884383631547292 0.86366665\n"
     ]
    }
   ],
   "source": [
    "# 모델 평가 -> MultiClassNetwork보다 더 효과 좋고 간단한 방법으로 구현 \n",
    "loss, accuracy = model.evaluate(X_val, y_val_encoded, verbose=0)\n",
    "print(loss, accuracy)"
   ]
  },
  {
   "cell_type": "code",
   "execution_count": null,
   "metadata": {},
   "outputs": [],
   "source": []
  }
 ],
 "metadata": {
  "kernelspec": {
   "display_name": "Python 3",
   "language": "python",
   "name": "python3"
  },
  "language_info": {
   "codemirror_mode": {
    "name": "ipython",
    "version": 3
   },
   "file_extension": ".py",
   "mimetype": "text/x-python",
   "name": "python",
   "nbconvert_exporter": "python",
   "pygments_lexer": "ipython3",
   "version": "3.7.3"
  }
 },
 "nbformat": 4,
 "nbformat_minor": 2
}
