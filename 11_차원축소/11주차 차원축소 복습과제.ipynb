{
 "cells": [
  {
   "cell_type": "markdown",
   "metadata": {},
   "source": [
    "## 문제1"
   ]
  },
  {
   "cell_type": "code",
   "execution_count": 1,
   "metadata": {},
   "outputs": [],
   "source": [
    "import pandas as pd\n",
    "import matplotlib.pyplot as plt\n",
    "%matplotlib inline\n",
    "from sklearn.preprocessing import StandardScaler\n",
    "from sklearn.decomposition import PCA\n",
    "from sklearn.ensemble import RandomForestClassifier\n",
    "from sklearn.model_selection import cross_val_score\n",
    "from sklearn.discriminant_analysis import LinearDiscriminantAnalysis\n",
    "import numpy as np\n",
    "from sklearn.decomposition import TruncatedSVD\n",
    "from scipy.sparse.linalg import svds\n",
    "import warnings\n",
    "warnings.filterwarnings(\"ignore\")"
   ]
  },
  {
   "cell_type": "markdown",
   "metadata": {},
   "source": [
    "#### 첨부파일 'fetal_health.csv'를 불러와서 변수(df)에 할당하세요."
   ]
  },
  {
   "cell_type": "code",
   "execution_count": 2,
   "metadata": {},
   "outputs": [],
   "source": [
    "df = pd.read_csv(\"C:/Users/USER/BITAmin/data/fetal_health.csv\")"
   ]
  },
  {
   "cell_type": "markdown",
   "metadata": {},
   "source": [
    "#### 1-1. 해당 데이터셋에 결측치가 있는지 확인하세요."
   ]
  },
  {
   "cell_type": "code",
   "execution_count": 3,
   "metadata": {
    "collapsed": true
   },
   "outputs": [
    {
     "data": {
      "text/plain": [
       "baseline value                                            0\n",
       "accelerations                                             0\n",
       "fetal_movement                                            0\n",
       "uterine_contractions                                      0\n",
       "light_decelerations                                       0\n",
       "severe_decelerations                                      0\n",
       "prolongued_decelerations                                  0\n",
       "abnormal_short_term_variability                           0\n",
       "mean_value_of_short_term_variability                      0\n",
       "percentage_of_time_with_abnormal_long_term_variability    0\n",
       "mean_value_of_long_term_variability                       0\n",
       "histogram_width                                           0\n",
       "histogram_min                                             0\n",
       "histogram_max                                             0\n",
       "histogram_number_of_peaks                                 0\n",
       "histogram_number_of_zeroes                                0\n",
       "histogram_mode                                            0\n",
       "histogram_mean                                            0\n",
       "histogram_median                                          0\n",
       "histogram_variance                                        0\n",
       "histogram_tendency                                        0\n",
       "fetal_health                                              0\n",
       "dtype: int64"
      ]
     },
     "execution_count": 3,
     "metadata": {},
     "output_type": "execute_result"
    }
   ],
   "source": [
    "# 결측치 확인\n",
    "df.isnull().sum()"
   ]
  },
  {
   "cell_type": "markdown",
   "metadata": {},
   "source": [
    "#### 1-2. 피처 데이터셋과 클래스 데이터셋을 분리한 뒤 StandardScaler를 이용하여 스케일링 해주세요."
   ]
  },
  {
   "cell_type": "code",
   "execution_count": 4,
   "metadata": {},
   "outputs": [],
   "source": [
    "# X/y 분리\n",
    "y = df.fetal_health\n",
    "X = df.drop('fetal_health', axis=1)"
   ]
  },
  {
   "cell_type": "code",
   "execution_count": 5,
   "metadata": {},
   "outputs": [
    {
     "data": {
      "text/plain": [
       "(2126, 21)"
      ]
     },
     "execution_count": 5,
     "metadata": {},
     "output_type": "execute_result"
    }
   ],
   "source": [
    "# Scaling\n",
    "X_scaled = StandardScaler().fit_transform(X) # Numpy ndarray\n",
    "X_scaled_df = pd.DataFrame(data=X_scaled, columns=X.columns) # DataFrame\n",
    "X_scaled_df.shape"
   ]
  },
  {
   "cell_type": "markdown",
   "metadata": {},
   "source": [
    "#### 1-3. 피처의 개수만큼 주성분을 만들도록 PCA 변환해주세요."
   ]
  },
  {
   "cell_type": "code",
   "execution_count": 6,
   "metadata": {},
   "outputs": [
    {
     "data": {
      "text/plain": [
       "(2126, 21)"
      ]
     },
     "execution_count": 6,
     "metadata": {},
     "output_type": "execute_result"
    }
   ],
   "source": [
    "pca = PCA(n_components=21)\n",
    "pca.fit(X_scaled_df)\n",
    "pca_df = pca.transform(X_scaled_df)\n",
    "pca_df.shape"
   ]
  },
  {
   "cell_type": "markdown",
   "metadata": {},
   "source": [
    "#### 1-4. \n",
    "#### 1) pca 객체의 explained_variance_ratio_ 속성을 이용하여 개별 pc의 고윳값, 변동성 비율, 누적 변동성 비율을 나타내는 dataframe을 출력하세요.  \n",
    "#### 2) x축을 n_components, y축을 누적 변동성 비율로 하는 plot을 그려주세요."
   ]
  },
  {
   "cell_type": "code",
   "execution_count": 9,
   "metadata": {},
   "outputs": [
    {
     "data": {
      "text/html": [
       "<div>\n",
       "<style scoped>\n",
       "    .dataframe tbody tr th:only-of-type {\n",
       "        vertical-align: middle;\n",
       "    }\n",
       "\n",
       "    .dataframe tbody tr th {\n",
       "        vertical-align: top;\n",
       "    }\n",
       "\n",
       "    .dataframe thead th {\n",
       "        text-align: right;\n",
       "    }\n",
       "</style>\n",
       "<table border=\"1\" class=\"dataframe\">\n",
       "  <thead>\n",
       "    <tr style=\"text-align: right;\">\n",
       "      <th></th>\n",
       "      <th>고유값</th>\n",
       "      <th>변동성비율</th>\n",
       "      <th>누적변동성비율</th>\n",
       "    </tr>\n",
       "  </thead>\n",
       "  <tbody>\n",
       "    <tr>\n",
       "      <th>pca1</th>\n",
       "      <td>6.0612</td>\n",
       "      <td>0.2885</td>\n",
       "      <td>0.2885</td>\n",
       "    </tr>\n",
       "    <tr>\n",
       "      <th>pca2</th>\n",
       "      <td>3.5094</td>\n",
       "      <td>0.1670</td>\n",
       "      <td>0.4555</td>\n",
       "    </tr>\n",
       "    <tr>\n",
       "      <th>pca3</th>\n",
       "      <td>1.8252</td>\n",
       "      <td>0.0869</td>\n",
       "      <td>0.5424</td>\n",
       "    </tr>\n",
       "    <tr>\n",
       "      <th>pca4</th>\n",
       "      <td>1.4974</td>\n",
       "      <td>0.0713</td>\n",
       "      <td>0.6137</td>\n",
       "    </tr>\n",
       "    <tr>\n",
       "      <th>pca5</th>\n",
       "      <td>1.2189</td>\n",
       "      <td>0.0580</td>\n",
       "      <td>0.6717</td>\n",
       "    </tr>\n",
       "    <tr>\n",
       "      <th>pca6</th>\n",
       "      <td>1.0207</td>\n",
       "      <td>0.0486</td>\n",
       "      <td>0.7203</td>\n",
       "    </tr>\n",
       "    <tr>\n",
       "      <th>pca7</th>\n",
       "      <td>0.9822</td>\n",
       "      <td>0.0468</td>\n",
       "      <td>0.7671</td>\n",
       "    </tr>\n",
       "    <tr>\n",
       "      <th>pca8</th>\n",
       "      <td>0.9270</td>\n",
       "      <td>0.0441</td>\n",
       "      <td>0.8112</td>\n",
       "    </tr>\n",
       "    <tr>\n",
       "      <th>pca9</th>\n",
       "      <td>0.7628</td>\n",
       "      <td>0.0363</td>\n",
       "      <td>0.8475</td>\n",
       "    </tr>\n",
       "    <tr>\n",
       "      <th>pca10</th>\n",
       "      <td>0.6405</td>\n",
       "      <td>0.0305</td>\n",
       "      <td>0.8780</td>\n",
       "    </tr>\n",
       "    <tr>\n",
       "      <th>pca11</th>\n",
       "      <td>0.5776</td>\n",
       "      <td>0.0275</td>\n",
       "      <td>0.9055</td>\n",
       "    </tr>\n",
       "    <tr>\n",
       "      <th>pca12</th>\n",
       "      <td>0.4975</td>\n",
       "      <td>0.0237</td>\n",
       "      <td>0.9292</td>\n",
       "    </tr>\n",
       "    <tr>\n",
       "      <th>pca13</th>\n",
       "      <td>0.3887</td>\n",
       "      <td>0.0185</td>\n",
       "      <td>0.9477</td>\n",
       "    </tr>\n",
       "    <tr>\n",
       "      <th>pca14</th>\n",
       "      <td>0.3272</td>\n",
       "      <td>0.0156</td>\n",
       "      <td>0.9633</td>\n",
       "    </tr>\n",
       "    <tr>\n",
       "      <th>pca15</th>\n",
       "      <td>0.2656</td>\n",
       "      <td>0.0126</td>\n",
       "      <td>0.9759</td>\n",
       "    </tr>\n",
       "    <tr>\n",
       "      <th>pca16</th>\n",
       "      <td>0.1809</td>\n",
       "      <td>0.0086</td>\n",
       "      <td>0.9845</td>\n",
       "    </tr>\n",
       "    <tr>\n",
       "      <th>pca17</th>\n",
       "      <td>0.1332</td>\n",
       "      <td>0.0063</td>\n",
       "      <td>0.9908</td>\n",
       "    </tr>\n",
       "    <tr>\n",
       "      <th>pca18</th>\n",
       "      <td>0.1176</td>\n",
       "      <td>0.0056</td>\n",
       "      <td>0.9964</td>\n",
       "    </tr>\n",
       "    <tr>\n",
       "      <th>pca19</th>\n",
       "      <td>0.0495</td>\n",
       "      <td>0.0024</td>\n",
       "      <td>0.9988</td>\n",
       "    </tr>\n",
       "    <tr>\n",
       "      <th>pca20</th>\n",
       "      <td>0.0268</td>\n",
       "      <td>0.0013</td>\n",
       "      <td>1.0001</td>\n",
       "    </tr>\n",
       "    <tr>\n",
       "      <th>pca21</th>\n",
       "      <td>0.0000</td>\n",
       "      <td>0.0000</td>\n",
       "      <td>1.0001</td>\n",
       "    </tr>\n",
       "  </tbody>\n",
       "</table>\n",
       "</div>"
      ],
      "text/plain": [
       "          고유값   변동성비율  누적변동성비율\n",
       "pca1   6.0612  0.2885   0.2885\n",
       "pca2   3.5094  0.1670   0.4555\n",
       "pca3   1.8252  0.0869   0.5424\n",
       "pca4   1.4974  0.0713   0.6137\n",
       "pca5   1.2189  0.0580   0.6717\n",
       "pca6   1.0207  0.0486   0.7203\n",
       "pca7   0.9822  0.0468   0.7671\n",
       "pca8   0.9270  0.0441   0.8112\n",
       "pca9   0.7628  0.0363   0.8475\n",
       "pca10  0.6405  0.0305   0.8780\n",
       "pca11  0.5776  0.0275   0.9055\n",
       "pca12  0.4975  0.0237   0.9292\n",
       "pca13  0.3887  0.0185   0.9477\n",
       "pca14  0.3272  0.0156   0.9633\n",
       "pca15  0.2656  0.0126   0.9759\n",
       "pca16  0.1809  0.0086   0.9845\n",
       "pca17  0.1332  0.0063   0.9908\n",
       "pca18  0.1176  0.0056   0.9964\n",
       "pca19  0.0495  0.0024   0.9988\n",
       "pca20  0.0268  0.0013   1.0001\n",
       "pca21  0.0000  0.0000   1.0001"
      ]
     },
     "execution_count": 9,
     "metadata": {},
     "output_type": "execute_result"
    }
   ],
   "source": [
    "# 1) dataframe\n",
    "cumsum = np.cumsum(pca.explained_variance_ratio_)\n",
    "res = pd.DataFrame({'고유값': np.round(pca.explained_variance_, 4),\n",
    "                    '변동성비율': np.round(pca.explained_variance_ratio_, 4)},\n",
    "                    index = np.array([f'pca{num+1}' for num in range(X_scaled_df.shape[1])]))\n",
    "res['누적변동성비율'] = res['변동성비율'].cumsum()\n",
    "res"
   ]
  },
  {
   "cell_type": "code",
   "execution_count": 10,
   "metadata": {},
   "outputs": [
    {
     "data": {
      "image/png": "[encoded data removed]",
      "text/plain": [
       "<Figure size 216x288 with 1 Axes>"
      ]
     },
     "metadata": {
      "needs_background": "light"
     },
     "output_type": "display_data"
    }
   ],
   "source": [
    "# 2) Scree plot\n",
    "pc_values = np.arange(pca.n_components_) + 1\n",
    "\n",
    "plt.figure(figsize=(3,4))\n",
    "plt.xlabel('n_components')\n",
    "plt.ylabel('culcumulative explained variance')\n",
    "plt.plot(pc_values, pca.explained_variance_.cumsum(), 'o-')\n",
    "plt.title('Scree Plot')\n",
    "plt.show()"
   ]
  },
  {
   "cell_type": "markdown",
   "metadata": {},
   "source": [
    "#### 1-5. pc의 개수는 몇 개가 적당하다고 생각하시는지 이유와 함께 설명해주세요."
   ]
  },
  {
   "cell_type": "markdown",
   "metadata": {},
   "source": [
    "답 : 8개. 누적변동성비율이 80% 이상이 되는 기점이며 Scree plot에서도 그 즈음 변화가 완만해지는 것을 보아 대략 8개가 적당한 듯하다."
   ]
  },
  {
   "cell_type": "markdown",
   "metadata": {},
   "source": [
    "#### 1-6. 위에서 판단한 pc의 개수만큼 스케일링한 데이터를 PCA 변환해주세요."
   ]
  },
  {
   "cell_type": "code",
   "execution_count": 11,
   "metadata": {},
   "outputs": [],
   "source": [
    "pca = PCA(n_components=8)\n",
    "pca.fit(X_scaled_df)\n",
    "pca_df = pca.transform(X_scaled_df)"
   ]
  },
  {
   "cell_type": "markdown",
   "metadata": {},
   "source": [
    "#### 1-7. 원본 데이터셋과 pca 변환데이터 셋에 각각 분류를 적용한 후 결과를 출력해주세요.\n",
    "- 분류기는 RandomForestClassifier를 사용하세요. (random_state=0)\n",
    "- cross_val_score()를 사용하세요.\n",
    "- 교차 검증 폴드 수 : 3"
   ]
  },
  {
   "cell_type": "code",
   "execution_count": 12,
   "metadata": {},
   "outputs": [
    {
     "name": "stdout",
     "output_type": "stream",
     "text": [
      "원본 데이터 교차 검증 평균 정확도:  0.8085205283694442\n",
      "PCA 변환 데이터 교차 검증 평균 정확도:  0.8367890373699463\n"
     ]
    }
   ],
   "source": [
    "rcf = RandomForestClassifier(random_state=0)\n",
    "scores = cross_val_score(rcf, X_scaled_df, y, scoring='accuracy',cv=3)\n",
    "scores_pca = cross_val_score(rcf, pca_df, y, scoring='accuracy', cv=3)\n",
    "\n",
    "print(\"원본 데이터 교차 검증 평균 정확도: \", np.mean(scores))\n",
    "print(\"PCA 변환 데이터 교차 검증 평균 정확도: \", np.mean(scores_pca))"
   ]
  },
  {
   "cell_type": "markdown",
   "metadata": {},
   "source": [
    "#### 1-8. 스케일링한 데이터를 컴포넌트 수 2로 설정하여 LDA 변환해주세요."
   ]
  },
  {
   "cell_type": "code",
   "execution_count": 13,
   "metadata": {},
   "outputs": [],
   "source": [
    "lda = LinearDiscriminantAnalysis(n_components=2)\n",
    "lda.fit(X_scaled_df, y)\n",
    "lda_df = lda.transform(X_scaled_df)"
   ]
  },
  {
   "cell_type": "markdown",
   "metadata": {},
   "source": [
    "#### 1-9. 원본 데이터셋, PCA 변환 데이터셋, LDA 변환 데이터셋에 각각 분류를 적용한 후 결과를 출력해주세요.\n",
    "- 분류기는 RandomForestClassifier를 사용하세요. (random_state=0)\n",
    "- cross_val_score()를 사용하세요.\n",
    "- 교차 검증 폴드 수 : 3"
   ]
  },
  {
   "cell_type": "code",
   "execution_count": 14,
   "metadata": {},
   "outputs": [
    {
     "name": "stdout",
     "output_type": "stream",
     "text": [
      "원본 데이터 교차 검증 평균 정확도 :  0.8085205283694442\n",
      "PCA 변환 데이터 교차 검증 평균 정확도 :  0.8367890373699463\n",
      "LDA 변환 데이터 교차 검증 평균 정확도 :  0.8607757670414552\n"
     ]
    }
   ],
   "source": [
    "rcf = RandomForestClassifier(random_state=0)\n",
    "scores = cross_val_score(rcf, X_scaled_df, y, scoring='accuracy',cv=3)\n",
    "scores_pca = cross_val_score(rcf, pca_df, y, scoring='accuracy', cv=3)\n",
    "scores_lda = cross_val_score(rcf, lda_df, y, scoring='accuracy', cv=3)\n",
    "\n",
    "print(\"원본 데이터 교차 검증 평균 정확도 : \",np.mean(scores))\n",
    "print('PCA 변환 데이터 교차 검증 평균 정확도 : ',np.mean(scores_pca))\n",
    "print('LDA 변환 데이터 교차 검증 평균 정확도 : ',np.mean(scores_lda))"
   ]
  },
  {
   "cell_type": "markdown",
   "metadata": {},
   "source": [
    "## 문제2"
   ]
  },
  {
   "cell_type": "markdown",
   "metadata": {},
   "source": [
    "#### 사용자 개인 영화 히스토리(movie history)를 기반으로 영화를 추천해주는 추천 시스템을 구현해보겠습니다!\n",
    "cf. https://lsjsj92.tistory.com/570"
   ]
  },
  {
   "cell_type": "markdown",
   "metadata": {},
   "source": [
    "#### 1) 데이터 불러오기\n",
    "- 'ratings.csv'와 'movies.csv'를 불러와서 각각 'ratings'와 'movies'로 저장해주세요.\n",
    "- 사용자별 각 영화당 평점 데이터를 만드려고 합니다. 'ratings'를 pivot table형식으로 바꾸어 'user_movie_ratings'로 저장해주세요. \n",
    "  index는 userId, column은 movieId, value는 rating입니다.\n",
    "- 결측값들은 모두 0으로 변환해주세요"
   ]
  },
  {
   "cell_type": "code",
   "execution_count": 15,
   "metadata": {},
   "outputs": [],
   "source": [
    "ratings = pd.read_csv(\"C:/Users/USER/BITAmin/data/ratings.csv\")\n",
    "movies = pd.read_csv(\"C:/Users/USER/BITAmin/data/movies.csv\")"
   ]
  },
  {
   "cell_type": "code",
   "execution_count": 16,
   "metadata": {},
   "outputs": [],
   "source": [
    "user_movie_ratings = ratings.pivot(\n",
    "                     index = 'userId',\n",
    "                     columns = 'movieId',\n",
    "                     values = 'rating').fillna(0)"
   ]
  },
  {
   "cell_type": "markdown",
   "metadata": {},
   "source": [
    "#### 2) 데이터 전처리\n",
    "- 각 사용자의 평균 평점을 'X_mean'으로 저장해주세요.\n",
    "- 각 데이터에 해당 사용자의 평균 평점을 빼서 'X_scaled'로 저장해주세요."
   ]
  },
  {
   "cell_type": "code",
   "execution_count": 17,
   "metadata": {},
   "outputs": [],
   "source": [
    "# pivot table -> numpy matrix \n",
    "matrix = user_movie_ratings.as_matrix()\n",
    "\n",
    "# 각 사용자의 평균 평점\n",
    "X_mean = np.mean(matrix, axis=1)\n",
    "\n",
    "# 각 데이터에 해당 사용자의 평균 평점을 뺌 \n",
    "X_scaled = matrix - X_mean.reshape(-1,1)"
   ]
  },
  {
   "cell_type": "markdown",
   "metadata": {},
   "source": [
    "#### 3) Truncated SVD\n",
    "-  Truncated SVD 행렬 분해 기법을 활용하여 U, sigma, Vt 행렬을 반환해주세요.\n",
    "   (sigma 특이값을 12로 해주세요)\n",
    "- 각 행렬의 shape을 확인 후, sigma를 0이 포함된 대칭행렬로 변환해주세요.\n",
    "- 분해된 행렬의 내적을 수행하여 데이터를 다시 복원하고, 데이터프레임으로 만든 뒤 svds_preds로 저장해주세요.\n",
    "   (전처리 과정에서 뺀 평균을 다시 더하여 복구해야해요)"
   ]
  },
  {
   "cell_type": "code",
   "execution_count": 18,
   "metadata": {},
   "outputs": [],
   "source": [
    "# Truncated SVD \n",
    "U, sigma, Vt = svds(X_scaled, k=12)"
   ]
  },
  {
   "cell_type": "code",
   "execution_count": 19,
   "metadata": {},
   "outputs": [
    {
     "name": "stdout",
     "output_type": "stream",
     "text": [
      "(671, 12)\n",
      "(12,)\n",
      "(12, 9066)\n"
     ]
    }
   ],
   "source": [
    "# 각 행렬의 shape 확인\n",
    "print(U.shape)\n",
    "print(sigma.shape)\n",
    "print(Vt.shape)\n",
    "\n",
    "# sigma를 0이 포함된 대칭행렬로 변환\n",
    "sigma = np.diag(sigma)"
   ]
  },
  {
   "cell_type": "code",
   "execution_count": 20,
   "metadata": {},
   "outputs": [
    {
     "data": {
      "text/html": [
       "<div>\n",
       "<style scoped>\n",
       "    .dataframe tbody tr th:only-of-type {\n",
       "        vertical-align: middle;\n",
       "    }\n",
       "\n",
       "    .dataframe tbody tr th {\n",
       "        vertical-align: top;\n",
       "    }\n",
       "\n",
       "    .dataframe thead th {\n",
       "        text-align: right;\n",
       "    }\n",
       "</style>\n",
       "<table border=\"1\" class=\"dataframe\">\n",
       "  <thead>\n",
       "    <tr style=\"text-align: right;\">\n",
       "      <th>movieId</th>\n",
       "      <th>1</th>\n",
       "      <th>2</th>\n",
       "      <th>3</th>\n",
       "      <th>4</th>\n",
       "      <th>5</th>\n",
       "      <th>6</th>\n",
       "      <th>7</th>\n",
       "      <th>8</th>\n",
       "      <th>9</th>\n",
       "      <th>10</th>\n",
       "      <th>...</th>\n",
       "      <th>161084</th>\n",
       "      <th>161155</th>\n",
       "      <th>161594</th>\n",
       "      <th>161830</th>\n",
       "      <th>161918</th>\n",
       "      <th>161944</th>\n",
       "      <th>162376</th>\n",
       "      <th>162542</th>\n",
       "      <th>162672</th>\n",
       "      <th>163949</th>\n",
       "    </tr>\n",
       "  </thead>\n",
       "  <tbody>\n",
       "    <tr>\n",
       "      <th>0</th>\n",
       "      <td>-0.079686</td>\n",
       "      <td>0.021779</td>\n",
       "      <td>-0.013837</td>\n",
       "      <td>-0.005870</td>\n",
       "      <td>-0.028877</td>\n",
       "      <td>0.032371</td>\n",
       "      <td>0.000715</td>\n",
       "      <td>-0.004428</td>\n",
       "      <td>-0.005219</td>\n",
       "      <td>0.038195</td>\n",
       "      <td>...</td>\n",
       "      <td>-0.004324</td>\n",
       "      <td>-0.004352</td>\n",
       "      <td>0.010478</td>\n",
       "      <td>-0.004256</td>\n",
       "      <td>-0.003944</td>\n",
       "      <td>-0.005674</td>\n",
       "      <td>0.018157</td>\n",
       "      <td>-0.005575</td>\n",
       "      <td>-0.005297</td>\n",
       "      <td>-0.003766</td>\n",
       "    </tr>\n",
       "    <tr>\n",
       "      <th>1</th>\n",
       "      <td>1.428452</td>\n",
       "      <td>1.608841</td>\n",
       "      <td>0.529476</td>\n",
       "      <td>0.168278</td>\n",
       "      <td>0.520809</td>\n",
       "      <td>1.107473</td>\n",
       "      <td>0.529719</td>\n",
       "      <td>0.089376</td>\n",
       "      <td>0.296270</td>\n",
       "      <td>1.970031</td>\n",
       "      <td>...</td>\n",
       "      <td>0.013227</td>\n",
       "      <td>-0.002275</td>\n",
       "      <td>0.020680</td>\n",
       "      <td>-0.005245</td>\n",
       "      <td>-0.007644</td>\n",
       "      <td>-0.021019</td>\n",
       "      <td>0.031243</td>\n",
       "      <td>-0.000957</td>\n",
       "      <td>-0.000753</td>\n",
       "      <td>0.026901</td>\n",
       "    </tr>\n",
       "    <tr>\n",
       "      <th>2</th>\n",
       "      <td>0.977246</td>\n",
       "      <td>0.396971</td>\n",
       "      <td>0.000299</td>\n",
       "      <td>0.027444</td>\n",
       "      <td>0.021287</td>\n",
       "      <td>0.141458</td>\n",
       "      <td>-0.057134</td>\n",
       "      <td>0.031633</td>\n",
       "      <td>-0.012538</td>\n",
       "      <td>0.383576</td>\n",
       "      <td>...</td>\n",
       "      <td>0.002761</td>\n",
       "      <td>0.004907</td>\n",
       "      <td>-0.014190</td>\n",
       "      <td>-0.000251</td>\n",
       "      <td>-0.006007</td>\n",
       "      <td>-0.003189</td>\n",
       "      <td>-0.026916</td>\n",
       "      <td>0.014637</td>\n",
       "      <td>0.013287</td>\n",
       "      <td>-0.005741</td>\n",
       "    </tr>\n",
       "  </tbody>\n",
       "</table>\n",
       "<p>3 rows × 9066 columns</p>\n",
       "</div>"
      ],
      "text/plain": [
       "movieId    1         2         3         4         5         6         7       \\\n",
       "0       -0.079686  0.021779 -0.013837 -0.005870 -0.028877  0.032371  0.000715   \n",
       "1        1.428452  1.608841  0.529476  0.168278  0.520809  1.107473  0.529719   \n",
       "2        0.977246  0.396971  0.000299  0.027444  0.021287  0.141458 -0.057134   \n",
       "\n",
       "movieId    8         9         10      ...    161084    161155    161594  \\\n",
       "0       -0.004428 -0.005219  0.038195  ... -0.004324 -0.004352  0.010478   \n",
       "1        0.089376  0.296270  1.970031  ...  0.013227 -0.002275  0.020680   \n",
       "2        0.031633 -0.012538  0.383576  ...  0.002761  0.004907 -0.014190   \n",
       "\n",
       "movieId    161830    161918    161944    162376    162542    162672    163949  \n",
       "0       -0.004256 -0.003944 -0.005674  0.018157 -0.005575 -0.005297 -0.003766  \n",
       "1       -0.005245 -0.007644 -0.021019  0.031243 -0.000957 -0.000753  0.026901  \n",
       "2       -0.000251 -0.006007 -0.003189 -0.026916  0.014637  0.013287 -0.005741  \n",
       "\n",
       "[3 rows x 9066 columns]"
      ]
     },
     "execution_count": 20,
     "metadata": {},
     "output_type": "execute_result"
    }
   ],
   "source": [
    "# 다시 데이터 복원 \n",
    "svd_predicted_ratings = np.dot(np.dot(U, sigma), Vt) + X_mean.reshape(-1, 1)\n",
    "svd_preds = pd.DataFrame(svd_predicted_ratings, columns=user_movie_ratings.columns)\n",
    "svd_preds.head(3)"
   ]
  },
  {
   "cell_type": "markdown",
   "metadata": {},
   "source": [
    "#### 4) 영화 추천 시스템\n",
    "\n",
    "- 코드마다 주석을 작성하여 영화 추천 시스템 알고리즘을 이해해보세요.\n",
    "- 위 함수를 사용하여 612번 user에게 5개의 영화를 추천해주세요.\n",
    "   (user_history와 recommmendations를 각각 확인해주세요)"
   ]
  },
  {
   "cell_type": "code",
   "execution_count": 21,
   "metadata": {},
   "outputs": [],
   "source": [
    "def recommend_movies(svds_preds, user_id, movies, ratings, num_recommend = 5):\n",
    "    \n",
    "    # index를 맞춰주기위해 user_id에서 1을 뺀다.\n",
    "    user_row_number = user_id - 1\n",
    "    \n",
    "    # user에 따라 svd_preds를 평점이 높은 순으로 정렬한다. \n",
    "    sorted_user_predictions = svds_preds.iloc[user_row_number].sort_values(ascending = False)\n",
    "    \n",
    "    # ratings 데이터에서 우리가 원하는 user와 일치하는 데이터를 뽑아낸다.\n",
    "    user_data = ratings[ratings.userId == user_id]\n",
    "    \n",
    "    # 위에서 뽑은 데이터를 movies 데이터와 합치고 평점이 높은 순으로 정렬한다. \n",
    "    user_history = user_data.merge(movies, on = 'movieId').sort_values(['rating'], ascending = False)\n",
    "    \n",
    "    # user가 이미 본 영화는 제외한 데이터를 추출한다. \n",
    "    recommendations = movies[~movies['movieId'].isin(user_history['movieId'])]\n",
    "    \n",
    "    # user의 평점이 높은 순으로 정렬한 데이터와 아직 안 본 영화 데이터를 합친다. \n",
    "    recommendations = recommendations.merge(pd.DataFrame(sorted_user_predictions).reset_index(), on = 'movieId')\n",
    "    \n",
    "    # user가 아직 안 본 영화에서 평점이 높은 것을 추천한다. \n",
    "    recommendations = recommendations.rename(columns = {user_row_number : 'Predictions'}).sort_values('Predictions', ascending = False)\n",
    "    recommendations = recommendations[:num_recommend]\n",
    "    \n",
    "    return user_history, recommendations"
   ]
  },
  {
   "cell_type": "code",
   "execution_count": 22,
   "metadata": {},
   "outputs": [],
   "source": [
    "user_history, recommendations = recommend_movies(svd_preds, 612, movies, ratings)"
   ]
  },
  {
   "cell_type": "code",
   "execution_count": 23,
   "metadata": {},
   "outputs": [
    {
     "data": {
      "text/html": [
       "<div>\n",
       "<style scoped>\n",
       "    .dataframe tbody tr th:only-of-type {\n",
       "        vertical-align: middle;\n",
       "    }\n",
       "\n",
       "    .dataframe tbody tr th {\n",
       "        vertical-align: top;\n",
       "    }\n",
       "\n",
       "    .dataframe thead th {\n",
       "        text-align: right;\n",
       "    }\n",
       "</style>\n",
       "<table border=\"1\" class=\"dataframe\">\n",
       "  <thead>\n",
       "    <tr style=\"text-align: right;\">\n",
       "      <th></th>\n",
       "      <th>userId</th>\n",
       "      <th>movieId</th>\n",
       "      <th>rating</th>\n",
       "      <th>timestamp</th>\n",
       "      <th>title</th>\n",
       "      <th>genres</th>\n",
       "    </tr>\n",
       "  </thead>\n",
       "  <tbody>\n",
       "    <tr>\n",
       "      <th>9</th>\n",
       "      <td>612</td>\n",
       "      <td>1246</td>\n",
       "      <td>5.0</td>\n",
       "      <td>1455638856</td>\n",
       "      <td>Dead Poets Society (1989)</td>\n",
       "      <td>Drama</td>\n",
       "    </tr>\n",
       "    <tr>\n",
       "      <th>52</th>\n",
       "      <td>612</td>\n",
       "      <td>49530</td>\n",
       "      <td>4.5</td>\n",
       "      <td>1455638474</td>\n",
       "      <td>Blood Diamond (2006)</td>\n",
       "      <td>Action|Adventure|Crime|Drama|Thriller|War</td>\n",
       "    </tr>\n",
       "    <tr>\n",
       "      <th>37</th>\n",
       "      <td>612</td>\n",
       "      <td>4993</td>\n",
       "      <td>4.5</td>\n",
       "      <td>1455638619</td>\n",
       "      <td>Lord of the Rings: The Fellowship of the Ring,...</td>\n",
       "      <td>Adventure|Fantasy</td>\n",
       "    </tr>\n",
       "    <tr>\n",
       "      <th>6</th>\n",
       "      <td>612</td>\n",
       "      <td>1097</td>\n",
       "      <td>4.5</td>\n",
       "      <td>1455638867</td>\n",
       "      <td>E.T. the Extra-Terrestrial (1982)</td>\n",
       "      <td>Children|Drama|Sci-Fi</td>\n",
       "    </tr>\n",
       "    <tr>\n",
       "      <th>58</th>\n",
       "      <td>612</td>\n",
       "      <td>69122</td>\n",
       "      <td>4.5</td>\n",
       "      <td>1455638424</td>\n",
       "      <td>Hangover, The (2009)</td>\n",
       "      <td>Comedy|Crime</td>\n",
       "    </tr>\n",
       "  </tbody>\n",
       "</table>\n",
       "</div>"
      ],
      "text/plain": [
       "    userId  movieId  rating   timestamp  \\\n",
       "9      612     1246     5.0  1455638856   \n",
       "52     612    49530     4.5  1455638474   \n",
       "37     612     4993     4.5  1455638619   \n",
       "6      612     1097     4.5  1455638867   \n",
       "58     612    69122     4.5  1455638424   \n",
       "\n",
       "                                                title  \\\n",
       "9                           Dead Poets Society (1989)   \n",
       "52                               Blood Diamond (2006)   \n",
       "37  Lord of the Rings: The Fellowship of the Ring,...   \n",
       "6                   E.T. the Extra-Terrestrial (1982)   \n",
       "58                               Hangover, The (2009)   \n",
       "\n",
       "                                       genres  \n",
       "9                                       Drama  \n",
       "52  Action|Adventure|Crime|Drama|Thriller|War  \n",
       "37                          Adventure|Fantasy  \n",
       "6                       Children|Drama|Sci-Fi  \n",
       "58                               Comedy|Crime  "
      ]
     },
     "execution_count": 23,
     "metadata": {},
     "output_type": "execute_result"
    }
   ],
   "source": [
    "user_history.head()"
   ]
  },
  {
   "cell_type": "code",
   "execution_count": 24,
   "metadata": {},
   "outputs": [
    {
     "data": {
      "text/html": [
       "<div>\n",
       "<style scoped>\n",
       "    .dataframe tbody tr th:only-of-type {\n",
       "        vertical-align: middle;\n",
       "    }\n",
       "\n",
       "    .dataframe tbody tr th {\n",
       "        vertical-align: top;\n",
       "    }\n",
       "\n",
       "    .dataframe thead th {\n",
       "        text-align: right;\n",
       "    }\n",
       "</style>\n",
       "<table border=\"1\" class=\"dataframe\">\n",
       "  <thead>\n",
       "    <tr style=\"text-align: right;\">\n",
       "      <th></th>\n",
       "      <th>movieId</th>\n",
       "      <th>title</th>\n",
       "      <th>genres</th>\n",
       "      <th>Predictions</th>\n",
       "    </tr>\n",
       "  </thead>\n",
       "  <tbody>\n",
       "    <tr>\n",
       "      <th>4351</th>\n",
       "      <td>5952</td>\n",
       "      <td>Lord of the Rings: The Two Towers, The (2002)</td>\n",
       "      <td>Adventure|Fantasy</td>\n",
       "      <td>0.970325</td>\n",
       "    </tr>\n",
       "    <tr>\n",
       "      <th>3385</th>\n",
       "      <td>4306</td>\n",
       "      <td>Shrek (2001)</td>\n",
       "      <td>Adventure|Animation|Children|Comedy|Fantasy|Ro...</td>\n",
       "      <td>0.960726</td>\n",
       "    </tr>\n",
       "    <tr>\n",
       "      <th>2348</th>\n",
       "      <td>2959</td>\n",
       "      <td>Fight Club (1999)</td>\n",
       "      <td>Action|Crime|Drama|Thriller</td>\n",
       "      <td>0.957244</td>\n",
       "    </tr>\n",
       "    <tr>\n",
       "      <th>4976</th>\n",
       "      <td>7153</td>\n",
       "      <td>Lord of the Rings: The Return of the King, The...</td>\n",
       "      <td>Action|Adventure|Drama|Fantasy</td>\n",
       "      <td>0.949557</td>\n",
       "    </tr>\n",
       "    <tr>\n",
       "      <th>3768</th>\n",
       "      <td>4886</td>\n",
       "      <td>Monsters, Inc. (2001)</td>\n",
       "      <td>Adventure|Animation|Children|Comedy|Fantasy</td>\n",
       "      <td>0.836192</td>\n",
       "    </tr>\n",
       "  </tbody>\n",
       "</table>\n",
       "</div>"
      ],
      "text/plain": [
       "      movieId                                              title  \\\n",
       "4351     5952      Lord of the Rings: The Two Towers, The (2002)   \n",
       "3385     4306                                       Shrek (2001)   \n",
       "2348     2959                                  Fight Club (1999)   \n",
       "4976     7153  Lord of the Rings: The Return of the King, The...   \n",
       "3768     4886                              Monsters, Inc. (2001)   \n",
       "\n",
       "                                                 genres  Predictions  \n",
       "4351                                  Adventure|Fantasy     0.970325  \n",
       "3385  Adventure|Animation|Children|Comedy|Fantasy|Ro...     0.960726  \n",
       "2348                        Action|Crime|Drama|Thriller     0.957244  \n",
       "4976                     Action|Adventure|Drama|Fantasy     0.949557  \n",
       "3768        Adventure|Animation|Children|Comedy|Fantasy     0.836192  "
      ]
     },
     "execution_count": 24,
     "metadata": {},
     "output_type": "execute_result"
    }
   ],
   "source": [
    "recommendations"
   ]
  }
 ],
 "metadata": {
  "kernelspec": {
   "display_name": "Python 3",
   "language": "python",
   "name": "python3"
  },
  "language_info": {
   "codemirror_mode": {
    "name": "ipython",
    "version": 3
   },
   "file_extension": ".py",
   "mimetype": "text/x-python",
   "name": "python",
   "nbconvert_exporter": "python",
   "pygments_lexer": "ipython3",
   "version": "3.7.3"
  }
 },
 "nbformat": 4,
 "nbformat_minor": 5
}
