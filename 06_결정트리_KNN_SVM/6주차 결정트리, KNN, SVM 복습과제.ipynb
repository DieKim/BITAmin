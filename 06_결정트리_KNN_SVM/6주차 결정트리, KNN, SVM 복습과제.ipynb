{
 "cells": [
  {
   "cell_type": "markdown",
   "metadata": {},
   "source": [
    "# 복습과제 문제"
   ]
  },
  {
   "cell_type": "markdown",
   "metadata": {},
   "source": [
    "## 문제 1"
   ]
  },
  {
   "cell_type": "markdown",
   "metadata": {},
   "source": [
    "다음 중 결정 트리의 불순도에 대해 옳게 설명한 것을 모두 선택하시오.<br>\n",
    "\n",
    "(A) 지니 불순도는 부모 노드의 불순도와 자식 노드의 불순도의 차이로 계산한다. <br>\n",
    "(B) 지니 불순도는 클래스의 비율을 제곱하여 모두 더한 다음 1에서 뺀다.<br>\n",
    "(C) 엔트로피 불순도는 1에서 가장 큰 클래스 비율을 빼서 계산한다.<br>\n",
    "(D) 엔트로피 불순도는 클래스 비율과 클래스 비율에 밑이 2인 로그를 적용한 값을 곱해서 모두 더한 후 음수로 바꾸어 계산한다.<br>"
   ]
  },
  {
   "cell_type": "markdown",
   "metadata": {},
   "source": [
    "답: (B), (D)"
   ]
  },
  {
   "cell_type": "markdown",
   "metadata": {},
   "source": [
    "## 문제 2"
   ]
  },
  {
   "cell_type": "code",
   "execution_count": 1,
   "metadata": {},
   "outputs": [],
   "source": [
    "from sklearn.datasets import load_boston\n",
    "from sklearn.neighbors import KNeighborsRegressor\n",
    "from sklearn.svm import LinearSVC, SVC\n",
    "from sklearn.tree import DecisionTreeClassifier\n",
    "from sklearn.model_selection import train_test_split\n",
    "from sklearn.preprocessing import StandardScaler\n",
    "from sklearn.model_selection import GridSearchCV\n",
    "from sklearn.svm import SVR\n",
    "\n",
    "import numpy as np\n",
    "import pandas as pd"
   ]
  },
  {
   "cell_type": "markdown",
   "metadata": {},
   "source": [
    "### 2-1. 데이터 불러오기 및 데이터프레임으로 변환"
   ]
  },
  {
   "cell_type": "markdown",
   "metadata": {},
   "source": [
    "import된 load_boston 데이터를 데이터프레임으로 변환해 'target' 열을 추가하고, 완성된 데이터프레임의 상위 5개의 항목을 출력하세요.\n",
    "> hint : data=boston['data'], columns=boston['feature_names'], target=boston.target"
   ]
  },
  {
   "cell_type": "code",
   "execution_count": 2,
   "metadata": {},
   "outputs": [
    {
     "data": {
      "text/html": [
       "<div>\n",
       "<style scoped>\n",
       "    .dataframe tbody tr th:only-of-type {\n",
       "        vertical-align: middle;\n",
       "    }\n",
       "\n",
       "    .dataframe tbody tr th {\n",
       "        vertical-align: top;\n",
       "    }\n",
       "\n",
       "    .dataframe thead th {\n",
       "        text-align: right;\n",
       "    }\n",
       "</style>\n",
       "<table border=\"1\" class=\"dataframe\">\n",
       "  <thead>\n",
       "    <tr style=\"text-align: right;\">\n",
       "      <th></th>\n",
       "      <th>CRIM</th>\n",
       "      <th>ZN</th>\n",
       "      <th>INDUS</th>\n",
       "      <th>CHAS</th>\n",
       "      <th>NOX</th>\n",
       "      <th>RM</th>\n",
       "      <th>AGE</th>\n",
       "      <th>DIS</th>\n",
       "      <th>RAD</th>\n",
       "      <th>TAX</th>\n",
       "      <th>PTRATIO</th>\n",
       "      <th>B</th>\n",
       "      <th>LSTAT</th>\n",
       "      <th>target</th>\n",
       "    </tr>\n",
       "  </thead>\n",
       "  <tbody>\n",
       "    <tr>\n",
       "      <th>0</th>\n",
       "      <td>0.00632</td>\n",
       "      <td>18.0</td>\n",
       "      <td>2.31</td>\n",
       "      <td>0.0</td>\n",
       "      <td>0.538</td>\n",
       "      <td>6.575</td>\n",
       "      <td>65.2</td>\n",
       "      <td>4.0900</td>\n",
       "      <td>1.0</td>\n",
       "      <td>296.0</td>\n",
       "      <td>15.3</td>\n",
       "      <td>396.90</td>\n",
       "      <td>4.98</td>\n",
       "      <td>24.0</td>\n",
       "    </tr>\n",
       "    <tr>\n",
       "      <th>1</th>\n",
       "      <td>0.02731</td>\n",
       "      <td>0.0</td>\n",
       "      <td>7.07</td>\n",
       "      <td>0.0</td>\n",
       "      <td>0.469</td>\n",
       "      <td>6.421</td>\n",
       "      <td>78.9</td>\n",
       "      <td>4.9671</td>\n",
       "      <td>2.0</td>\n",
       "      <td>242.0</td>\n",
       "      <td>17.8</td>\n",
       "      <td>396.90</td>\n",
       "      <td>9.14</td>\n",
       "      <td>21.6</td>\n",
       "    </tr>\n",
       "    <tr>\n",
       "      <th>2</th>\n",
       "      <td>0.02729</td>\n",
       "      <td>0.0</td>\n",
       "      <td>7.07</td>\n",
       "      <td>0.0</td>\n",
       "      <td>0.469</td>\n",
       "      <td>7.185</td>\n",
       "      <td>61.1</td>\n",
       "      <td>4.9671</td>\n",
       "      <td>2.0</td>\n",
       "      <td>242.0</td>\n",
       "      <td>17.8</td>\n",
       "      <td>392.83</td>\n",
       "      <td>4.03</td>\n",
       "      <td>34.7</td>\n",
       "    </tr>\n",
       "    <tr>\n",
       "      <th>3</th>\n",
       "      <td>0.03237</td>\n",
       "      <td>0.0</td>\n",
       "      <td>2.18</td>\n",
       "      <td>0.0</td>\n",
       "      <td>0.458</td>\n",
       "      <td>6.998</td>\n",
       "      <td>45.8</td>\n",
       "      <td>6.0622</td>\n",
       "      <td>3.0</td>\n",
       "      <td>222.0</td>\n",
       "      <td>18.7</td>\n",
       "      <td>394.63</td>\n",
       "      <td>2.94</td>\n",
       "      <td>33.4</td>\n",
       "    </tr>\n",
       "    <tr>\n",
       "      <th>4</th>\n",
       "      <td>0.06905</td>\n",
       "      <td>0.0</td>\n",
       "      <td>2.18</td>\n",
       "      <td>0.0</td>\n",
       "      <td>0.458</td>\n",
       "      <td>7.147</td>\n",
       "      <td>54.2</td>\n",
       "      <td>6.0622</td>\n",
       "      <td>3.0</td>\n",
       "      <td>222.0</td>\n",
       "      <td>18.7</td>\n",
       "      <td>396.90</td>\n",
       "      <td>5.33</td>\n",
       "      <td>36.2</td>\n",
       "    </tr>\n",
       "  </tbody>\n",
       "</table>\n",
       "</div>"
      ],
      "text/plain": [
       "      CRIM    ZN  INDUS  CHAS    NOX     RM   AGE     DIS  RAD    TAX  \\\n",
       "0  0.00632  18.0   2.31   0.0  0.538  6.575  65.2  4.0900  1.0  296.0   \n",
       "1  0.02731   0.0   7.07   0.0  0.469  6.421  78.9  4.9671  2.0  242.0   \n",
       "2  0.02729   0.0   7.07   0.0  0.469  7.185  61.1  4.9671  2.0  242.0   \n",
       "3  0.03237   0.0   2.18   0.0  0.458  6.998  45.8  6.0622  3.0  222.0   \n",
       "4  0.06905   0.0   2.18   0.0  0.458  7.147  54.2  6.0622  3.0  222.0   \n",
       "\n",
       "   PTRATIO       B  LSTAT  target  \n",
       "0     15.3  396.90   4.98    24.0  \n",
       "1     17.8  396.90   9.14    21.6  \n",
       "2     17.8  392.83   4.03    34.7  \n",
       "3     18.7  394.63   2.94    33.4  \n",
       "4     18.7  396.90   5.33    36.2  "
      ]
     },
     "execution_count": 2,
     "metadata": {},
     "output_type": "execute_result"
    }
   ],
   "source": [
    "# 데이터프레임 변환\n",
    "boston = load_boston()\n",
    "df = pd.DataFrame(boston['data'], columns=boston['feature_names'])\n",
    "\n",
    "# 'target'열 추가\n",
    "df['target'] = boston['target']\n",
    "\n",
    "# 상위 5개 관측 출력\n",
    "df.head()"
   ]
  },
  {
   "cell_type": "markdown",
   "metadata": {},
   "source": [
    "### 2-2. 데이터 결측치 확인"
   ]
  },
  {
   "cell_type": "markdown",
   "metadata": {},
   "source": [
    "df.isnull().sum() 메서드를 이용해 불러온 데이터셋의 null 개수를 확인하세요"
   ]
  },
  {
   "cell_type": "code",
   "execution_count": 3,
   "metadata": {},
   "outputs": [
    {
     "data": {
      "text/plain": [
       "CRIM       0\n",
       "ZN         0\n",
       "INDUS      0\n",
       "CHAS       0\n",
       "NOX        0\n",
       "RM         0\n",
       "AGE        0\n",
       "DIS        0\n",
       "RAD        0\n",
       "TAX        0\n",
       "PTRATIO    0\n",
       "B          0\n",
       "LSTAT      0\n",
       "target     0\n",
       "dtype: int64"
      ]
     },
     "execution_count": 3,
     "metadata": {},
     "output_type": "execute_result"
    }
   ],
   "source": [
    "df.isnull().sum() # 결측치 없음"
   ]
  },
  {
   "cell_type": "markdown",
   "metadata": {},
   "source": [
    "### 2-3. 데이터, 타깃값 분리 및 데이터 전처리"
   ]
  },
  {
   "cell_type": "markdown",
   "metadata": {},
   "source": [
    "데이터프레임에서 다시 data와 target을 각각 X, y에 저장하고, StandardScaler를 통해 정규화하세요."
   ]
  },
  {
   "cell_type": "code",
   "execution_count": 4,
   "metadata": {},
   "outputs": [],
   "source": [
    "# features & target 분리\n",
    "X = df.drop(['target'], axis=1, inplace=False)\n",
    "y = df['target']"
   ]
  },
  {
   "cell_type": "code",
   "execution_count": 5,
   "metadata": {},
   "outputs": [],
   "source": [
    "# 정규화 by StandardScaler\n",
    "scaler = StandardScaler()\n",
    "X_scaled = pd.DataFrame(scaler.fit_transform(X), columns=X.columns)"
   ]
  },
  {
   "cell_type": "markdown",
   "metadata": {},
   "source": [
    "### 2-4. train-test split"
   ]
  },
  {
   "cell_type": "markdown",
   "metadata": {},
   "source": [
    "정규화된 X, y를 train_test_split()을 이용해 각각 X_train, X_test, y_train, y_test로 나누세요.<br>\n",
    "* test_size=0.3, random_state=777"
   ]
  },
  {
   "cell_type": "code",
   "execution_count": 6,
   "metadata": {},
   "outputs": [],
   "source": [
    "X_train, X_test, y_train, y_test = train_test_split(X_scaled, y, test_size=0.3, random_state=777)"
   ]
  },
  {
   "cell_type": "markdown",
   "metadata": {},
   "source": [
    "### 2-5. KNN과 그리드서치를 활용한 모델 학습"
   ]
  },
  {
   "cell_type": "markdown",
   "metadata": {},
   "source": [
    "GridSearchCV()를 활용해 n_neightbors 파라미터를 5~9까지 테스트하며 KNeighborsRegressor()를 학습시키세요.<br>\n",
    "* cv=5, n_jobs=-1"
   ]
  },
  {
   "cell_type": "code",
   "execution_count": 7,
   "metadata": {
    "scrolled": true
   },
   "outputs": [
    {
     "data": {
      "text/plain": [
       "GridSearchCV(cv=5, estimator=KNeighborsRegressor(), n_jobs=-1,\n",
       "             param_grid={'n_neighbors': [5, 6, 7, 8, 9]})"
      ]
     },
     "execution_count": 7,
     "metadata": {},
     "output_type": "execute_result"
    }
   ],
   "source": [
    "knn = KNeighborsRegressor()\n",
    "param_grid = {'n_neighbors': [5,6,7,8,9]}\n",
    "knn_grid = GridSearchCV(estimator=knn, param_grid=param_grid, cv=5, n_jobs=-1)\n",
    "knn_grid.fit(X_train, y_train) "
   ]
  },
  {
   "cell_type": "markdown",
   "metadata": {},
   "source": [
    "위의 코드를 통해 얻어진 모델에서 best_params_를 통해 가장 성능이 좋았던 파라미터 수치를, best_score_를 통해 점수를 출력하세요."
   ]
  },
  {
   "cell_type": "code",
   "execution_count": 8,
   "metadata": {},
   "outputs": [
    {
     "name": "stdout",
     "output_type": "stream",
     "text": [
      "최적 파라미터: {'n_neighbors': 7}\n",
      "최고 점수: 0.7532121281467716\n"
     ]
    }
   ],
   "source": [
    "print('최적 파라미터:', knn_grid.best_params_)  \n",
    "print('최고 점수:', knn_grid.best_score_)"
   ]
  },
  {
   "cell_type": "markdown",
   "metadata": {},
   "source": [
    "### 2-5. 모델 평가"
   ]
  },
  {
   "cell_type": "markdown",
   "metadata": {},
   "source": [
    "가장 성능이 좋았던 파라미터 값을 가진 모델을 best_knn에 저장하고, test score를 출력하세요.\n",
    "> hint : best_estimator_"
   ]
  },
  {
   "cell_type": "code",
   "execution_count": 9,
   "metadata": {},
   "outputs": [
    {
     "data": {
      "text/plain": [
       "0.7210947255997551"
      ]
     },
     "execution_count": 9,
     "metadata": {},
     "output_type": "execute_result"
    }
   ],
   "source": [
    "best_knn = knn_grid.best_estimator_\n",
    "best_knn.score(X_test, y_test)"
   ]
  },
  {
   "cell_type": "markdown",
   "metadata": {},
   "source": [
    "best_knn에서 10개의 값을 '실제값 : {}, 예측값 : {}'의 형태로 소수점 네자리까지 나타내세요.\n",
    "> hint : 현재 y_test의 인덱스가 0부터 순서대로가 아님. 별도의 처리 필요"
   ]
  },
  {
   "cell_type": "code",
   "execution_count": 10,
   "metadata": {},
   "outputs": [
    {
     "name": "stdout",
     "output_type": "stream",
     "text": [
      "실제값: 28.7000, 예측값: 18.9571\n",
      "실제값: 22.9000, 예측값: 11.1857\n",
      "실제값: 27.1000, 예측값: 11.7571\n",
      "실제값: 18.9000, 예측값: 24.2714\n",
      "실제값: 21.7000, 예측값: 27.9857\n",
      "실제값: 19.6000, 예측값: 17.3143\n",
      "실제값: 15.2000, 예측값: 21.2429\n",
      "실제값: 15.6000, 예측값: 29.7714\n",
      "실제값: 13.9000, 예측값: 19.4143\n",
      "실제값: 20.0000, 예측값: 42.0714\n"
     ]
    }
   ],
   "source": [
    "a = y_test.sort_index()[:10] # 실제값(Series)\n",
    "b = best_knn.predict(X_test)[:10] # 예측값(Array)\n",
    "\n",
    "for i in range(10):\n",
    "    print('실제값: {0:.4f}, 예측값: {1:.4f}'.format(a.iloc[i], b[i]))"
   ]
  },
  {
   "cell_type": "markdown",
   "metadata": {},
   "source": [
    "## 문제 3"
   ]
  },
  {
   "cell_type": "markdown",
   "metadata": {},
   "source": [
    "### 3-1. 데이터 불러오기 및 타깃값 분리"
   ]
  },
  {
   "cell_type": "markdown",
   "metadata": {},
   "source": [
    "다시 boston data를 불러오고, 결측치 확인 과정 없이 data, target을 각각 X, y에 나누어 저장하세요."
   ]
  },
  {
   "cell_type": "code",
   "execution_count": 11,
   "metadata": {},
   "outputs": [],
   "source": [
    "from sklearn.datasets import load_boston\n",
    "\n",
    "df = pd.DataFrame(boston['data'], columns=boston['feature_names'])\n",
    "df['target'] = boston['target']\n",
    "\n",
    "X = df.drop(['target'], axis=1, inplace=False)\n",
    "y = df['target']"
   ]
  },
  {
   "cell_type": "markdown",
   "metadata": {},
   "source": [
    "### 3-2. 전처리 및 train test split"
   ]
  },
  {
   "cell_type": "markdown",
   "metadata": {},
   "source": [
    "StandardScaler를 통해 정규화하고, 이를 X_train, X_test, y_train, y_test에 나누어 저장하세요.\n",
    "* test_size=0.3, random_state=777"
   ]
  },
  {
   "cell_type": "code",
   "execution_count": 12,
   "metadata": {},
   "outputs": [],
   "source": [
    "# 정규화\n",
    "scaler = StandardScaler()\n",
    "X_scaled = pd.DataFrame(scaler.fit_transform(X), columns=X.columns)"
   ]
  },
  {
   "cell_type": "code",
   "execution_count": 13,
   "metadata": {},
   "outputs": [],
   "source": [
    "# 데이터셋 분리\n",
    "X_train, X_test, y_train, y_test = train_test_split(X_scaled, y, test_size=0.3, random_state=777)"
   ]
  },
  {
   "cell_type": "markdown",
   "metadata": {},
   "source": [
    "### 3-3. RegressionSVM과 그리드 서치를 활용한 모델 학습"
   ]
  },
  {
   "cell_type": "markdown",
   "metadata": {},
   "source": [
    "> svm의 특성상 많은 시간이 걸릴 수 있음"
   ]
  },
  {
   "cell_type": "markdown",
   "metadata": {},
   "source": [
    "GridSearchCV()를 활용해 주어진 파라미터를 테스트하며 SVR()을 학습시키세요.<br>\n",
    "* param_grid {'C': [10, 100], 'gamma':[10, 100], 'kernel':['linear', 'poly', 'rbf']}\n",
    "* cv=5, n_jobs=-1"
   ]
  },
  {
   "cell_type": "code",
   "execution_count": 14,
   "metadata": {},
   "outputs": [
    {
     "data": {
      "text/plain": [
       "GridSearchCV(cv=5, estimator=SVR(), n_jobs=-1,\n",
       "             param_grid={'C': [10, 100], 'gamma': [10, 100],\n",
       "                         'kernel': ['linear', 'poly', 'rbf']})"
      ]
     },
     "execution_count": 14,
     "metadata": {},
     "output_type": "execute_result"
    }
   ],
   "source": [
    "svr = SVR()\n",
    "param_grid = {'C':[10, 100], 'gamma': [10, 100], 'kernel': ['linear', 'poly', 'rbf']}\n",
    "svr_grid = GridSearchCV(estimator=svr, param_grid = param_grid, cv=5, n_jobs=-1)\n",
    "svr_grid.fit(X_train, y_train)"
   ]
  },
  {
   "cell_type": "markdown",
   "metadata": {},
   "source": [
    "위의 코드를 통해 얻어진 모델에서 best_params_를 통해 가장 성능이 좋았던 파라미터 수치를, best_score_를 통해 점수를 출력하세요."
   ]
  },
  {
   "cell_type": "code",
   "execution_count": 15,
   "metadata": {},
   "outputs": [
    {
     "name": "stdout",
     "output_type": "stream",
     "text": [
      "최적 파라미터: {'C': 100, 'gamma': 10, 'kernel': 'linear'}\n",
      "최고 점수: 0.7089540416083381\n"
     ]
    }
   ],
   "source": [
    "print('최적 파라미터:', svr_grid.best_params_)  \n",
    "print('최고 점수:', svr_grid.best_score_)"
   ]
  },
  {
   "cell_type": "markdown",
   "metadata": {},
   "source": [
    "### 3-3. 모델 평가"
   ]
  },
  {
   "cell_type": "markdown",
   "metadata": {},
   "source": [
    "가장 성능이 좋았던 파라미터 값을 가진 모델을 best_svr에 저장하고, test score를 출력하세요."
   ]
  },
  {
   "cell_type": "code",
   "execution_count": 16,
   "metadata": {},
   "outputs": [
    {
     "data": {
      "text/plain": [
       "0.6983482801294308"
      ]
     },
     "execution_count": 16,
     "metadata": {},
     "output_type": "execute_result"
    }
   ],
   "source": [
    "best_svr = svr_grid.best_estimator_\n",
    "best_svr.score(X_test, y_test)"
   ]
  },
  {
   "cell_type": "markdown",
   "metadata": {},
   "source": [
    "best_svr에서 10개의 값을 '실제값 : {}, 예측값 : {}'의 형태로 소수점 네자리까지 나타내세요."
   ]
  },
  {
   "cell_type": "code",
   "execution_count": 17,
   "metadata": {},
   "outputs": [
    {
     "name": "stdout",
     "output_type": "stream",
     "text": [
      "실제값: 28.7000, 예측값: 17.7136\n",
      "실제값: 22.9000, 예측값: 9.5201\n",
      "실제값: 27.1000, 예측값: 13.0421\n",
      "실제값: 18.9000, 예측값: 22.9529\n",
      "실제값: 21.7000, 예측값: 32.2076\n",
      "실제값: 19.6000, 예측값: 18.9283\n",
      "실제값: 15.2000, 예측값: 16.6494\n",
      "실제값: 15.6000, 예측값: 33.0320\n",
      "실제값: 13.9000, 예측값: 11.9200\n",
      "실제값: 20.0000, 예측값: 34.2142\n"
     ]
    }
   ],
   "source": [
    "a = y_test.sort_index()[:10] # 실제값(Series)\n",
    "b = best_svr.predict(X_test)[:10] # 예측값(Array)\n",
    "\n",
    "for i in range(10):\n",
    "    print('실제값: {0:.4f}, 예측값: {1:.4f}'.format(a.iloc[i], b[i]))"
   ]
  },
  {
   "cell_type": "markdown",
   "metadata": {},
   "source": [
    "## 문제4"
   ]
  },
  {
   "cell_type": "markdown",
   "metadata": {},
   "source": [
    "### 다음 mushroom data에 있는 모자의 모양, 자루의 크기, 서식지, 군락의 모양 등 다양한 특징을 이용하여 버섯을 분류하려고 합니다.\n",
    "### 문제를 잘 읽고 답해주세요."
   ]
  },
  {
   "cell_type": "code",
   "execution_count": 59,
   "metadata": {},
   "outputs": [],
   "source": [
    "import requests\n",
    "import zipfile\n",
    "from io import StringIO\n",
    "from sklearn.preprocessing import LabelEncoder\n",
    "import io\n",
    "import pydot\n",
    "import pandas as pd\n",
    "import numpy as np\n",
    "from sklearn.model_selection import train_test_split\n",
    "from sklearn import preprocessing\n",
    "from sklearn.tree import DecisionTreeClassifier"
   ]
  },
  {
   "cell_type": "code",
   "execution_count": 60,
   "metadata": {},
   "outputs": [],
   "source": [
    "mush_data_url = \"https://archive.ics.uci.edu/ml/machine-learning-databases/mushroom/agaricus-lepiota.data\"\n",
    "s = requests.get(mush_data_url).content\n",
    "mush_data = pd.read_csv(io.StringIO(s.decode(\"utf-8\")), header=None)\n",
    "mush_data.columns = [\"classes\", \"cap_shape\", \"cap_surface\",\n",
    "                     \"cap_color\", \"odor\", \"bruises\",\n",
    "                     \"gill_attachment\", \"gill_spacing\",\n",
    "                     \"gill_size\", \"gill_color\", \"stalk_shape\",\n",
    "                     \"stalk_root\", \"stalk_surface_above_ring\",\n",
    "                     \"stalk_surface_below_ring\",\n",
    "                     \"stalk_color_above_ring\",\n",
    "                     \"stalk_color_below_ring\",\n",
    "                     \"veil_type\", \"veil_color\",\"ring_number\",\n",
    "                     \"ring_type\", \"spore_print_color\",\n",
    "                     \"population\", \"habitat\"]"
   ]
  },
  {
   "cell_type": "markdown",
   "metadata": {},
   "source": [
    "### 4-1. \"gill_color\", \"gill_attachment\", \"odor\", \"cap_color\" 열을 제거해주세요."
   ]
  },
  {
   "cell_type": "code",
   "execution_count": 61,
   "metadata": {},
   "outputs": [
    {
     "data": {
      "text/html": [
       "<div>\n",
       "<style scoped>\n",
       "    .dataframe tbody tr th:only-of-type {\n",
       "        vertical-align: middle;\n",
       "    }\n",
       "\n",
       "    .dataframe tbody tr th {\n",
       "        vertical-align: top;\n",
       "    }\n",
       "\n",
       "    .dataframe thead th {\n",
       "        text-align: right;\n",
       "    }\n",
       "</style>\n",
       "<table border=\"1\" class=\"dataframe\">\n",
       "  <thead>\n",
       "    <tr style=\"text-align: right;\">\n",
       "      <th></th>\n",
       "      <th>classes</th>\n",
       "      <th>cap_shape</th>\n",
       "      <th>cap_surface</th>\n",
       "      <th>bruises</th>\n",
       "      <th>gill_spacing</th>\n",
       "      <th>gill_size</th>\n",
       "      <th>stalk_shape</th>\n",
       "      <th>stalk_root</th>\n",
       "      <th>stalk_surface_above_ring</th>\n",
       "      <th>stalk_surface_below_ring</th>\n",
       "      <th>stalk_color_above_ring</th>\n",
       "      <th>stalk_color_below_ring</th>\n",
       "      <th>veil_type</th>\n",
       "      <th>veil_color</th>\n",
       "      <th>ring_number</th>\n",
       "      <th>ring_type</th>\n",
       "      <th>spore_print_color</th>\n",
       "      <th>population</th>\n",
       "      <th>habitat</th>\n",
       "    </tr>\n",
       "  </thead>\n",
       "  <tbody>\n",
       "    <tr>\n",
       "      <th>0</th>\n",
       "      <td>p</td>\n",
       "      <td>x</td>\n",
       "      <td>s</td>\n",
       "      <td>p</td>\n",
       "      <td>c</td>\n",
       "      <td>n</td>\n",
       "      <td>e</td>\n",
       "      <td>e</td>\n",
       "      <td>s</td>\n",
       "      <td>s</td>\n",
       "      <td>w</td>\n",
       "      <td>w</td>\n",
       "      <td>p</td>\n",
       "      <td>w</td>\n",
       "      <td>o</td>\n",
       "      <td>p</td>\n",
       "      <td>k</td>\n",
       "      <td>s</td>\n",
       "      <td>u</td>\n",
       "    </tr>\n",
       "    <tr>\n",
       "      <th>1</th>\n",
       "      <td>e</td>\n",
       "      <td>x</td>\n",
       "      <td>s</td>\n",
       "      <td>a</td>\n",
       "      <td>c</td>\n",
       "      <td>b</td>\n",
       "      <td>e</td>\n",
       "      <td>c</td>\n",
       "      <td>s</td>\n",
       "      <td>s</td>\n",
       "      <td>w</td>\n",
       "      <td>w</td>\n",
       "      <td>p</td>\n",
       "      <td>w</td>\n",
       "      <td>o</td>\n",
       "      <td>p</td>\n",
       "      <td>n</td>\n",
       "      <td>n</td>\n",
       "      <td>g</td>\n",
       "    </tr>\n",
       "    <tr>\n",
       "      <th>2</th>\n",
       "      <td>e</td>\n",
       "      <td>b</td>\n",
       "      <td>s</td>\n",
       "      <td>l</td>\n",
       "      <td>c</td>\n",
       "      <td>b</td>\n",
       "      <td>e</td>\n",
       "      <td>c</td>\n",
       "      <td>s</td>\n",
       "      <td>s</td>\n",
       "      <td>w</td>\n",
       "      <td>w</td>\n",
       "      <td>p</td>\n",
       "      <td>w</td>\n",
       "      <td>o</td>\n",
       "      <td>p</td>\n",
       "      <td>n</td>\n",
       "      <td>n</td>\n",
       "      <td>m</td>\n",
       "    </tr>\n",
       "    <tr>\n",
       "      <th>3</th>\n",
       "      <td>p</td>\n",
       "      <td>x</td>\n",
       "      <td>y</td>\n",
       "      <td>p</td>\n",
       "      <td>c</td>\n",
       "      <td>n</td>\n",
       "      <td>e</td>\n",
       "      <td>e</td>\n",
       "      <td>s</td>\n",
       "      <td>s</td>\n",
       "      <td>w</td>\n",
       "      <td>w</td>\n",
       "      <td>p</td>\n",
       "      <td>w</td>\n",
       "      <td>o</td>\n",
       "      <td>p</td>\n",
       "      <td>k</td>\n",
       "      <td>s</td>\n",
       "      <td>u</td>\n",
       "    </tr>\n",
       "    <tr>\n",
       "      <th>4</th>\n",
       "      <td>e</td>\n",
       "      <td>x</td>\n",
       "      <td>s</td>\n",
       "      <td>n</td>\n",
       "      <td>w</td>\n",
       "      <td>b</td>\n",
       "      <td>t</td>\n",
       "      <td>e</td>\n",
       "      <td>s</td>\n",
       "      <td>s</td>\n",
       "      <td>w</td>\n",
       "      <td>w</td>\n",
       "      <td>p</td>\n",
       "      <td>w</td>\n",
       "      <td>o</td>\n",
       "      <td>e</td>\n",
       "      <td>n</td>\n",
       "      <td>a</td>\n",
       "      <td>g</td>\n",
       "    </tr>\n",
       "  </tbody>\n",
       "</table>\n",
       "</div>"
      ],
      "text/plain": [
       "  classes cap_shape cap_surface bruises gill_spacing gill_size stalk_shape  \\\n",
       "0       p         x           s       p            c         n           e   \n",
       "1       e         x           s       a            c         b           e   \n",
       "2       e         b           s       l            c         b           e   \n",
       "3       p         x           y       p            c         n           e   \n",
       "4       e         x           s       n            w         b           t   \n",
       "\n",
       "  stalk_root stalk_surface_above_ring stalk_surface_below_ring  \\\n",
       "0          e                        s                        s   \n",
       "1          c                        s                        s   \n",
       "2          c                        s                        s   \n",
       "3          e                        s                        s   \n",
       "4          e                        s                        s   \n",
       "\n",
       "  stalk_color_above_ring stalk_color_below_ring veil_type veil_color  \\\n",
       "0                      w                      w         p          w   \n",
       "1                      w                      w         p          w   \n",
       "2                      w                      w         p          w   \n",
       "3                      w                      w         p          w   \n",
       "4                      w                      w         p          w   \n",
       "\n",
       "  ring_number ring_type spore_print_color population habitat  \n",
       "0           o         p                 k          s       u  \n",
       "1           o         p                 n          n       g  \n",
       "2           o         p                 n          n       m  \n",
       "3           o         p                 k          s       u  \n",
       "4           o         e                 n          a       g  "
      ]
     },
     "execution_count": 61,
     "metadata": {},
     "output_type": "execute_result"
    }
   ],
   "source": [
    "mush_data.drop(['gill_color', 'gill_attachment', 'odor', 'cap_color'], axis=1, inplace=True)\n",
    "mush_data.head()"
   ]
  },
  {
   "cell_type": "markdown",
   "metadata": {},
   "source": [
    "### 4-2. 결측치 확인 과정 없이 data, target을 각각 X, y에 나누어 저장하고 training data와 test data로 나누세요. (test_size = 0.3, random_state=42)"
   ]
  },
  {
   "cell_type": "code",
   "execution_count": 62,
   "metadata": {},
   "outputs": [],
   "source": [
    "# 특징변수(X)와 반응변수(y)로 분리\n",
    "X = mush_data.drop(['classes'], axis=1, inplace=False)\n",
    "y = mush_data['classes']"
   ]
  },
  {
   "cell_type": "code",
   "execution_count": 63,
   "metadata": {},
   "outputs": [],
   "source": [
    "# 레이블인코딩\n",
    "for col in X.columns:\n",
    "    encoder = LabelEncoder()\n",
    "    encoder.fit(X[col])\n",
    "    X[col] = encoder.transform(X[col])"
   ]
  },
  {
   "cell_type": "code",
   "execution_count": 64,
   "metadata": {},
   "outputs": [],
   "source": [
    "# 훈련데이터와 테스트데이터로 나누기\n",
    "X_train, X_test, y_train, y_test = train_test_split(X, y, test_size=0.3, random_state=42)"
   ]
  },
  {
   "cell_type": "markdown",
   "metadata": {},
   "source": [
    "### 4-3. Decision Classifier를 학습시키세요.(하이퍼 파라미터는 자유롭게, random_state=42)"
   ]
  },
  {
   "cell_type": "code",
   "execution_count": 65,
   "metadata": {},
   "outputs": [
    {
     "data": {
      "text/plain": [
       "DecisionTreeClassifier(random_state=42)"
      ]
     },
     "execution_count": 65,
     "metadata": {},
     "output_type": "execute_result"
    }
   ],
   "source": [
    "dtc = DecisionTreeClassifier(random_state=42)\n",
    "dtc.fit(X_train, y_train)"
   ]
  },
  {
   "cell_type": "markdown",
   "metadata": {},
   "source": [
    "### 4-4. 학습시킨 모델에 test data를 넣고 이를 도표로 표현하세요"
   ]
  },
  {
   "cell_type": "code",
   "execution_count": 58,
   "metadata": {
    "scrolled": true
   },
   "outputs": [
    {
     "data": {
      "text/html": [
       "<div>\n",
       "<style scoped>\n",
       "    .dataframe tbody tr th:only-of-type {\n",
       "        vertical-align: middle;\n",
       "    }\n",
       "\n",
       "    .dataframe tbody tr th {\n",
       "        vertical-align: top;\n",
       "    }\n",
       "\n",
       "    .dataframe thead th {\n",
       "        text-align: right;\n",
       "    }\n",
       "</style>\n",
       "<table border=\"1\" class=\"dataframe\">\n",
       "  <thead>\n",
       "    <tr style=\"text-align: right;\">\n",
       "      <th></th>\n",
       "      <th>예측값</th>\n",
       "      <th>실제값</th>\n",
       "      <th>일치여부</th>\n",
       "    </tr>\n",
       "  </thead>\n",
       "  <tbody>\n",
       "    <tr>\n",
       "      <th>0</th>\n",
       "      <td>e</td>\n",
       "      <td>p</td>\n",
       "      <td>불일치</td>\n",
       "    </tr>\n",
       "    <tr>\n",
       "      <th>1</th>\n",
       "      <td>p</td>\n",
       "      <td>e</td>\n",
       "      <td>불일치</td>\n",
       "    </tr>\n",
       "    <tr>\n",
       "      <th>2</th>\n",
       "      <td>p</td>\n",
       "      <td>e</td>\n",
       "      <td>불일치</td>\n",
       "    </tr>\n",
       "    <tr>\n",
       "      <th>3</th>\n",
       "      <td>e</td>\n",
       "      <td>p</td>\n",
       "      <td>불일치</td>\n",
       "    </tr>\n",
       "    <tr>\n",
       "      <th>4</th>\n",
       "      <td>p</td>\n",
       "      <td>e</td>\n",
       "      <td>불일치</td>\n",
       "    </tr>\n",
       "    <tr>\n",
       "      <th>5</th>\n",
       "      <td>p</td>\n",
       "      <td>e</td>\n",
       "      <td>불일치</td>\n",
       "    </tr>\n",
       "    <tr>\n",
       "      <th>6</th>\n",
       "      <td>p</td>\n",
       "      <td>e</td>\n",
       "      <td>불일치</td>\n",
       "    </tr>\n",
       "    <tr>\n",
       "      <th>7</th>\n",
       "      <td>p</td>\n",
       "      <td>e</td>\n",
       "      <td>불일치</td>\n",
       "    </tr>\n",
       "    <tr>\n",
       "      <th>8</th>\n",
       "      <td>e</td>\n",
       "      <td>p</td>\n",
       "      <td>불일치</td>\n",
       "    </tr>\n",
       "    <tr>\n",
       "      <th>9</th>\n",
       "      <td>e</td>\n",
       "      <td>e</td>\n",
       "      <td>일치</td>\n",
       "    </tr>\n",
       "    <tr>\n",
       "      <th>10</th>\n",
       "      <td>e</td>\n",
       "      <td>e</td>\n",
       "      <td>일치</td>\n",
       "    </tr>\n",
       "    <tr>\n",
       "      <th>11</th>\n",
       "      <td>p</td>\n",
       "      <td>e</td>\n",
       "      <td>불일치</td>\n",
       "    </tr>\n",
       "    <tr>\n",
       "      <th>12</th>\n",
       "      <td>e</td>\n",
       "      <td>e</td>\n",
       "      <td>일치</td>\n",
       "    </tr>\n",
       "    <tr>\n",
       "      <th>13</th>\n",
       "      <td>e</td>\n",
       "      <td>p</td>\n",
       "      <td>불일치</td>\n",
       "    </tr>\n",
       "    <tr>\n",
       "      <th>14</th>\n",
       "      <td>e</td>\n",
       "      <td>e</td>\n",
       "      <td>일치</td>\n",
       "    </tr>\n",
       "    <tr>\n",
       "      <th>15</th>\n",
       "      <td>e</td>\n",
       "      <td>e</td>\n",
       "      <td>일치</td>\n",
       "    </tr>\n",
       "    <tr>\n",
       "      <th>16</th>\n",
       "      <td>e</td>\n",
       "      <td>e</td>\n",
       "      <td>일치</td>\n",
       "    </tr>\n",
       "    <tr>\n",
       "      <th>17</th>\n",
       "      <td>p</td>\n",
       "      <td>p</td>\n",
       "      <td>일치</td>\n",
       "    </tr>\n",
       "    <tr>\n",
       "      <th>18</th>\n",
       "      <td>e</td>\n",
       "      <td>p</td>\n",
       "      <td>불일치</td>\n",
       "    </tr>\n",
       "    <tr>\n",
       "      <th>19</th>\n",
       "      <td>e</td>\n",
       "      <td>p</td>\n",
       "      <td>불일치</td>\n",
       "    </tr>\n",
       "    <tr>\n",
       "      <th>20</th>\n",
       "      <td>e</td>\n",
       "      <td>e</td>\n",
       "      <td>일치</td>\n",
       "    </tr>\n",
       "    <tr>\n",
       "      <th>21</th>\n",
       "      <td>e</td>\n",
       "      <td>p</td>\n",
       "      <td>불일치</td>\n",
       "    </tr>\n",
       "    <tr>\n",
       "      <th>22</th>\n",
       "      <td>p</td>\n",
       "      <td>e</td>\n",
       "      <td>불일치</td>\n",
       "    </tr>\n",
       "    <tr>\n",
       "      <th>23</th>\n",
       "      <td>e</td>\n",
       "      <td>e</td>\n",
       "      <td>일치</td>\n",
       "    </tr>\n",
       "    <tr>\n",
       "      <th>24</th>\n",
       "      <td>p</td>\n",
       "      <td>e</td>\n",
       "      <td>불일치</td>\n",
       "    </tr>\n",
       "    <tr>\n",
       "      <th>25</th>\n",
       "      <td>e</td>\n",
       "      <td>p</td>\n",
       "      <td>불일치</td>\n",
       "    </tr>\n",
       "    <tr>\n",
       "      <th>26</th>\n",
       "      <td>e</td>\n",
       "      <td>e</td>\n",
       "      <td>일치</td>\n",
       "    </tr>\n",
       "    <tr>\n",
       "      <th>27</th>\n",
       "      <td>e</td>\n",
       "      <td>e</td>\n",
       "      <td>일치</td>\n",
       "    </tr>\n",
       "    <tr>\n",
       "      <th>28</th>\n",
       "      <td>e</td>\n",
       "      <td>e</td>\n",
       "      <td>일치</td>\n",
       "    </tr>\n",
       "    <tr>\n",
       "      <th>29</th>\n",
       "      <td>p</td>\n",
       "      <td>e</td>\n",
       "      <td>불일치</td>\n",
       "    </tr>\n",
       "    <tr>\n",
       "      <th>...</th>\n",
       "      <td>...</td>\n",
       "      <td>...</td>\n",
       "      <td>...</td>\n",
       "    </tr>\n",
       "    <tr>\n",
       "      <th>2408</th>\n",
       "      <td>e</td>\n",
       "      <td>e</td>\n",
       "      <td>일치</td>\n",
       "    </tr>\n",
       "    <tr>\n",
       "      <th>2409</th>\n",
       "      <td>p</td>\n",
       "      <td>e</td>\n",
       "      <td>불일치</td>\n",
       "    </tr>\n",
       "    <tr>\n",
       "      <th>2410</th>\n",
       "      <td>p</td>\n",
       "      <td>e</td>\n",
       "      <td>불일치</td>\n",
       "    </tr>\n",
       "    <tr>\n",
       "      <th>2411</th>\n",
       "      <td>e</td>\n",
       "      <td>e</td>\n",
       "      <td>일치</td>\n",
       "    </tr>\n",
       "    <tr>\n",
       "      <th>2412</th>\n",
       "      <td>e</td>\n",
       "      <td>e</td>\n",
       "      <td>일치</td>\n",
       "    </tr>\n",
       "    <tr>\n",
       "      <th>2413</th>\n",
       "      <td>e</td>\n",
       "      <td>e</td>\n",
       "      <td>일치</td>\n",
       "    </tr>\n",
       "    <tr>\n",
       "      <th>2414</th>\n",
       "      <td>e</td>\n",
       "      <td>e</td>\n",
       "      <td>일치</td>\n",
       "    </tr>\n",
       "    <tr>\n",
       "      <th>2415</th>\n",
       "      <td>p</td>\n",
       "      <td>e</td>\n",
       "      <td>불일치</td>\n",
       "    </tr>\n",
       "    <tr>\n",
       "      <th>2416</th>\n",
       "      <td>p</td>\n",
       "      <td>e</td>\n",
       "      <td>불일치</td>\n",
       "    </tr>\n",
       "    <tr>\n",
       "      <th>2417</th>\n",
       "      <td>p</td>\n",
       "      <td>e</td>\n",
       "      <td>불일치</td>\n",
       "    </tr>\n",
       "    <tr>\n",
       "      <th>2418</th>\n",
       "      <td>p</td>\n",
       "      <td>e</td>\n",
       "      <td>불일치</td>\n",
       "    </tr>\n",
       "    <tr>\n",
       "      <th>2419</th>\n",
       "      <td>e</td>\n",
       "      <td>e</td>\n",
       "      <td>일치</td>\n",
       "    </tr>\n",
       "    <tr>\n",
       "      <th>2420</th>\n",
       "      <td>e</td>\n",
       "      <td>e</td>\n",
       "      <td>일치</td>\n",
       "    </tr>\n",
       "    <tr>\n",
       "      <th>2421</th>\n",
       "      <td>e</td>\n",
       "      <td>e</td>\n",
       "      <td>일치</td>\n",
       "    </tr>\n",
       "    <tr>\n",
       "      <th>2422</th>\n",
       "      <td>p</td>\n",
       "      <td>e</td>\n",
       "      <td>불일치</td>\n",
       "    </tr>\n",
       "    <tr>\n",
       "      <th>2423</th>\n",
       "      <td>e</td>\n",
       "      <td>e</td>\n",
       "      <td>일치</td>\n",
       "    </tr>\n",
       "    <tr>\n",
       "      <th>2424</th>\n",
       "      <td>p</td>\n",
       "      <td>e</td>\n",
       "      <td>불일치</td>\n",
       "    </tr>\n",
       "    <tr>\n",
       "      <th>2425</th>\n",
       "      <td>e</td>\n",
       "      <td>e</td>\n",
       "      <td>일치</td>\n",
       "    </tr>\n",
       "    <tr>\n",
       "      <th>2426</th>\n",
       "      <td>e</td>\n",
       "      <td>p</td>\n",
       "      <td>불일치</td>\n",
       "    </tr>\n",
       "    <tr>\n",
       "      <th>2427</th>\n",
       "      <td>e</td>\n",
       "      <td>e</td>\n",
       "      <td>일치</td>\n",
       "    </tr>\n",
       "    <tr>\n",
       "      <th>2428</th>\n",
       "      <td>e</td>\n",
       "      <td>e</td>\n",
       "      <td>일치</td>\n",
       "    </tr>\n",
       "    <tr>\n",
       "      <th>2429</th>\n",
       "      <td>p</td>\n",
       "      <td>e</td>\n",
       "      <td>불일치</td>\n",
       "    </tr>\n",
       "    <tr>\n",
       "      <th>2430</th>\n",
       "      <td>e</td>\n",
       "      <td>e</td>\n",
       "      <td>일치</td>\n",
       "    </tr>\n",
       "    <tr>\n",
       "      <th>2431</th>\n",
       "      <td>e</td>\n",
       "      <td>e</td>\n",
       "      <td>일치</td>\n",
       "    </tr>\n",
       "    <tr>\n",
       "      <th>2432</th>\n",
       "      <td>e</td>\n",
       "      <td>e</td>\n",
       "      <td>일치</td>\n",
       "    </tr>\n",
       "    <tr>\n",
       "      <th>2433</th>\n",
       "      <td>e</td>\n",
       "      <td>e</td>\n",
       "      <td>일치</td>\n",
       "    </tr>\n",
       "    <tr>\n",
       "      <th>2434</th>\n",
       "      <td>e</td>\n",
       "      <td>e</td>\n",
       "      <td>일치</td>\n",
       "    </tr>\n",
       "    <tr>\n",
       "      <th>2435</th>\n",
       "      <td>p</td>\n",
       "      <td>e</td>\n",
       "      <td>불일치</td>\n",
       "    </tr>\n",
       "    <tr>\n",
       "      <th>2436</th>\n",
       "      <td>e</td>\n",
       "      <td>e</td>\n",
       "      <td>일치</td>\n",
       "    </tr>\n",
       "    <tr>\n",
       "      <th>2437</th>\n",
       "      <td>e</td>\n",
       "      <td>e</td>\n",
       "      <td>일치</td>\n",
       "    </tr>\n",
       "  </tbody>\n",
       "</table>\n",
       "<p>2438 rows × 3 columns</p>\n",
       "</div>"
      ],
      "text/plain": [
       "     예측값 실제값 일치여부\n",
       "0      e   p  불일치\n",
       "1      p   e  불일치\n",
       "2      p   e  불일치\n",
       "3      e   p  불일치\n",
       "4      p   e  불일치\n",
       "5      p   e  불일치\n",
       "6      p   e  불일치\n",
       "7      p   e  불일치\n",
       "8      e   p  불일치\n",
       "9      e   e   일치\n",
       "10     e   e   일치\n",
       "11     p   e  불일치\n",
       "12     e   e   일치\n",
       "13     e   p  불일치\n",
       "14     e   e   일치\n",
       "15     e   e   일치\n",
       "16     e   e   일치\n",
       "17     p   p   일치\n",
       "18     e   p  불일치\n",
       "19     e   p  불일치\n",
       "20     e   e   일치\n",
       "21     e   p  불일치\n",
       "22     p   e  불일치\n",
       "23     e   e   일치\n",
       "24     p   e  불일치\n",
       "25     e   p  불일치\n",
       "26     e   e   일치\n",
       "27     e   e   일치\n",
       "28     e   e   일치\n",
       "29     p   e  불일치\n",
       "...   ..  ..  ...\n",
       "2408   e   e   일치\n",
       "2409   p   e  불일치\n",
       "2410   p   e  불일치\n",
       "2411   e   e   일치\n",
       "2412   e   e   일치\n",
       "2413   e   e   일치\n",
       "2414   e   e   일치\n",
       "2415   p   e  불일치\n",
       "2416   p   e  불일치\n",
       "2417   p   e  불일치\n",
       "2418   p   e  불일치\n",
       "2419   e   e   일치\n",
       "2420   e   e   일치\n",
       "2421   e   e   일치\n",
       "2422   p   e  불일치\n",
       "2423   e   e   일치\n",
       "2424   p   e  불일치\n",
       "2425   e   e   일치\n",
       "2426   e   p  불일치\n",
       "2427   e   e   일치\n",
       "2428   e   e   일치\n",
       "2429   p   e  불일치\n",
       "2430   e   e   일치\n",
       "2431   e   e   일치\n",
       "2432   e   e   일치\n",
       "2433   e   e   일치\n",
       "2434   e   e   일치\n",
       "2435   p   e  불일치\n",
       "2436   e   e   일치\n",
       "2437   e   e   일치\n",
       "\n",
       "[2438 rows x 3 columns]"
      ]
     },
     "execution_count": 58,
     "metadata": {},
     "output_type": "execute_result"
    }
   ],
   "source": [
    "# *도표로 표현?? 이걸 하라는게 맞나용..?\n",
    "# pred = dtc.predict(X_test)\n",
    "# df = pd.DataFrame(pred.reshape(-1,1), columns=['예측값']) \n",
    "# df['실제값'] = y\n",
    "# df['일치여부'] = np.where(df['예측값']==df['실제값'], '일치', '불일치')\n",
    "# df"
   ]
  },
  {
   "cell_type": "code",
   "execution_count": 67,
   "metadata": {},
   "outputs": [
    {
     "name": "stdout",
     "output_type": "stream",
     "text": [
      "test accuracy: 1.0000\n"
     ]
    }
   ],
   "source": [
    "# Accuracy; 왜 1이 나올까요...?ㅠㅠ \n",
    "from sklearn.metrics import accuracy_score\n",
    "pred = dtc.predict(X_test)\n",
    "print('test accuracy: {0:.4f}'.format(accuracy_score(y_test, pred)))"
   ]
  },
  {
   "cell_type": "markdown",
   "metadata": {},
   "source": [
    "### 4-5. graphviz를 통해 의사결정트리를 시각화하세요"
   ]
  },
  {
   "cell_type": "markdown",
   "metadata": {},
   "source": [
    "anaconda prompt에 conda install graphviz, conda install pydotplus 설치하신 후 실행해주세요!"
   ]
  },
  {
   "cell_type": "code",
   "execution_count": 30,
   "metadata": {},
   "outputs": [],
   "source": [
    "import pydotplus\n",
    "from sklearn.tree import export_graphviz\n",
    "from IPython.core.display import Image"
   ]
  },
  {
   "cell_type": "code",
   "execution_count": 31,
   "metadata": {},
   "outputs": [
    {
     "data": {
      "image/svg+xml": [
       "<?xml version=\"1.0\" encoding=\"UTF-8\" standalone=\"no\"?>\r\n",
       "<!DOCTYPE svg PUBLIC \"-//W3C//DTD SVG 1.1//EN\"\r\n",
       " \"http://www.w3.org/Graphics/SVG/1.1/DTD/svg11.dtd\">\r\n",
       "<!-- Generated by graphviz version 2.38.0 (20140413.2041)\r\n",
       " -->\r\n",
       "<!-- Title: Tree Pages: 1 -->\r\n",
       "<svg width=\"1146pt\" height=\"790pt\"\r\n",
       " viewBox=\"0.00 0.00 1146.00 790.00\" xmlns=\"http://www.w3.org/2000/svg\" xmlns:xlink=\"http://www.w3.org/1999/xlink\">\r\n",
       "<g id=\"graph0\" class=\"graph\" transform=\"scale(1 1) rotate(0) translate(4 786)\">\r\n",
       "<title>Tree</title>\r\n",
       "<polygon fill=\"white\" stroke=\"none\" points=\"-4,4 -4,-786 1142,-786 1142,4 -4,4\"/>\r\n",
       "<!-- 0 -->\r\n",
       "<g id=\"node1\" class=\"node\"><title>0</title>\r\n",
       "<polygon fill=\"#fdf6f1\" stroke=\"black\" points=\"526.5,-782 395.5,-782 395.5,-699 526.5,-699 526.5,-782\"/>\r\n",
       "<text text-anchor=\"middle\" x=\"461\" y=\"-766.8\" font-family=\"Times New Roman,serif\" font-size=\"14.00\">gill_size &lt;= 0.5</text>\r\n",
       "<text text-anchor=\"middle\" x=\"461\" y=\"-751.8\" font-family=\"Times New Roman,serif\" font-size=\"14.00\">gini = 0.499</text>\r\n",
       "<text text-anchor=\"middle\" x=\"461\" y=\"-736.8\" font-family=\"Times New Roman,serif\" font-size=\"14.00\">samples = 5686</text>\r\n",
       "<text text-anchor=\"middle\" x=\"461\" y=\"-721.8\" font-family=\"Times New Roman,serif\" font-size=\"14.00\">value = [2951, 2735]</text>\r\n",
       "<text text-anchor=\"middle\" x=\"461\" y=\"-706.8\" font-family=\"Times New Roman,serif\" font-size=\"14.00\">class = p</text>\r\n",
       "</g>\r\n",
       "<!-- 1 -->\r\n",
       "<g id=\"node2\" class=\"node\"><title>1</title>\r\n",
       "<polygon fill=\"#f0b78e\" stroke=\"black\" points=\"439.5,-663 280.5,-663 280.5,-580 439.5,-580 439.5,-663\"/>\r\n",
       "<text text-anchor=\"middle\" x=\"360\" y=\"-647.8\" font-family=\"Times New Roman,serif\" font-size=\"14.00\">spore_print_color &lt;= 1.5</text>\r\n",
       "<text text-anchor=\"middle\" x=\"360\" y=\"-632.8\" font-family=\"Times New Roman,serif\" font-size=\"14.00\">gini = 0.42</text>\r\n",
       "<text text-anchor=\"middle\" x=\"360\" y=\"-617.8\" font-family=\"Times New Roman,serif\" font-size=\"14.00\">samples = 3941</text>\r\n",
       "<text text-anchor=\"middle\" x=\"360\" y=\"-602.8\" font-family=\"Times New Roman,serif\" font-size=\"14.00\">value = [2758, 1183]</text>\r\n",
       "<text text-anchor=\"middle\" x=\"360\" y=\"-587.8\" font-family=\"Times New Roman,serif\" font-size=\"14.00\">class = p</text>\r\n",
       "</g>\r\n",
       "<!-- 0&#45;&gt;1 -->\r\n",
       "<g id=\"edge1\" class=\"edge\"><title>0&#45;&gt;1</title>\r\n",
       "<path fill=\"none\" stroke=\"black\" d=\"M425.959,-698.907C418.124,-689.832 409.741,-680.121 401.669,-670.769\"/>\r\n",
       "<polygon fill=\"black\" stroke=\"black\" points=\"404.163,-668.303 394.98,-663.021 398.865,-672.878 404.163,-668.303\"/>\r\n",
       "<text text-anchor=\"middle\" x=\"393.15\" y=\"-684.254\" font-family=\"Times New Roman,serif\" font-size=\"14.00\">True</text>\r\n",
       "</g>\r\n",
       "<!-- 12 -->\r\n",
       "<g id=\"node13\" class=\"node\"><title>12</title>\r\n",
       "<polygon fill=\"#52a9e8\" stroke=\"black\" points=\"662.5,-663 461.5,-663 461.5,-580 662.5,-580 662.5,-663\"/>\r\n",
       "<text text-anchor=\"middle\" x=\"562\" y=\"-647.8\" font-family=\"Times New Roman,serif\" font-size=\"14.00\">stalk_surface_below_ring &lt;= 0.5</text>\r\n",
       "<text text-anchor=\"middle\" x=\"562\" y=\"-632.8\" font-family=\"Times New Roman,serif\" font-size=\"14.00\">gini = 0.197</text>\r\n",
       "<text text-anchor=\"middle\" x=\"562\" y=\"-617.8\" font-family=\"Times New Roman,serif\" font-size=\"14.00\">samples = 1745</text>\r\n",
       "<text text-anchor=\"middle\" x=\"562\" y=\"-602.8\" font-family=\"Times New Roman,serif\" font-size=\"14.00\">value = [193, 1552]</text>\r\n",
       "<text text-anchor=\"middle\" x=\"562\" y=\"-587.8\" font-family=\"Times New Roman,serif\" font-size=\"14.00\">class = e</text>\r\n",
       "</g>\r\n",
       "<!-- 0&#45;&gt;12 -->\r\n",
       "<g id=\"edge12\" class=\"edge\"><title>0&#45;&gt;12</title>\r\n",
       "<path fill=\"none\" stroke=\"black\" d=\"M496.041,-698.907C503.876,-689.832 512.259,-680.121 520.331,-670.769\"/>\r\n",
       "<polygon fill=\"black\" stroke=\"black\" points=\"523.135,-672.878 527.02,-663.021 517.837,-668.303 523.135,-672.878\"/>\r\n",
       "<text text-anchor=\"middle\" x=\"528.85\" y=\"-684.254\" font-family=\"Times New Roman,serif\" font-size=\"14.00\">False</text>\r\n",
       "</g>\r\n",
       "<!-- 2 -->\r\n",
       "<g id=\"node3\" class=\"node\"><title>2</title>\r\n",
       "<polygon fill=\"#3fa0e6\" stroke=\"black\" points=\"231,-544 113,-544 113,-461 231,-461 231,-544\"/>\r\n",
       "<text text-anchor=\"middle\" x=\"172\" y=\"-528.8\" font-family=\"Times New Roman,serif\" font-size=\"14.00\">veil_color &lt;= 1.5</text>\r\n",
       "<text text-anchor=\"middle\" x=\"172\" y=\"-513.8\" font-family=\"Times New Roman,serif\" font-size=\"14.00\">gini = 0.058</text>\r\n",
       "<text text-anchor=\"middle\" x=\"172\" y=\"-498.8\" font-family=\"Times New Roman,serif\" font-size=\"14.00\">samples = 1139</text>\r\n",
       "<text text-anchor=\"middle\" x=\"172\" y=\"-483.8\" font-family=\"Times New Roman,serif\" font-size=\"14.00\">value = [34, 1105]</text>\r\n",
       "<text text-anchor=\"middle\" x=\"172\" y=\"-468.8\" font-family=\"Times New Roman,serif\" font-size=\"14.00\">class = e</text>\r\n",
       "</g>\r\n",
       "<!-- 1&#45;&gt;2 -->\r\n",
       "<g id=\"edge2\" class=\"edge\"><title>1&#45;&gt;2</title>\r\n",
       "<path fill=\"none\" stroke=\"black\" d=\"M294.774,-579.907C277.002,-568.847 257.711,-556.842 239.8,-545.695\"/>\r\n",
       "<polygon fill=\"black\" stroke=\"black\" points=\"241.47,-542.612 231.131,-540.299 237.771,-548.555 241.47,-542.612\"/>\r\n",
       "</g>\r\n",
       "<!-- 5 -->\r\n",
       "<g id=\"node6\" class=\"node\"><title>5</title>\r\n",
       "<polygon fill=\"#e6853f\" stroke=\"black\" points=\"455,-544 265,-544 265,-461 455,-461 455,-544\"/>\r\n",
       "<text text-anchor=\"middle\" x=\"360\" y=\"-528.8\" font-family=\"Times New Roman,serif\" font-size=\"14.00\">stalk_color_below_ring &lt;= 1.5</text>\r\n",
       "<text text-anchor=\"middle\" x=\"360\" y=\"-513.8\" font-family=\"Times New Roman,serif\" font-size=\"14.00\">gini = 0.054</text>\r\n",
       "<text text-anchor=\"middle\" x=\"360\" y=\"-498.8\" font-family=\"Times New Roman,serif\" font-size=\"14.00\">samples = 2802</text>\r\n",
       "<text text-anchor=\"middle\" x=\"360\" y=\"-483.8\" font-family=\"Times New Roman,serif\" font-size=\"14.00\">value = [2724, 78]</text>\r\n",
       "<text text-anchor=\"middle\" x=\"360\" y=\"-468.8\" font-family=\"Times New Roman,serif\" font-size=\"14.00\">class = p</text>\r\n",
       "</g>\r\n",
       "<!-- 1&#45;&gt;5 -->\r\n",
       "<g id=\"edge5\" class=\"edge\"><title>1&#45;&gt;5</title>\r\n",
       "<path fill=\"none\" stroke=\"black\" d=\"M360,-579.907C360,-571.649 360,-562.864 360,-554.302\"/>\r\n",
       "<polygon fill=\"black\" stroke=\"black\" points=\"363.5,-554.021 360,-544.021 356.5,-554.021 363.5,-554.021\"/>\r\n",
       "</g>\r\n",
       "<!-- 3 -->\r\n",
       "<g id=\"node4\" class=\"node\"><title>3</title>\r\n",
       "<polygon fill=\"#e58139\" stroke=\"black\" points=\"98,-417.5 0,-417.5 0,-349.5 98,-349.5 98,-417.5\"/>\r\n",
       "<text text-anchor=\"middle\" x=\"49\" y=\"-402.3\" font-family=\"Times New Roman,serif\" font-size=\"14.00\">gini = 0.0</text>\r\n",
       "<text text-anchor=\"middle\" x=\"49\" y=\"-387.3\" font-family=\"Times New Roman,serif\" font-size=\"14.00\">samples = 34</text>\r\n",
       "<text text-anchor=\"middle\" x=\"49\" y=\"-372.3\" font-family=\"Times New Roman,serif\" font-size=\"14.00\">value = [34, 0]</text>\r\n",
       "<text text-anchor=\"middle\" x=\"49\" y=\"-357.3\" font-family=\"Times New Roman,serif\" font-size=\"14.00\">class = p</text>\r\n",
       "</g>\r\n",
       "<!-- 2&#45;&gt;3 -->\r\n",
       "<g id=\"edge3\" class=\"edge\"><title>2&#45;&gt;3</title>\r\n",
       "<path fill=\"none\" stroke=\"black\" d=\"M129.326,-460.907C117.029,-449.211 103.622,-436.457 91.3454,-424.78\"/>\r\n",
       "<polygon fill=\"black\" stroke=\"black\" points=\"93.5257,-422.023 83.8678,-417.667 88.7012,-427.095 93.5257,-422.023\"/>\r\n",
       "</g>\r\n",
       "<!-- 4 -->\r\n",
       "<g id=\"node5\" class=\"node\"><title>4</title>\r\n",
       "<polygon fill=\"#399de5\" stroke=\"black\" points=\"227.5,-417.5 116.5,-417.5 116.5,-349.5 227.5,-349.5 227.5,-417.5\"/>\r\n",
       "<text text-anchor=\"middle\" x=\"172\" y=\"-402.3\" font-family=\"Times New Roman,serif\" font-size=\"14.00\">gini = 0.0</text>\r\n",
       "<text text-anchor=\"middle\" x=\"172\" y=\"-387.3\" font-family=\"Times New Roman,serif\" font-size=\"14.00\">samples = 1105</text>\r\n",
       "<text text-anchor=\"middle\" x=\"172\" y=\"-372.3\" font-family=\"Times New Roman,serif\" font-size=\"14.00\">value = [0, 1105]</text>\r\n",
       "<text text-anchor=\"middle\" x=\"172\" y=\"-357.3\" font-family=\"Times New Roman,serif\" font-size=\"14.00\">class = e</text>\r\n",
       "</g>\r\n",
       "<!-- 2&#45;&gt;4 -->\r\n",
       "<g id=\"edge4\" class=\"edge\"><title>2&#45;&gt;4</title>\r\n",
       "<path fill=\"none\" stroke=\"black\" d=\"M172,-460.907C172,-450.204 172,-438.615 172,-427.776\"/>\r\n",
       "<polygon fill=\"black\" stroke=\"black\" points=\"175.5,-427.667 172,-417.667 168.5,-427.667 175.5,-427.667\"/>\r\n",
       "</g>\r\n",
       "<!-- 6 -->\r\n",
       "<g id=\"node7\" class=\"node\"><title>6</title>\r\n",
       "<polygon fill=\"#399de5\" stroke=\"black\" points=\"344,-417.5 246,-417.5 246,-349.5 344,-349.5 344,-417.5\"/>\r\n",
       "<text text-anchor=\"middle\" x=\"295\" y=\"-402.3\" font-family=\"Times New Roman,serif\" font-size=\"14.00\">gini = 0.0</text>\r\n",
       "<text text-anchor=\"middle\" x=\"295\" y=\"-387.3\" font-family=\"Times New Roman,serif\" font-size=\"14.00\">samples = 29</text>\r\n",
       "<text text-anchor=\"middle\" x=\"295\" y=\"-372.3\" font-family=\"Times New Roman,serif\" font-size=\"14.00\">value = [0, 29]</text>\r\n",
       "<text text-anchor=\"middle\" x=\"295\" y=\"-357.3\" font-family=\"Times New Roman,serif\" font-size=\"14.00\">class = e</text>\r\n",
       "</g>\r\n",
       "<!-- 5&#45;&gt;6 -->\r\n",
       "<g id=\"edge6\" class=\"edge\"><title>5&#45;&gt;6</title>\r\n",
       "<path fill=\"none\" stroke=\"black\" d=\"M337.449,-460.907C331.257,-449.763 324.532,-437.658 318.3,-426.439\"/>\r\n",
       "<polygon fill=\"black\" stroke=\"black\" points=\"321.342,-424.709 313.426,-417.667 315.223,-428.108 321.342,-424.709\"/>\r\n",
       "</g>\r\n",
       "<!-- 7 -->\r\n",
       "<g id=\"node8\" class=\"node\"><title>7</title>\r\n",
       "<polygon fill=\"#e5833d\" stroke=\"black\" points=\"490,-425 362,-425 362,-342 490,-342 490,-425\"/>\r\n",
       "<text text-anchor=\"middle\" x=\"426\" y=\"-409.8\" font-family=\"Times New Roman,serif\" font-size=\"14.00\">ring_number &lt;= 1.5</text>\r\n",
       "<text text-anchor=\"middle\" x=\"426\" y=\"-394.8\" font-family=\"Times New Roman,serif\" font-size=\"14.00\">gini = 0.035</text>\r\n",
       "<text text-anchor=\"middle\" x=\"426\" y=\"-379.8\" font-family=\"Times New Roman,serif\" font-size=\"14.00\">samples = 2773</text>\r\n",
       "<text text-anchor=\"middle\" x=\"426\" y=\"-364.8\" font-family=\"Times New Roman,serif\" font-size=\"14.00\">value = [2724, 49]</text>\r\n",
       "<text text-anchor=\"middle\" x=\"426\" y=\"-349.8\" font-family=\"Times New Roman,serif\" font-size=\"14.00\">class = p</text>\r\n",
       "</g>\r\n",
       "<!-- 5&#45;&gt;7 -->\r\n",
       "<g id=\"edge7\" class=\"edge\"><title>5&#45;&gt;7</title>\r\n",
       "<path fill=\"none\" stroke=\"black\" d=\"M382.898,-460.907C387.813,-452.195 393.058,-442.897 398.137,-433.893\"/>\r\n",
       "<polygon fill=\"black\" stroke=\"black\" points=\"401.277,-435.45 403.142,-425.021 395.18,-432.011 401.277,-435.45\"/>\r\n",
       "</g>\r\n",
       "<!-- 8 -->\r\n",
       "<g id=\"node9\" class=\"node\"><title>8</title>\r\n",
       "<polygon fill=\"#e58139\" stroke=\"black\" points=\"328.5,-298.5 217.5,-298.5 217.5,-230.5 328.5,-230.5 328.5,-298.5\"/>\r\n",
       "<text text-anchor=\"middle\" x=\"273\" y=\"-283.3\" font-family=\"Times New Roman,serif\" font-size=\"14.00\">gini = 0.0</text>\r\n",
       "<text text-anchor=\"middle\" x=\"273\" y=\"-268.3\" font-family=\"Times New Roman,serif\" font-size=\"14.00\">samples = 2346</text>\r\n",
       "<text text-anchor=\"middle\" x=\"273\" y=\"-253.3\" font-family=\"Times New Roman,serif\" font-size=\"14.00\">value = [2346, 0]</text>\r\n",
       "<text text-anchor=\"middle\" x=\"273\" y=\"-238.3\" font-family=\"Times New Roman,serif\" font-size=\"14.00\">class = p</text>\r\n",
       "</g>\r\n",
       "<!-- 7&#45;&gt;8 -->\r\n",
       "<g id=\"edge8\" class=\"edge\"><title>7&#45;&gt;8</title>\r\n",
       "<path fill=\"none\" stroke=\"black\" d=\"M372.917,-341.907C357.189,-329.88 339.999,-316.735 324.38,-304.791\"/>\r\n",
       "<polygon fill=\"black\" stroke=\"black\" points=\"326.442,-301.961 316.372,-298.667 322.19,-307.522 326.442,-301.961\"/>\r\n",
       "</g>\r\n",
       "<!-- 9 -->\r\n",
       "<g id=\"node10\" class=\"node\"><title>9</title>\r\n",
       "<polygon fill=\"#e89153\" stroke=\"black\" points=\"505.5,-306 346.5,-306 346.5,-223 505.5,-223 505.5,-306\"/>\r\n",
       "<text text-anchor=\"middle\" x=\"426\" y=\"-290.8\" font-family=\"Times New Roman,serif\" font-size=\"14.00\">spore_print_color &lt;= 6.0</text>\r\n",
       "<text text-anchor=\"middle\" x=\"426\" y=\"-275.8\" font-family=\"Times New Roman,serif\" font-size=\"14.00\">gini = 0.203</text>\r\n",
       "<text text-anchor=\"middle\" x=\"426\" y=\"-260.8\" font-family=\"Times New Roman,serif\" font-size=\"14.00\">samples = 427</text>\r\n",
       "<text text-anchor=\"middle\" x=\"426\" y=\"-245.8\" font-family=\"Times New Roman,serif\" font-size=\"14.00\">value = [378, 49]</text>\r\n",
       "<text text-anchor=\"middle\" x=\"426\" y=\"-230.8\" font-family=\"Times New Roman,serif\" font-size=\"14.00\">class = p</text>\r\n",
       "</g>\r\n",
       "<!-- 7&#45;&gt;9 -->\r\n",
       "<g id=\"edge9\" class=\"edge\"><title>7&#45;&gt;9</title>\r\n",
       "<path fill=\"none\" stroke=\"black\" d=\"M426,-341.907C426,-333.649 426,-324.864 426,-316.302\"/>\r\n",
       "<polygon fill=\"black\" stroke=\"black\" points=\"429.5,-316.021 426,-306.021 422.5,-316.021 429.5,-316.021\"/>\r\n",
       "</g>\r\n",
       "<!-- 10 -->\r\n",
       "<g id=\"node11\" class=\"node\"><title>10</title>\r\n",
       "<polygon fill=\"#399de5\" stroke=\"black\" points=\"366,-179.5 268,-179.5 268,-111.5 366,-111.5 366,-179.5\"/>\r\n",
       "<text text-anchor=\"middle\" x=\"317\" y=\"-164.3\" font-family=\"Times New Roman,serif\" font-size=\"14.00\">gini = 0.0</text>\r\n",
       "<text text-anchor=\"middle\" x=\"317\" y=\"-149.3\" font-family=\"Times New Roman,serif\" font-size=\"14.00\">samples = 49</text>\r\n",
       "<text text-anchor=\"middle\" x=\"317\" y=\"-134.3\" font-family=\"Times New Roman,serif\" font-size=\"14.00\">value = [0, 49]</text>\r\n",
       "<text text-anchor=\"middle\" x=\"317\" y=\"-119.3\" font-family=\"Times New Roman,serif\" font-size=\"14.00\">class = e</text>\r\n",
       "</g>\r\n",
       "<!-- 9&#45;&gt;10 -->\r\n",
       "<g id=\"edge10\" class=\"edge\"><title>9&#45;&gt;10</title>\r\n",
       "<path fill=\"none\" stroke=\"black\" d=\"M388.183,-222.907C377.389,-211.321 365.629,-198.698 354.834,-187.111\"/>\r\n",
       "<polygon fill=\"black\" stroke=\"black\" points=\"357.277,-184.598 347.899,-179.667 352.155,-189.37 357.277,-184.598\"/>\r\n",
       "</g>\r\n",
       "<!-- 11 -->\r\n",
       "<g id=\"node12\" class=\"node\"><title>11</title>\r\n",
       "<polygon fill=\"#e58139\" stroke=\"black\" points=\"488,-179.5 384,-179.5 384,-111.5 488,-111.5 488,-179.5\"/>\r\n",
       "<text text-anchor=\"middle\" x=\"436\" y=\"-164.3\" font-family=\"Times New Roman,serif\" font-size=\"14.00\">gini = 0.0</text>\r\n",
       "<text text-anchor=\"middle\" x=\"436\" y=\"-149.3\" font-family=\"Times New Roman,serif\" font-size=\"14.00\">samples = 378</text>\r\n",
       "<text text-anchor=\"middle\" x=\"436\" y=\"-134.3\" font-family=\"Times New Roman,serif\" font-size=\"14.00\">value = [378, 0]</text>\r\n",
       "<text text-anchor=\"middle\" x=\"436\" y=\"-119.3\" font-family=\"Times New Roman,serif\" font-size=\"14.00\">class = p</text>\r\n",
       "</g>\r\n",
       "<!-- 9&#45;&gt;11 -->\r\n",
       "<g id=\"edge11\" class=\"edge\"><title>9&#45;&gt;11</title>\r\n",
       "<path fill=\"none\" stroke=\"black\" d=\"M429.469,-222.907C430.384,-212.204 431.375,-200.615 432.301,-189.776\"/>\r\n",
       "<polygon fill=\"black\" stroke=\"black\" points=\"435.801,-189.929 433.165,-179.667 428.826,-189.333 435.801,-189.929\"/>\r\n",
       "</g>\r\n",
       "<!-- 13 -->\r\n",
       "<g id=\"node14\" class=\"node\"><title>13</title>\r\n",
       "<polygon fill=\"#e58139\" stroke=\"black\" points=\"611,-536.5 513,-536.5 513,-468.5 611,-468.5 611,-536.5\"/>\r\n",
       "<text text-anchor=\"middle\" x=\"562\" y=\"-521.3\" font-family=\"Times New Roman,serif\" font-size=\"14.00\">gini = 0.0</text>\r\n",
       "<text text-anchor=\"middle\" x=\"562\" y=\"-506.3\" font-family=\"Times New Roman,serif\" font-size=\"14.00\">samples = 56</text>\r\n",
       "<text text-anchor=\"middle\" x=\"562\" y=\"-491.3\" font-family=\"Times New Roman,serif\" font-size=\"14.00\">value = [56, 0]</text>\r\n",
       "<text text-anchor=\"middle\" x=\"562\" y=\"-476.3\" font-family=\"Times New Roman,serif\" font-size=\"14.00\">class = p</text>\r\n",
       "</g>\r\n",
       "<!-- 12&#45;&gt;13 -->\r\n",
       "<g id=\"edge13\" class=\"edge\"><title>12&#45;&gt;13</title>\r\n",
       "<path fill=\"none\" stroke=\"black\" d=\"M562,-579.907C562,-569.204 562,-557.615 562,-546.776\"/>\r\n",
       "<polygon fill=\"black\" stroke=\"black\" points=\"565.5,-546.667 562,-536.667 558.5,-546.667 565.5,-546.667\"/>\r\n",
       "</g>\r\n",
       "<!-- 14 -->\r\n",
       "<g id=\"node15\" class=\"node\"><title>14</title>\r\n",
       "<polygon fill=\"#4aa6e7\" stroke=\"black\" points=\"763,-544 637,-544 637,-461 763,-461 763,-544\"/>\r\n",
       "<text text-anchor=\"middle\" x=\"700\" y=\"-528.8\" font-family=\"Times New Roman,serif\" font-size=\"14.00\">cap_surface &lt;= 0.5</text>\r\n",
       "<text text-anchor=\"middle\" x=\"700\" y=\"-513.8\" font-family=\"Times New Roman,serif\" font-size=\"14.00\">gini = 0.149</text>\r\n",
       "<text text-anchor=\"middle\" x=\"700\" y=\"-498.8\" font-family=\"Times New Roman,serif\" font-size=\"14.00\">samples = 1689</text>\r\n",
       "<text text-anchor=\"middle\" x=\"700\" y=\"-483.8\" font-family=\"Times New Roman,serif\" font-size=\"14.00\">value = [137, 1552]</text>\r\n",
       "<text text-anchor=\"middle\" x=\"700\" y=\"-468.8\" font-family=\"Times New Roman,serif\" font-size=\"14.00\">class = e</text>\r\n",
       "</g>\r\n",
       "<!-- 12&#45;&gt;14 -->\r\n",
       "<g id=\"edge14\" class=\"edge\"><title>12&#45;&gt;14</title>\r\n",
       "<path fill=\"none\" stroke=\"black\" d=\"M609.878,-579.907C621.011,-570.469 632.954,-560.343 644.388,-550.649\"/>\r\n",
       "<polygon fill=\"black\" stroke=\"black\" points=\"646.842,-553.157 652.206,-544.021 642.315,-547.818 646.842,-553.157\"/>\r\n",
       "</g>\r\n",
       "<!-- 15 -->\r\n",
       "<g id=\"node16\" class=\"node\"><title>15</title>\r\n",
       "<polygon fill=\"#fae7d9\" stroke=\"black\" points=\"752,-425 648,-425 648,-342 752,-342 752,-425\"/>\r\n",
       "<text text-anchor=\"middle\" x=\"700\" y=\"-409.8\" font-family=\"Times New Roman,serif\" font-size=\"14.00\">habitat &lt;= 1.0</text>\r\n",
       "<text text-anchor=\"middle\" x=\"700\" y=\"-394.8\" font-family=\"Times New Roman,serif\" font-size=\"14.00\">gini = 0.494</text>\r\n",
       "<text text-anchor=\"middle\" x=\"700\" y=\"-379.8\" font-family=\"Times New Roman,serif\" font-size=\"14.00\">samples = 179</text>\r\n",
       "<text text-anchor=\"middle\" x=\"700\" y=\"-364.8\" font-family=\"Times New Roman,serif\" font-size=\"14.00\">value = [99, 80]</text>\r\n",
       "<text text-anchor=\"middle\" x=\"700\" y=\"-349.8\" font-family=\"Times New Roman,serif\" font-size=\"14.00\">class = p</text>\r\n",
       "</g>\r\n",
       "<!-- 14&#45;&gt;15 -->\r\n",
       "<g id=\"edge15\" class=\"edge\"><title>14&#45;&gt;15</title>\r\n",
       "<path fill=\"none\" stroke=\"black\" d=\"M700,-460.907C700,-452.649 700,-443.864 700,-435.302\"/>\r\n",
       "<polygon fill=\"black\" stroke=\"black\" points=\"703.5,-435.021 700,-425.021 696.5,-435.021 703.5,-435.021\"/>\r\n",
       "</g>\r\n",
       "<!-- 20 -->\r\n",
       "<g id=\"node21\" class=\"node\"><title>20</title>\r\n",
       "<polygon fill=\"#3ea0e6\" stroke=\"black\" points=\"899,-425 775,-425 775,-342 899,-342 899,-425\"/>\r\n",
       "<text text-anchor=\"middle\" x=\"837\" y=\"-409.8\" font-family=\"Times New Roman,serif\" font-size=\"14.00\">gill_spacing &lt;= 0.5</text>\r\n",
       "<text text-anchor=\"middle\" x=\"837\" y=\"-394.8\" font-family=\"Times New Roman,serif\" font-size=\"14.00\">gini = 0.049</text>\r\n",
       "<text text-anchor=\"middle\" x=\"837\" y=\"-379.8\" font-family=\"Times New Roman,serif\" font-size=\"14.00\">samples = 1510</text>\r\n",
       "<text text-anchor=\"middle\" x=\"837\" y=\"-364.8\" font-family=\"Times New Roman,serif\" font-size=\"14.00\">value = [38, 1472]</text>\r\n",
       "<text text-anchor=\"middle\" x=\"837\" y=\"-349.8\" font-family=\"Times New Roman,serif\" font-size=\"14.00\">class = e</text>\r\n",
       "</g>\r\n",
       "<!-- 14&#45;&gt;20 -->\r\n",
       "<g id=\"edge20\" class=\"edge\"><title>14&#45;&gt;20</title>\r\n",
       "<path fill=\"none\" stroke=\"black\" d=\"M747.531,-460.907C758.583,-451.469 770.44,-441.343 781.791,-431.649\"/>\r\n",
       "<polygon fill=\"black\" stroke=\"black\" points=\"784.221,-434.177 789.553,-425.021 779.675,-428.854 784.221,-434.177\"/>\r\n",
       "</g>\r\n",
       "<!-- 16 -->\r\n",
       "<g id=\"node17\" class=\"node\"><title>16</title>\r\n",
       "<polygon fill=\"#86c3ef\" stroke=\"black\" points=\"646.5,-306 523.5,-306 523.5,-223 646.5,-223 646.5,-306\"/>\r\n",
       "<text text-anchor=\"middle\" x=\"585\" y=\"-290.8\" font-family=\"Times New Roman,serif\" font-size=\"14.00\">stalk_shape &lt;= 0.5</text>\r\n",
       "<text text-anchor=\"middle\" x=\"585\" y=\"-275.8\" font-family=\"Times New Roman,serif\" font-size=\"14.00\">gini = 0.403</text>\r\n",
       "<text text-anchor=\"middle\" x=\"585\" y=\"-260.8\" font-family=\"Times New Roman,serif\" font-size=\"14.00\">samples = 111</text>\r\n",
       "<text text-anchor=\"middle\" x=\"585\" y=\"-245.8\" font-family=\"Times New Roman,serif\" font-size=\"14.00\">value = [31, 80]</text>\r\n",
       "<text text-anchor=\"middle\" x=\"585\" y=\"-230.8\" font-family=\"Times New Roman,serif\" font-size=\"14.00\">class = e</text>\r\n",
       "</g>\r\n",
       "<!-- 15&#45;&gt;16 -->\r\n",
       "<g id=\"edge16\" class=\"edge\"><title>15&#45;&gt;16</title>\r\n",
       "<path fill=\"none\" stroke=\"black\" d=\"M660.101,-341.907C651.003,-332.651 641.254,-322.732 631.893,-313.209\"/>\r\n",
       "<polygon fill=\"black\" stroke=\"black\" points=\"634.334,-310.699 624.828,-306.021 629.342,-315.606 634.334,-310.699\"/>\r\n",
       "</g>\r\n",
       "<!-- 19 -->\r\n",
       "<g id=\"node20\" class=\"node\"><title>19</title>\r\n",
       "<polygon fill=\"#e58139\" stroke=\"black\" points=\"763,-298.5 665,-298.5 665,-230.5 763,-230.5 763,-298.5\"/>\r\n",
       "<text text-anchor=\"middle\" x=\"714\" y=\"-283.3\" font-family=\"Times New Roman,serif\" font-size=\"14.00\">gini = 0.0</text>\r\n",
       "<text text-anchor=\"middle\" x=\"714\" y=\"-268.3\" font-family=\"Times New Roman,serif\" font-size=\"14.00\">samples = 68</text>\r\n",
       "<text text-anchor=\"middle\" x=\"714\" y=\"-253.3\" font-family=\"Times New Roman,serif\" font-size=\"14.00\">value = [68, 0]</text>\r\n",
       "<text text-anchor=\"middle\" x=\"714\" y=\"-238.3\" font-family=\"Times New Roman,serif\" font-size=\"14.00\">class = p</text>\r\n",
       "</g>\r\n",
       "<!-- 15&#45;&gt;19 -->\r\n",
       "<g id=\"edge19\" class=\"edge\"><title>15&#45;&gt;19</title>\r\n",
       "<path fill=\"none\" stroke=\"black\" d=\"M704.857,-341.907C706.138,-331.204 707.525,-319.615 708.822,-308.776\"/>\r\n",
       "<polygon fill=\"black\" stroke=\"black\" points=\"712.318,-309.012 710.031,-298.667 705.368,-308.18 712.318,-309.012\"/>\r\n",
       "</g>\r\n",
       "<!-- 17 -->\r\n",
       "<g id=\"node18\" class=\"node\"><title>17</title>\r\n",
       "<polygon fill=\"#399de5\" stroke=\"black\" points=\"624,-179.5 526,-179.5 526,-111.5 624,-111.5 624,-179.5\"/>\r\n",
       "<text text-anchor=\"middle\" x=\"575\" y=\"-164.3\" font-family=\"Times New Roman,serif\" font-size=\"14.00\">gini = 0.0</text>\r\n",
       "<text text-anchor=\"middle\" x=\"575\" y=\"-149.3\" font-family=\"Times New Roman,serif\" font-size=\"14.00\">samples = 80</text>\r\n",
       "<text text-anchor=\"middle\" x=\"575\" y=\"-134.3\" font-family=\"Times New Roman,serif\" font-size=\"14.00\">value = [0, 80]</text>\r\n",
       "<text text-anchor=\"middle\" x=\"575\" y=\"-119.3\" font-family=\"Times New Roman,serif\" font-size=\"14.00\">class = e</text>\r\n",
       "</g>\r\n",
       "<!-- 16&#45;&gt;17 -->\r\n",
       "<g id=\"edge17\" class=\"edge\"><title>16&#45;&gt;17</title>\r\n",
       "<path fill=\"none\" stroke=\"black\" d=\"M581.531,-222.907C580.616,-212.204 579.625,-200.615 578.699,-189.776\"/>\r\n",
       "<polygon fill=\"black\" stroke=\"black\" points=\"582.174,-189.333 577.835,-179.667 575.199,-189.929 582.174,-189.333\"/>\r\n",
       "</g>\r\n",
       "<!-- 18 -->\r\n",
       "<g id=\"node19\" class=\"node\"><title>18</title>\r\n",
       "<polygon fill=\"#e58139\" stroke=\"black\" points=\"740,-179.5 642,-179.5 642,-111.5 740,-111.5 740,-179.5\"/>\r\n",
       "<text text-anchor=\"middle\" x=\"691\" y=\"-164.3\" font-family=\"Times New Roman,serif\" font-size=\"14.00\">gini = 0.0</text>\r\n",
       "<text text-anchor=\"middle\" x=\"691\" y=\"-149.3\" font-family=\"Times New Roman,serif\" font-size=\"14.00\">samples = 31</text>\r\n",
       "<text text-anchor=\"middle\" x=\"691\" y=\"-134.3\" font-family=\"Times New Roman,serif\" font-size=\"14.00\">value = [31, 0]</text>\r\n",
       "<text text-anchor=\"middle\" x=\"691\" y=\"-119.3\" font-family=\"Times New Roman,serif\" font-size=\"14.00\">class = p</text>\r\n",
       "</g>\r\n",
       "<!-- 16&#45;&gt;18 -->\r\n",
       "<g id=\"edge18\" class=\"edge\"><title>16&#45;&gt;18</title>\r\n",
       "<path fill=\"none\" stroke=\"black\" d=\"M621.776,-222.907C632.273,-211.321 643.71,-198.698 654.208,-187.111\"/>\r\n",
       "<polygon fill=\"black\" stroke=\"black\" points=\"656.831,-189.428 660.951,-179.667 651.643,-184.728 656.831,-189.428\"/>\r\n",
       "</g>\r\n",
       "<!-- 21 -->\r\n",
       "<g id=\"node22\" class=\"node\"><title>21</title>\r\n",
       "<polygon fill=\"#399de5\" stroke=\"black\" points=\"892.5,-298.5 781.5,-298.5 781.5,-230.5 892.5,-230.5 892.5,-298.5\"/>\r\n",
       "<text text-anchor=\"middle\" x=\"837\" y=\"-283.3\" font-family=\"Times New Roman,serif\" font-size=\"14.00\">gini = 0.0</text>\r\n",
       "<text text-anchor=\"middle\" x=\"837\" y=\"-268.3\" font-family=\"Times New Roman,serif\" font-size=\"14.00\">samples = 1426</text>\r\n",
       "<text text-anchor=\"middle\" x=\"837\" y=\"-253.3\" font-family=\"Times New Roman,serif\" font-size=\"14.00\">value = [0, 1426]</text>\r\n",
       "<text text-anchor=\"middle\" x=\"837\" y=\"-238.3\" font-family=\"Times New Roman,serif\" font-size=\"14.00\">class = e</text>\r\n",
       "</g>\r\n",
       "<!-- 20&#45;&gt;21 -->\r\n",
       "<g id=\"edge21\" class=\"edge\"><title>20&#45;&gt;21</title>\r\n",
       "<path fill=\"none\" stroke=\"black\" d=\"M837,-341.907C837,-331.204 837,-319.615 837,-308.776\"/>\r\n",
       "<polygon fill=\"black\" stroke=\"black\" points=\"840.5,-308.667 837,-298.667 833.5,-308.667 840.5,-308.667\"/>\r\n",
       "</g>\r\n",
       "<!-- 22 -->\r\n",
       "<g id=\"node23\" class=\"node\"><title>22</title>\r\n",
       "<polygon fill=\"#ddeefa\" stroke=\"black\" points=\"1033.5,-306 910.5,-306 910.5,-223 1033.5,-223 1033.5,-306\"/>\r\n",
       "<text text-anchor=\"middle\" x=\"972\" y=\"-290.8\" font-family=\"Times New Roman,serif\" font-size=\"14.00\">stalk_shape &lt;= 0.5</text>\r\n",
       "<text text-anchor=\"middle\" x=\"972\" y=\"-275.8\" font-family=\"Times New Roman,serif\" font-size=\"14.00\">gini = 0.495</text>\r\n",
       "<text text-anchor=\"middle\" x=\"972\" y=\"-260.8\" font-family=\"Times New Roman,serif\" font-size=\"14.00\">samples = 84</text>\r\n",
       "<text text-anchor=\"middle\" x=\"972\" y=\"-245.8\" font-family=\"Times New Roman,serif\" font-size=\"14.00\">value = [38, 46]</text>\r\n",
       "<text text-anchor=\"middle\" x=\"972\" y=\"-230.8\" font-family=\"Times New Roman,serif\" font-size=\"14.00\">class = e</text>\r\n",
       "</g>\r\n",
       "<!-- 20&#45;&gt;22 -->\r\n",
       "<g id=\"edge22\" class=\"edge\"><title>20&#45;&gt;22</title>\r\n",
       "<path fill=\"none\" stroke=\"black\" d=\"M883.838,-341.907C894.728,-332.469 906.412,-322.343 917.597,-312.649\"/>\r\n",
       "<polygon fill=\"black\" stroke=\"black\" points=\"919.981,-315.215 925.245,-306.021 915.396,-309.925 919.981,-315.215\"/>\r\n",
       "</g>\r\n",
       "<!-- 23 -->\r\n",
       "<g id=\"node24\" class=\"node\"><title>23</title>\r\n",
       "<polygon fill=\"#60b0ea\" stroke=\"black\" points=\"1022,-187 832,-187 832,-104 1022,-104 1022,-187\"/>\r\n",
       "<text text-anchor=\"middle\" x=\"927\" y=\"-171.8\" font-family=\"Times New Roman,serif\" font-size=\"14.00\">stalk_color_below_ring &lt;= 5.5</text>\r\n",
       "<text text-anchor=\"middle\" x=\"927\" y=\"-156.8\" font-family=\"Times New Roman,serif\" font-size=\"14.00\">gini = 0.274</text>\r\n",
       "<text text-anchor=\"middle\" x=\"927\" y=\"-141.8\" font-family=\"Times New Roman,serif\" font-size=\"14.00\">samples = 55</text>\r\n",
       "<text text-anchor=\"middle\" x=\"927\" y=\"-126.8\" font-family=\"Times New Roman,serif\" font-size=\"14.00\">value = [9, 46]</text>\r\n",
       "<text text-anchor=\"middle\" x=\"927\" y=\"-111.8\" font-family=\"Times New Roman,serif\" font-size=\"14.00\">class = e</text>\r\n",
       "</g>\r\n",
       "<!-- 22&#45;&gt;23 -->\r\n",
       "<g id=\"edge23\" class=\"edge\"><title>22&#45;&gt;23</title>\r\n",
       "<path fill=\"none\" stroke=\"black\" d=\"M956.387,-222.907C953.106,-214.377 949.609,-205.284 946.214,-196.456\"/>\r\n",
       "<polygon fill=\"black\" stroke=\"black\" points=\"949.441,-195.098 942.585,-187.021 942.908,-197.611 949.441,-195.098\"/>\r\n",
       "</g>\r\n",
       "<!-- 26 -->\r\n",
       "<g id=\"node27\" class=\"node\"><title>26</title>\r\n",
       "<polygon fill=\"#e58139\" stroke=\"black\" points=\"1138,-179.5 1040,-179.5 1040,-111.5 1138,-111.5 1138,-179.5\"/>\r\n",
       "<text text-anchor=\"middle\" x=\"1089\" y=\"-164.3\" font-family=\"Times New Roman,serif\" font-size=\"14.00\">gini = 0.0</text>\r\n",
       "<text text-anchor=\"middle\" x=\"1089\" y=\"-149.3\" font-family=\"Times New Roman,serif\" font-size=\"14.00\">samples = 29</text>\r\n",
       "<text text-anchor=\"middle\" x=\"1089\" y=\"-134.3\" font-family=\"Times New Roman,serif\" font-size=\"14.00\">value = [29, 0]</text>\r\n",
       "<text text-anchor=\"middle\" x=\"1089\" y=\"-119.3\" font-family=\"Times New Roman,serif\" font-size=\"14.00\">class = p</text>\r\n",
       "</g>\r\n",
       "<!-- 22&#45;&gt;26 -->\r\n",
       "<g id=\"edge26\" class=\"edge\"><title>22&#45;&gt;26</title>\r\n",
       "<path fill=\"none\" stroke=\"black\" d=\"M1012.59,-222.907C1024.29,-211.211 1037.04,-198.457 1048.72,-186.78\"/>\r\n",
       "<polygon fill=\"black\" stroke=\"black\" points=\"1051.24,-189.213 1055.83,-179.667 1046.29,-184.263 1051.24,-189.213\"/>\r\n",
       "</g>\r\n",
       "<!-- 24 -->\r\n",
       "<g id=\"node25\" class=\"node\"><title>24</title>\r\n",
       "<polygon fill=\"#e58139\" stroke=\"black\" points=\"915.5,-68 824.5,-68 824.5,-0 915.5,-0 915.5,-68\"/>\r\n",
       "<text text-anchor=\"middle\" x=\"870\" y=\"-52.8\" font-family=\"Times New Roman,serif\" font-size=\"14.00\">gini = 0.0</text>\r\n",
       "<text text-anchor=\"middle\" x=\"870\" y=\"-37.8\" font-family=\"Times New Roman,serif\" font-size=\"14.00\">samples = 9</text>\r\n",
       "<text text-anchor=\"middle\" x=\"870\" y=\"-22.8\" font-family=\"Times New Roman,serif\" font-size=\"14.00\">value = [9, 0]</text>\r\n",
       "<text text-anchor=\"middle\" x=\"870\" y=\"-7.8\" font-family=\"Times New Roman,serif\" font-size=\"14.00\">class = p</text>\r\n",
       "</g>\r\n",
       "<!-- 23&#45;&gt;24 -->\r\n",
       "<g id=\"edge24\" class=\"edge\"><title>23&#45;&gt;24</title>\r\n",
       "<path fill=\"none\" stroke=\"black\" d=\"M905.775,-103.726C901.265,-95.0615 896.494,-85.8962 891.957,-77.1802\"/>\r\n",
       "<polygon fill=\"black\" stroke=\"black\" points=\"895.056,-75.5537 887.334,-68.2996 888.847,-78.7859 895.056,-75.5537\"/>\r\n",
       "</g>\r\n",
       "<!-- 25 -->\r\n",
       "<g id=\"node26\" class=\"node\"><title>25</title>\r\n",
       "<polygon fill=\"#399de5\" stroke=\"black\" points=\"1032,-68 934,-68 934,-0 1032,-0 1032,-68\"/>\r\n",
       "<text text-anchor=\"middle\" x=\"983\" y=\"-52.8\" font-family=\"Times New Roman,serif\" font-size=\"14.00\">gini = 0.0</text>\r\n",
       "<text text-anchor=\"middle\" x=\"983\" y=\"-37.8\" font-family=\"Times New Roman,serif\" font-size=\"14.00\">samples = 46</text>\r\n",
       "<text text-anchor=\"middle\" x=\"983\" y=\"-22.8\" font-family=\"Times New Roman,serif\" font-size=\"14.00\">value = [0, 46]</text>\r\n",
       "<text text-anchor=\"middle\" x=\"983\" y=\"-7.8\" font-family=\"Times New Roman,serif\" font-size=\"14.00\">class = e</text>\r\n",
       "</g>\r\n",
       "<!-- 23&#45;&gt;25 -->\r\n",
       "<g id=\"edge25\" class=\"edge\"><title>23&#45;&gt;25</title>\r\n",
       "<path fill=\"none\" stroke=\"black\" d=\"M947.852,-103.726C952.237,-95.1527 956.872,-86.0891 961.288,-77.4555\"/>\r\n",
       "<polygon fill=\"black\" stroke=\"black\" points=\"964.533,-78.7965 965.97,-68.2996 958.301,-75.6092 964.533,-78.7965\"/>\r\n",
       "</g>\r\n",
       "</g>\r\n",
       "</svg>\r\n"
      ],
      "text/plain": [
       "<graphviz.files.Source at 0x10c367622b0>"
      ]
     },
     "execution_count": 31,
     "metadata": {},
     "output_type": "execute_result"
    }
   ],
   "source": [
    "export_graphviz(dtc, out_file='tree.dot', class_names=['p','e'],\n",
    "              feature_names=X.columns, impurity=True, filled=True)\n",
    "\n",
    "import graphviz \n",
    "\n",
    "with open('tree.dot') as f:\n",
    "    dot_graph = f.read()\n",
    "    \n",
    "graphviz.Source(dot_graph)"
   ]
  },
  {
   "cell_type": "code",
   "execution_count": null,
   "metadata": {},
   "outputs": [],
   "source": []
  }
 ],
 "metadata": {
  "kernelspec": {
   "display_name": "Python 3",
   "language": "python",
   "name": "python3"
  },
  "language_info": {
   "codemirror_mode": {
    "name": "ipython",
    "version": 3
   },
   "file_extension": ".py",
   "mimetype": "text/x-python",
   "name": "python",
   "nbconvert_exporter": "python",
   "pygments_lexer": "ipython3",
   "version": "3.7.3"
  }
 },
 "nbformat": 4,
 "nbformat_minor": 2
}
